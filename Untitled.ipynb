{
 "cells": [
  {
   "cell_type": "markdown",
   "metadata": {},
   "source": [
    "### Exploring Data"
   ]
  },
  {
   "cell_type": "code",
   "execution_count": 1,
   "metadata": {},
   "outputs": [],
   "source": [
    "cities = [{}]"
   ]
  },
  {
   "cell_type": "code",
   "execution_count": null,
   "metadata": {},
   "outputs": [],
   "source": [
    "city_names = []"
   ]
  },
  {
   "cell_type": "code",
   "execution_count": null,
   "metadata": {},
   "outputs": [],
   "source": [
    "for city in cities:\n",
    "    city_name = city['City']\n",
    "    city_names.append(city_name)"
   ]
  },
  {
   "cell_type": "code",
   "execution_count": null,
   "metadata": {},
   "outputs": [],
   "source": [
    "city_names = [city['City'] for city in cities]\n",
    "\n",
    "# reducing by that attribute value\n",
    "\n",
    "# {'':'', ''}\n",
    "\n",
    "# 'chicago '"
   ]
  },
  {
   "cell_type": "code",
   "execution_count": 3,
   "metadata": {},
   "outputs": [],
   "source": [
    "url = \"https://en.wikipedia.org/wiki/List_of_United_States_cities_by_population\""
   ]
  },
  {
   "cell_type": "code",
   "execution_count": 4,
   "metadata": {},
   "outputs": [],
   "source": [
    "import pandas as pd"
   ]
  },
  {
   "cell_type": "code",
   "execution_count": 6,
   "metadata": {},
   "outputs": [],
   "source": [
    "tables = pd.read_html(url)\n",
    "\n",
    "city_df = tables[4]\n",
    "\n",
    "cities = city_df.to_dict('records')"
   ]
  },
  {
   "cell_type": "code",
   "execution_count": 35,
   "metadata": {},
   "outputs": [
    {
     "data": {
      "text/plain": [
       "[{'name': 'New York City[d]', 'population': 8336817},\n",
       " {'name': 'Los Angeles', 'population': 3979576},\n",
       " {'name': 'Chicago', 'population': 2693976},\n",
       " {'name': 'Houston[3]', 'population': 2320268}]"
      ]
     },
     "execution_count": 35,
     "metadata": {},
     "output_type": "execute_result"
    }
   ],
   "source": [
    "[dict(zip(['name', 'population'], \n",
    "          (city['City'], city['2019estimate']))) \n",
    " for city in cities if city['2019estimate'] > 2_000_000]\n",
    "\n",
    "# list(map(lambda city: city['2019estimate'], cities))"
   ]
  },
  {
   "cell_type": "code",
   "execution_count": 11,
   "metadata": {},
   "outputs": [],
   "source": [
    "top_cities = []\n",
    "for city in cities:\n",
    "    if city['2019estimate'] > 2_000_000: # True or False\n",
    "        top_cities.append(city)"
   ]
  },
  {
   "cell_type": "code",
   "execution_count": 24,
   "metadata": {},
   "outputs": [
    {
     "name": "stdout",
     "output_type": "stream",
     "text": [
      "this is not truthy\n"
     ]
    }
   ],
   "source": [
    "if []:\n",
    "    print('this is truthy')\n",
    "else:\n",
    "    print('this is not truthy')"
   ]
  },
  {
   "cell_type": "code",
   "execution_count": 14,
   "metadata": {},
   "outputs": [
    {
     "data": {
      "text/plain": [
       "[{'2019rank': 1,\n",
       "  'City': 'New York City[d]',\n",
       "  'State[c]': 'New York',\n",
       "  '2019estimate': 8336817,\n",
       "  '2010Census': 8175133,\n",
       "  'Change': '+1.98%',\n",
       "  '2016 land area': '301.5\\xa0sq\\xa0mi',\n",
       "  '2016 land area.1': '780.9\\xa0km2',\n",
       "  '2016 population density': '28,317/sq\\xa0mi',\n",
       "  '2016 population density.1': '10,933/km2',\n",
       "  'Location': '40°39′49″N 73°56′19″W\\ufeff / \\ufeff40.6635°N 73.9387°W'},\n",
       " {'2019rank': 2,\n",
       "  'City': 'Los Angeles',\n",
       "  'State[c]': 'California',\n",
       "  '2019estimate': 3979576,\n",
       "  '2010Census': 3792621,\n",
       "  'Change': '+4.93%',\n",
       "  '2016 land area': '468.7\\xa0sq\\xa0mi',\n",
       "  '2016 land area.1': '1,213.9\\xa0km2',\n",
       "  '2016 population density': '8,484/sq\\xa0mi',\n",
       "  '2016 population density.1': '3,276/km2',\n",
       "  'Location': '34°01′10″N 118°24′39″W\\ufeff / \\ufeff34.0194°N 118.4108°W'},\n",
       " {'2019rank': 3,\n",
       "  'City': 'Chicago',\n",
       "  'State[c]': 'Illinois',\n",
       "  '2019estimate': 2693976,\n",
       "  '2010Census': 2695598,\n",
       "  'Change': '−0.06%',\n",
       "  '2016 land area': '227.3\\xa0sq\\xa0mi',\n",
       "  '2016 land area.1': '588.7\\xa0km2',\n",
       "  '2016 population density': '11,900/sq\\xa0mi',\n",
       "  '2016 population density.1': '4,600/km2',\n",
       "  'Location': '41°50′15″N 87°40′54″W\\ufeff / \\ufeff41.8376°N 87.6818°W'},\n",
       " {'2019rank': 4,\n",
       "  'City': 'Houston[3]',\n",
       "  'State[c]': 'Texas',\n",
       "  '2019estimate': 2320268,\n",
       "  '2010Census': 2100263,\n",
       "  'Change': '+10.48%',\n",
       "  '2016 land area': '637.5\\xa0sq\\xa0mi',\n",
       "  '2016 land area.1': '1,651.1\\xa0km2',\n",
       "  '2016 population density': '3,613/sq\\xa0mi',\n",
       "  '2016 population density.1': '1,395/km2',\n",
       "  'Location': '29°47′12″N 95°23′27″W\\ufeff / \\ufeff29.7866°N 95.3909°W'}]"
      ]
     },
     "execution_count": 14,
     "metadata": {},
     "output_type": "execute_result"
    }
   ],
   "source": [
    "[city for city in cities if city['2019estimate'] > 2_000_000]"
   ]
  },
  {
   "cell_type": "code",
   "execution_count": null,
   "metadata": {},
   "outputs": [],
   "source": []
  }
 ],
 "metadata": {
  "kernelspec": {
   "display_name": "Python 3",
   "language": "python",
   "name": "python3"
  },
  "language_info": {
   "codemirror_mode": {
    "name": "ipython",
    "version": 3
   },
   "file_extension": ".py",
   "mimetype": "text/x-python",
   "name": "python",
   "nbconvert_exporter": "python",
   "pygments_lexer": "ipython3",
   "version": "3.8.3"
  }
 },
 "nbformat": 4,
 "nbformat_minor": 4
}
