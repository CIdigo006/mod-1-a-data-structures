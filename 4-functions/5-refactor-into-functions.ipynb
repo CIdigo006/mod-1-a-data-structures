{
 "cells": [
  {
   "cell_type": "markdown",
   "metadata": {},
   "source": [
    "# Refactoring With Functions"
   ]
  },
  {
   "cell_type": "markdown",
   "metadata": {},
   "source": [
    "### Introduction"
   ]
  },
  {
   "cell_type": "markdown",
   "metadata": {},
   "source": [
    "One of the benefits of functions is that it allows us to write reusable code.  In this lesson, we'll see how we can begin to make our code more flexible through the use of functions and function arguments."
   ]
  },
  {
   "cell_type": "markdown",
   "metadata": {},
   "source": [
    "Let's load up our data, and then we can see how to make our code more reusable."
   ]
  },
  {
   "cell_type": "code",
   "execution_count": 1,
   "metadata": {},
   "outputs": [],
   "source": [
    "import pandas as pd\n",
    "url = \"https://raw.githubusercontent.com/eng-6-22/mod-1-a-data-structures/master/4-functions/imdb_movies.csv\"\n",
    "df = pd.read_csv(url)\n",
    "movies = df.to_dict('records')"
   ]
  },
  {
   "cell_type": "markdown",
   "metadata": {},
   "source": [
    "### Looking for arguments"
   ]
  },
  {
   "cell_type": "markdown",
   "metadata": {},
   "source": [
    "For example, in the earlier lesson, the first thing we did was see if the movie was since 2015."
   ]
  },
  {
   "cell_type": "code",
   "execution_count": 4,
   "metadata": {},
   "outputs": [],
   "source": [
    "movies_recent = [movie for movie in movies \n",
    "                 if movie['year'] >= 2015]"
   ]
  },
  {
   "cell_type": "markdown",
   "metadata": {},
   "source": [
    "But what if we wanted to change make the year more flexible.  Well we could use an argument to make our code more flexible."
   ]
  },
  {
   "cell_type": "code",
   "execution_count": 6,
   "metadata": {},
   "outputs": [],
   "source": [
    "def movies_since(year):\n",
    "    return [movie for movie in movies if movie['year'] >= year]"
   ]
  },
  {
   "cell_type": "code",
   "execution_count": 12,
   "metadata": {},
   "outputs": [
    {
     "data": {
      "text/plain": [
       "[{'title': 'Batman v Superman: Dawn of Justice',\n",
       "  'genre': 'Action',\n",
       "  'budget': 250000000,\n",
       "  'runtime': 151.0,\n",
       "  'year': 2016,\n",
       "  'month': 3,\n",
       "  'revenue': 873260194},\n",
       " {'title': 'Captain America: Civil War',\n",
       "  'genre': 'Adventure',\n",
       "  'budget': 250000000,\n",
       "  'runtime': 147.0,\n",
       "  'year': 2016,\n",
       "  'month': 4,\n",
       "  'revenue': 1153304495}]"
      ]
     },
     "execution_count": 12,
     "metadata": {},
     "output_type": "execute_result"
    }
   ],
   "source": [
    "movies_since(2016)[:2]"
   ]
  },
  {
   "cell_type": "markdown",
   "metadata": {},
   "source": [
    "How do you see where to refactor methods?  Well a good place to start is to look for what's hardcoded into the previous code.  That is look, for the `green` or the `red` in the code."
   ]
  },
  {
   "cell_type": "code",
   "execution_count": null,
   "metadata": {},
   "outputs": [],
   "source": [
    "[movie for movie in movies if movie['year'] >= 2015]"
   ]
  },
  {
   "cell_type": "markdown",
   "metadata": {},
   "source": [
    "> So what's hardcoded above, is the key `year` and the value of `2015`."
   ]
  },
  {
   "cell_type": "markdown",
   "metadata": {},
   "source": [
    "Following that rule, notice then that we could have specified different keys as well."
   ]
  },
  {
   "cell_type": "code",
   "execution_count": 16,
   "metadata": {},
   "outputs": [],
   "source": [
    "def movies_where_gt(key, value):\n",
    "    return [movie for movie in movies \n",
    "            if movie[key] >= value]"
   ]
  },
  {
   "cell_type": "code",
   "execution_count": 19,
   "metadata": {},
   "outputs": [],
   "source": [
    "# movies_where_gt('revenue', 880674609)"
   ]
  },
  {
   "cell_type": "markdown",
   "metadata": {},
   "source": [
    "### But balance"
   ]
  },
  {
   "cell_type": "markdown",
   "metadata": {},
   "source": [
    "Can we refactor too much?  Absolutely.  There are always tradeoffs.  One downside of refactoring, is that our code sometimes becomes less clear.  For example, `movies_where_gt` is less clear than `movies_since(year)`.  \n",
    "\n",
    "So a good rule of thumb is to only refactor when we see repetition in our code.  So for example, if we saw that we needed to filter our movies by both `revenue` and `year` -- then it was time to remove the duplication."
   ]
  },
  {
   "cell_type": "markdown",
   "metadata": {},
   "source": [
    "### Another refactoring"
   ]
  },
  {
   "cell_type": "markdown",
   "metadata": {},
   "source": [
    "In the last lesson, we also had a `find_by_genre` method. \n",
    "\n",
    "```python\n",
    "\n",
    "def find_by_genre(movies, genre_name):\n",
    "    genre_name = genre_name.title()\n",
    "    return [movie for movie in movies \n",
    "    if movie['genre'] == genre_name]\n",
    "```\n",
    "\n",
    "Let's say that we wanted the ability to return movies with matching year, genre, or title, etc.  Change the function to so that we return movies where checks if any attribute matches."
   ]
  },
  {
   "cell_type": "code",
   "execution_count": null,
   "metadata": {},
   "outputs": [],
   "source": [
    "def find_by(movies, category, value):\n",
    "    pass\n",
    "\n",
    "# find_by(movies, 'year', 2016)"
   ]
  },
  {
   "cell_type": "markdown",
   "metadata": {},
   "source": [
    "### Using Helper Methods "
   ]
  },
  {
   "cell_type": "markdown",
   "metadata": {},
   "source": [
    "When we changed `find_by_genre` to the `find_by` we removed some of the functionality that could have been helpful.  To be specific, we removed the functionality that made the search case-insensitive.\n",
    "\n",
    "`genre_name = genre_name.title()`\n",
    "\n",
    "We did this because we can't call the title method on an integer.\n",
    "\n",
    "But we can get reduce our repetition and still have this specific functionality with something like the following:"
   ]
  },
  {
   "cell_type": "code",
   "execution_count": 27,
   "metadata": {},
   "outputs": [],
   "source": [
    "def find_by(movies, category, value):\n",
    "    return [movie for movie in movies \n",
    "    if movie[category] == value]\n",
    "\n",
    "def find_by_genre(movies, genre_name):\n",
    "    genre_name = genre_name.capitalize()\n",
    "    return find_by(movies, 'genre', genre_name)"
   ]
  },
  {
   "cell_type": "markdown",
   "metadata": {},
   "source": [
    "So by using our helper method of `find_by` we were able to avoid repeating ourselves yet still have a `find_by_genre` method that has all of the features of our previous method."
   ]
  },
  {
   "cell_type": "markdown",
   "metadata": {},
   "source": [
    "### Using Default Arguments"
   ]
  },
  {
   "cell_type": "markdown",
   "metadata": {},
   "source": [
    "Let's take another look at our `movies_since` argument."
   ]
  },
  {
   "cell_type": "code",
   "execution_count": 29,
   "metadata": {},
   "outputs": [],
   "source": [
    "def movies_since(year):\n",
    "    return [movie for movie in movies \n",
    "            if movie['year'] >= year]"
   ]
  },
  {
   "cell_type": "markdown",
   "metadata": {},
   "source": [
    "What if we wanted a method that could allow us to find movies only before a year, or only after a year, or both."
   ]
  },
  {
   "cell_type": "markdown",
   "metadata": {},
   "source": [
    "We can achieve this with the use of default arguments."
   ]
  },
  {
   "cell_type": "code",
   "execution_count": 36,
   "metadata": {},
   "outputs": [],
   "source": [
    "def movies_from(earliest_year = float(\"-inf\"), latest_year = float(\"inf\")):\n",
    "    return [movie for movie in movies \n",
    "            if earliest_year <= movie['year'] <= latest_year]"
   ]
  },
  {
   "cell_type": "code",
   "execution_count": 44,
   "metadata": {},
   "outputs": [],
   "source": [
    "selected_movies = movies_from(earliest_year = 2014, latest_year = 2015)"
   ]
  },
  {
   "cell_type": "code",
   "execution_count": 45,
   "metadata": {},
   "outputs": [
    {
     "data": {
      "text/plain": [
       "{2014, 2015}"
      ]
     },
     "execution_count": 45,
     "metadata": {},
     "output_type": "execute_result"
    }
   ],
   "source": [
    "set([movie['year'] for movie in selected_movies])"
   ]
  },
  {
   "cell_type": "code",
   "execution_count": 46,
   "metadata": {},
   "outputs": [],
   "source": [
    "selected_movies = movies_from(earliest_year = 2013)"
   ]
  },
  {
   "cell_type": "code",
   "execution_count": 47,
   "metadata": {},
   "outputs": [
    {
     "data": {
      "text/plain": [
       "{2013, 2014, 2015, 2016}"
      ]
     },
     "execution_count": 47,
     "metadata": {},
     "output_type": "execute_result"
    }
   ],
   "source": [
    "set([movie['year'] for movie in selected_movies])"
   ]
  },
  {
   "cell_type": "markdown",
   "metadata": {},
   "source": [
    "So as we can see, default arguments provide us with methods that have different levels of specificity."
   ]
  },
  {
   "cell_type": "markdown",
   "metadata": {},
   "source": [
    "### Your turn"
   ]
  },
  {
   "cell_type": "markdown",
   "metadata": {},
   "source": [
    "In the previous lesson, we wrote code to select the top 100 movies by revenue."
   ]
  },
  {
   "cell_type": "code",
   "execution_count": 50,
   "metadata": {},
   "outputs": [],
   "source": [
    "top_100_revenue = sorted(movies,\n",
    "       key = lambda movie: movie['revenue'],\n",
    "       reverse = True)[:100]"
   ]
  },
  {
   "cell_type": "markdown",
   "metadata": {},
   "source": [
    "Write a method called `top` that: \n",
    "1. Returns the top 100 movies by any category\n",
    "    * For example, it should work for budget as well\n",
    "2. Limits to the top 100 as the default, but allows for specifying any limit.\n",
    "3. Has an argument `desc` that by default is `True` and sorts from top to bottom. "
   ]
  },
  {
   "cell_type": "code",
   "execution_count": 2,
   "metadata": {},
   "outputs": [],
   "source": [
    "def top(movies, category, limit, desc):\n",
    "    pass"
   ]
  },
  {
   "cell_type": "code",
   "execution_count": 58,
   "metadata": {},
   "outputs": [
    {
     "data": {
      "text/plain": [
       "[{'title': '102 Dalmatians',\n",
       "  'genre': 'Comedy',\n",
       "  'budget': 85000000,\n",
       "  'runtime': 100.0,\n",
       "  'year': 2000,\n",
       "  'month': 10,\n",
       "  'revenue': 183611771},\n",
       " {'title': '13 Going on 30',\n",
       "  'genre': 'Comedy',\n",
       "  'budget': 37000000,\n",
       "  'runtime': 98.0,\n",
       "  'year': 2004,\n",
       "  'month': 4,\n",
       "  'revenue': 96455697}]"
      ]
     },
     "execution_count": 58,
     "metadata": {},
     "output_type": "execute_result"
    }
   ],
   "source": [
    "top(movies, 'title', limit = 2, desc = False)\n",
    "\n",
    "# [{'title': '102 Dalmatians',\n",
    "#   'genre': 'Comedy',\n",
    "#   'budget': 85000000,\n",
    "#   'runtime': 100.0,\n",
    "#   'year': 2000,\n",
    "#   'month': 10,\n",
    "#   'revenue': 183611771},\n",
    "#  {'title': '13 Going on 30',\n",
    "#   'genre': 'Comedy',\n",
    "#   'budget': 37000000,\n",
    "#   'runtime': 98.0,\n",
    "#   'year': 2004,\n",
    "#   'month': 4,\n",
    "#   'revenue': 96455697}]"
   ]
  },
  {
   "cell_type": "markdown",
   "metadata": {},
   "source": [
    "### Summary"
   ]
  },
  {
   "cell_type": "markdown",
   "metadata": {},
   "source": [
    "In this lesson we saw how to use function arguments to make our code more reusable.  We identified what to turn into an argument by looking at the values that were hard-coded.  By turning these values into arguments, we allow ourselves to alter the values when executing the function.\n",
    "\n",
    "We saw that when making our code more flexible, one tradeoff is that our code sometimes becomes less clear.  We should consider this when refactoring, and hold off on making our code more flexible until we see a benefit to the flexibility.\n",
    "\n",
    "Finally, we saw that through the use of a helper method that we could reuse the code that is shared between functions while still providing unique functionality when needed.\n",
    "\n"
   ]
  },
  {
   "cell_type": "markdown",
   "metadata": {},
   "source": [
    "* Challenges"
   ]
  },
  {
   "cell_type": "code",
   "execution_count": 1,
   "metadata": {},
   "outputs": [],
   "source": [
    "def find_by(movies, category, value):\n",
    "    return [movie for movie in movies \n",
    "    if movie[category] == value]"
   ]
  },
  {
   "cell_type": "code",
   "execution_count": null,
   "metadata": {},
   "outputs": [],
   "source": [
    "def top(movies, category, limit = 100, desc = True):\n",
    "    pass"
   ]
  }
 ],
 "metadata": {
  "kernelspec": {
   "display_name": "Python 3 (ipykernel)",
   "language": "python",
   "name": "python3"
  },
  "language_info": {
   "codemirror_mode": {
    "name": "ipython",
    "version": 3
   },
   "file_extension": ".py",
   "mimetype": "text/x-python",
   "name": "python",
   "nbconvert_exporter": "python",
   "pygments_lexer": "ipython3",
   "version": "3.9.10"
  }
 },
 "nbformat": 4,
 "nbformat_minor": 4
}
