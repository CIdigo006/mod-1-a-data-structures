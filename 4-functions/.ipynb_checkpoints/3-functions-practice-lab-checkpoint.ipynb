{
 "cells": [
  {
   "cell_type": "markdown",
   "metadata": {},
   "source": [
    "# Functions Practice Lab"
   ]
  },
  {
   "cell_type": "markdown",
   "metadata": {},
   "source": [
    "### Introduction"
   ]
  },
  {
   "cell_type": "markdown",
   "metadata": {},
   "source": [
    "In this lesson, let's continue to practice using functions to both automate operations and to make our codebase more flexible.  We'll do so by working with our Spotify data."
   ]
  },
  {
   "cell_type": "markdown",
   "metadata": {},
   "source": [
    "### Loading our Data"
   ]
  },
  {
   "cell_type": "markdown",
   "metadata": {},
   "source": [
    "Let's get started by just practicing how to writing a function.  Write a function called `get_songs` that returns has a return value of  `['song 1', 'song 2']`."
   ]
  },
  {
   "cell_type": "code",
   "execution_count": 85,
   "metadata": {},
   "outputs": [],
   "source": [
    "# write code here"
   ]
  },
  {
   "cell_type": "markdown",
   "metadata": {},
   "source": [
    "Then we'll test that we set our function up correctly."
   ]
  },
  {
   "cell_type": "code",
   "execution_count": 84,
   "metadata": {},
   "outputs": [],
   "source": [
    "get_songs()\n",
    "\n",
    "# ['song 1', 'song 2']"
   ]
  },
  {
   "cell_type": "markdown",
   "metadata": {},
   "source": [
    "Now let's write a function called `scrape_songs` that pulls the list of songs from spotify and returns a list of dictionaries representing the top streaming songs.  We can write the function based off of the following code."
   ]
  },
  {
   "cell_type": "code",
   "execution_count": 3,
   "metadata": {},
   "outputs": [],
   "source": [
    "import pandas as pd"
   ]
  },
  {
   "cell_type": "code",
   "execution_count": 7,
   "metadata": {},
   "outputs": [],
   "source": [
    "# url = 'https://en.wikipedia.org/wiki/List_of_most-streamed_songs_on_Spotify'\n",
    "# songs_table = pd.read_html(url)[0]\n",
    "# top_songs = songs_table.to_dict('records')"
   ]
  },
  {
   "cell_type": "code",
   "execution_count": 86,
   "metadata": {},
   "outputs": [],
   "source": [
    "# write code here"
   ]
  },
  {
   "cell_type": "markdown",
   "metadata": {},
   "source": [
    "Then let's test out the code.  We can assign the result to the variable `top_songs`."
   ]
  },
  {
   "cell_type": "code",
   "execution_count": 54,
   "metadata": {},
   "outputs": [],
   "source": [
    "top_songs = scrape_songs()"
   ]
  },
  {
   "cell_type": "code",
   "execution_count": 55,
   "metadata": {},
   "outputs": [
    {
     "data": {
      "text/plain": [
       "[{'Rank': '1',\n",
       "  'Song': '\"Shape of You\"',\n",
       "  'Artist(s)': 'Ed Sheeran',\n",
       "  'Album': '÷',\n",
       "  'Streams(Millions)': '2621',\n",
       "  'Date published': '6 January 2017'},\n",
       " {'Rank': '2',\n",
       "  'Song': '\"Rockstar\"',\n",
       "  'Artist(s)': 'Post Malone featuring 21 Savage',\n",
       "  'Album': 'Beerbongs & Bentleys',\n",
       "  'Streams(Millions)': '2033',\n",
       "  'Date published': '15 September 2017'}]"
      ]
     },
     "execution_count": 55,
     "metadata": {},
     "output_type": "execute_result"
    }
   ],
   "source": [
    "top_songs[:2]\n",
    "\n",
    "# [{'Rank': '1',\n",
    "#   'Song': '\"Shape of You\"',\n",
    "#   'Artist(s)': 'Ed Sheeran',\n",
    "#   'Album': '÷',\n",
    "#   'Streams(Millions)': '2621',\n",
    "#   'Date published': '6 January 2017'},\n",
    "#  {'Rank': '2',\n",
    "#   'Song': '\"Rockstar\"',\n",
    "#   'Artist(s)': 'Post Malone featuring 21 Savage',\n",
    "#   'Album': 'Beerbongs & Bentleys',\n",
    "#   'Streams(Millions)': '2033',\n",
    "#   'Date published': '15 September 2017'}]"
   ]
  },
  {
   "cell_type": "code",
   "execution_count": 56,
   "metadata": {},
   "outputs": [
    {
     "data": {
      "text/plain": [
       "{'Rank': '100',\n",
       " 'Song': '\"Rockabye\"',\n",
       " 'Artist(s)': 'Clean Bandit featuring Sean Paul and Anne-Marie',\n",
       " 'Album': 'What Is Love? & Speak Your Mind',\n",
       " 'Streams(Millions)': '1027',\n",
       " 'Date published': '21 October 2016'}"
      ]
     },
     "execution_count": 56,
     "metadata": {},
     "output_type": "execute_result"
    }
   ],
   "source": [
    "top_songs[-1]\n",
    "\n",
    "# {'Rank': '100',\n",
    "#  'Song': '\"Rockabye\"',\n",
    "#  'Artist(s)': 'Clean Bandit featuring Sean Paul and Anne-Marie',\n",
    "#  'Album': 'What Is Love? & Speak Your Mind',\n",
    "#  'Streams(Millions)': '1027',\n",
    "#  'Date published': '21 October 2016'}"
   ]
  },
  {
   "cell_type": "markdown",
   "metadata": {},
   "source": [
    "> Notice that it takes a little while to run the above code.  This is because each time we call the function, it scrapes data from the Wikipedia page."
   ]
  },
  {
   "cell_type": "markdown",
   "metadata": {},
   "source": [
    "### Querying our Data"
   ]
  },
  {
   "cell_type": "markdown",
   "metadata": {},
   "source": [
    "Now let's write some functions to query our data.  We can write a function called `stream_numbers_for(song)` that takes in a single song dictionary, and returns the corresponding number of streams as an integer."
   ]
  },
  {
   "cell_type": "code",
   "execution_count": 87,
   "metadata": {},
   "outputs": [],
   "source": [
    "# write function here"
   ]
  },
  {
   "cell_type": "markdown",
   "metadata": {},
   "source": [
    "Then we can test this out below."
   ]
  },
  {
   "cell_type": "code",
   "execution_count": 58,
   "metadata": {},
   "outputs": [],
   "source": [
    "first_song = top_songs[0]\n",
    "\n",
    "second_song = top_songs[1]"
   ]
  },
  {
   "cell_type": "code",
   "execution_count": 59,
   "metadata": {},
   "outputs": [
    {
     "data": {
      "text/plain": [
       "2621"
      ]
     },
     "execution_count": 59,
     "metadata": {},
     "output_type": "execute_result"
    }
   ],
   "source": [
    "stream_number_for(first_song)\n",
    "# 2621"
   ]
  },
  {
   "cell_type": "code",
   "execution_count": 60,
   "metadata": {},
   "outputs": [
    {
     "data": {
      "text/plain": [
       "2033"
      ]
     },
     "execution_count": 60,
     "metadata": {},
     "output_type": "execute_result"
    }
   ],
   "source": [
    "stream_number_for(second_song)\n",
    "# 2033"
   ]
  },
  {
   "cell_type": "markdown",
   "metadata": {},
   "source": [
    "Next write a function called `stream_numbers_for(songs)` that takes in a list of songs and returns the corresponding stream numbers.\n",
    "\n",
    "> Try to use the `stream_number_for` function above in solving this."
   ]
  },
  {
   "cell_type": "code",
   "execution_count": 61,
   "metadata": {},
   "outputs": [],
   "source": [
    "# write function here"
   ]
  },
  {
   "cell_type": "code",
   "execution_count": 62,
   "metadata": {},
   "outputs": [],
   "source": [
    "top_five_songs = top_songs[:5]"
   ]
  },
  {
   "cell_type": "code",
   "execution_count": 64,
   "metadata": {},
   "outputs": [
    {
     "data": {
      "text/plain": [
       "[2621, 2033, 1925, 1893, 1871]"
      ]
     },
     "execution_count": 64,
     "metadata": {},
     "output_type": "execute_result"
    }
   ],
   "source": [
    "stream_numbers_for(top_five_songs)\n",
    "\n",
    "# [2621, 2033, 1925, 1893, 1871]"
   ]
  },
  {
   "cell_type": "markdown",
   "metadata": {},
   "source": [
    "Next let's use functions to filter our data.  Write a function called `songs_streamed_more_than(songs, number)` that returns a list of names of songs that were streamed more than that number of times."
   ]
  },
  {
   "cell_type": "code",
   "execution_count": 71,
   "metadata": {},
   "outputs": [],
   "source": [
    "# write function here"
   ]
  },
  {
   "cell_type": "code",
   "execution_count": 72,
   "metadata": {},
   "outputs": [
    {
     "data": {
      "text/plain": [
       "['\"Shape of You\"', '\"Rockstar\"', '\"One Dance\"', '\"Dance Monkey\"', '\"Closer\"']"
      ]
     },
     "execution_count": 72,
     "metadata": {},
     "output_type": "execute_result"
    }
   ],
   "source": [
    "songs_streamed_more_than(top_songs, 1800)\n",
    "\n",
    "# ['\"Shape of You\"', '\"Rockstar\"', '\"One Dance\"', '\"Dance Monkey\"', '\"Closer\"']"
   ]
  },
  {
   "cell_type": "markdown",
   "metadata": {},
   "source": [
    "Next return the year number for each song streamed more than a specified number of times. "
   ]
  },
  {
   "cell_type": "code",
   "execution_count": 77,
   "metadata": {},
   "outputs": [],
   "source": [
    "# write function here"
   ]
  },
  {
   "cell_type": "code",
   "execution_count": 78,
   "metadata": {},
   "outputs": [
    {
     "data": {
      "text/plain": [
       "[2017, 2017, 2016, 2019, 2016]"
      ]
     },
     "execution_count": 78,
     "metadata": {},
     "output_type": "execute_result"
    }
   ],
   "source": [
    "song_years_for_songs_streamed_more_than(top_songs, 1800)\n",
    "# [2017, 2017, 2016, 2019, 2016]"
   ]
  },
  {
   "cell_type": "markdown",
   "metadata": {},
   "source": [
    "So we can see that each of the top songs were streamed relatively recently.  Next write a function that given a list of songs and a key, returns just the corresponding value of each song.  "
   ]
  },
  {
   "cell_type": "code",
   "execution_count": 79,
   "metadata": {},
   "outputs": [],
   "source": [
    "# write function here"
   ]
  },
  {
   "cell_type": "code",
   "execution_count": 81,
   "metadata": {},
   "outputs": [
    {
     "data": {
      "text/plain": [
       "['\"Shape of You\"', '\"Rockstar\"', '\"One Dance\"', '\"Dance Monkey\"', '\"Closer\"']"
      ]
     },
     "execution_count": 81,
     "metadata": {},
     "output_type": "execute_result"
    }
   ],
   "source": [
    "values_of(top_songs, 'Song')[:5]\n",
    "\n",
    "# ['\"Shape of You\"', '\"Rockstar\"', '\"One Dance\"', '\"Dance Monkey\"', '\"Closer\"']"
   ]
  },
  {
   "cell_type": "code",
   "execution_count": 82,
   "metadata": {},
   "outputs": [
    {
     "data": {
      "text/plain": [
       "['6 January 2017',\n",
       " '15 September 2017',\n",
       " '5 April 2016',\n",
       " '10 May 2019',\n",
       " '29 July 2016']"
      ]
     },
     "execution_count": 82,
     "metadata": {},
     "output_type": "execute_result"
    }
   ],
   "source": [
    "values_of(top_songs, 'Date published')[:5]\n",
    "\n",
    "# ['6 January 2017',\n",
    "#  '15 September 2017',\n",
    "#  '5 April 2016',\n",
    "#  '10 May 2019',\n",
    "#  '29 July 2016']"
   ]
  },
  {
   "cell_type": "markdown",
   "metadata": {},
   "source": [
    "### Summary"
   ]
  },
  {
   "cell_type": "markdown",
   "metadata": {},
   "source": [
    "In this lesson we saw how we can use functions to both automate procedures and to make our code more flexible.  For example, it now only takes a call to our `scrape_songs` function for us to gather our data from Wikipedia and transform it to a list of dictionaries.  And with our `values_of` function we decide when we call the function which value from the data we wish to abstract."
   ]
  }
 ],
 "metadata": {
  "kernelspec": {
   "display_name": "Python 3",
   "language": "python",
   "name": "python3"
  },
  "language_info": {
   "codemirror_mode": {
    "name": "ipython",
    "version": 3
   },
   "file_extension": ".py",
   "mimetype": "text/x-python",
   "name": "python",
   "nbconvert_exporter": "python",
   "pygments_lexer": "ipython3",
   "version": "3.8.3"
  }
 },
 "nbformat": 4,
 "nbformat_minor": 4
}
