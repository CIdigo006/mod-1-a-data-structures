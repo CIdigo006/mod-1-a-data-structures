{
 "cells": [
  {
   "cell_type": "markdown",
   "metadata": {},
   "source": [
    "# Functions Practice Lab"
   ]
  },
  {
   "cell_type": "markdown",
   "metadata": {},
   "source": [
    "### Introduction"
   ]
  },
  {
   "cell_type": "markdown",
   "metadata": {},
   "source": [
    "In this lesson, let's continue to practice using functions to both automate operations and to make our codebase more flexible.  We'll do so by working with our Spotify data."
   ]
  },
  {
   "cell_type": "markdown",
   "metadata": {},
   "source": [
    "### Loading our Data"
   ]
  },
  {
   "cell_type": "markdown",
   "metadata": {},
   "source": [
    "Let's get started by just practicing how to writing a function.  Write a function called `get_songs` that returns has a return value of  `['song 1', 'song 2']`."
   ]
  },
  {
   "cell_type": "code",
   "execution_count": 2,
   "metadata": {},
   "outputs": [],
   "source": [
    "def get_songs():\n",
    "    pass"
   ]
  },
  {
   "cell_type": "markdown",
   "metadata": {},
   "source": [
    "Then we'll test that we set our function up correctly."
   ]
  },
  {
   "cell_type": "code",
   "execution_count": 2,
   "metadata": {},
   "outputs": [
    {
     "data": {
      "text/plain": [
       "['song 1', 'song 2']"
      ]
     },
     "execution_count": 2,
     "metadata": {},
     "output_type": "execute_result"
    }
   ],
   "source": [
    "get_songs()\n",
    "\n",
    "# ['song 1', 'song 2']"
   ]
  },
  {
   "cell_type": "markdown",
   "metadata": {},
   "source": [
    "Now let's write a function called `scrape_songs` that pulls the list of songs from spotify and returns a list of dictionaries representing the top streaming songs.  We can write the function based off of the following code."
   ]
  },
  {
   "cell_type": "code",
   "execution_count": 3,
   "metadata": {},
   "outputs": [],
   "source": [
    "import pandas as pd"
   ]
  },
  {
   "cell_type": "code",
   "execution_count": 4,
   "metadata": {},
   "outputs": [],
   "source": [
    "url = 'https://en.wikipedia.org/wiki/List_of_most-streamed_songs_on_Spotify'\n",
    "songs_table = pd.read_html(url)[0]\n",
    "top_songs = songs_table.to_dict('records')"
   ]
  },
  {
   "cell_type": "code",
   "execution_count": 3,
   "metadata": {},
   "outputs": [],
   "source": [
    "def scrape_songs():\n",
    "    pass"
   ]
  },
  {
   "cell_type": "markdown",
   "metadata": {},
   "source": [
    "Then let's test out the code.  We can assign the result to the variable `top_songs`."
   ]
  },
  {
   "cell_type": "code",
   "execution_count": 6,
   "metadata": {},
   "outputs": [],
   "source": [
    "top_songs = scrape_songs()"
   ]
  },
  {
   "cell_type": "code",
   "execution_count": 7,
   "metadata": {},
   "outputs": [
    {
     "data": {
      "text/plain": [
       "[{'Rank': '1',\n",
       "  'Song[A]': '\"Blinding Lights\"',\n",
       "  'Streams(billions)': '3.386',\n",
       "  'Artist(s)': 'The Weeknd',\n",
       "  'Release date': '29 November 2019',\n",
       "  'Ref(s)': '[8][9]'},\n",
       " {'Rank': '2',\n",
       "  'Song[A]': '\"Shape of You\"',\n",
       "  'Streams(billions)': '3.362',\n",
       "  'Artist(s)': 'Ed Sheeran',\n",
       "  'Release date': '6 January 2017',\n",
       "  'Ref(s)': '[10]'}]"
      ]
     },
     "execution_count": 7,
     "metadata": {},
     "output_type": "execute_result"
    }
   ],
   "source": [
    "top_songs[:2]\n",
    "\n",
    "# [{'Rank': '1',\n",
    "#   'Song[A]': '\"Blinding Lights\"',\n",
    "#   'Streams(billions)': '3.386',\n",
    "#   'Artist(s)': 'The Weeknd',\n",
    "#   'Release date': '29 November 2019',\n",
    "#   'Ref(s)': '[8][9]'},\n",
    "#  {'Rank': '2',\n",
    "#   'Song[A]': '\"Shape of You\"',\n",
    "#   'Streams(billions)': '3.362',\n",
    "#   'Artist(s)': 'Ed Sheeran',\n",
    "#   'Release date': '6 January 2017',\n",
    "#   'Ref(s)': '[10]'}]"
   ]
  },
  {
   "cell_type": "code",
   "execution_count": 8,
   "metadata": {},
   "outputs": [
    {
     "data": {
      "text/plain": [
       "{'Rank': '100',\n",
       " 'Song[A]': '\"Don\\'t Stop Me Now\"',\n",
       " 'Streams(billions)': '1.493',\n",
       " 'Artist(s)': 'Queen',\n",
       " 'Release date': '26 January 1979',\n",
       " 'Ref(s)': '[145][146]'}"
      ]
     },
     "execution_count": 8,
     "metadata": {},
     "output_type": "execute_result"
    }
   ],
   "source": [
    "top_songs[-1]\n",
    "\n",
    "# {'Rank': '100',\n",
    "#  'Song[A]': '\"Don\\'t Stop Me Now\"',\n",
    "#  'Streams(billions)': '1.493',\n",
    "#  'Artist(s)': 'Queen',\n",
    "#  'Release date': '26 January 1979',\n",
    "#  'Ref(s)': '[145][146]'}"
   ]
  },
  {
   "cell_type": "markdown",
   "metadata": {},
   "source": [
    "> Notice that it takes a little while to run the above code.  This is because each time we call the function, it scrapes data from the Wikipedia page."
   ]
  },
  {
   "cell_type": "markdown",
   "metadata": {},
   "source": [
    "> To keep the data consistent (it gets updated on Wikipedia, let's load it from here)."
   ]
  },
  {
   "cell_type": "code",
   "execution_count": 5,
   "metadata": {},
   "outputs": [],
   "source": [
    "import pandas as pd\n",
    "songs_df = pd.read_csv('./songs_table.csv', index_col = 0)\n",
    "\n",
    "top_songs = songs_df.to_dict('records')"
   ]
  },
  {
   "cell_type": "markdown",
   "metadata": {},
   "source": [
    "### Querying our Data"
   ]
  },
  {
   "cell_type": "markdown",
   "metadata": {},
   "source": [
    "Now let's write some functions to query our data.  We can write a function called `stream_numbers_for(song)` that takes in a singe song dictionary, and returns the corresponding number of streams as an integer."
   ]
  },
  {
   "cell_type": "code",
   "execution_count": 4,
   "metadata": {},
   "outputs": [],
   "source": [
    "def stream_number_for(song):\n",
    "    pass"
   ]
  },
  {
   "cell_type": "markdown",
   "metadata": {},
   "source": [
    "Then we can test this out below."
   ]
  },
  {
   "cell_type": "code",
   "execution_count": 15,
   "metadata": {},
   "outputs": [],
   "source": [
    "first_song = top_songs[0]\n",
    "\n",
    "second_song = top_songs[1]\n",
    "# second_song"
   ]
  },
  {
   "cell_type": "code",
   "execution_count": 16,
   "metadata": {},
   "outputs": [
    {
     "data": {
      "text/plain": [
       "3.386"
      ]
     },
     "execution_count": 16,
     "metadata": {},
     "output_type": "execute_result"
    }
   ],
   "source": [
    "stream_number_for(first_song)\n",
    "# 3.386"
   ]
  },
  {
   "cell_type": "code",
   "execution_count": 17,
   "metadata": {},
   "outputs": [
    {
     "data": {
      "text/plain": [
       "3.362"
      ]
     },
     "execution_count": 17,
     "metadata": {},
     "output_type": "execute_result"
    }
   ],
   "source": [
    "stream_number_for(second_song)\n",
    "# 3.362"
   ]
  },
  {
   "cell_type": "markdown",
   "metadata": {},
   "source": [
    "Next write a function called `stream_numbers_for(songs)` that takes in a list of songs and returns the corresponding stream numbers.\n",
    "\n",
    "> Try to use the `stream_number_for` function above in solving this."
   ]
  },
  {
   "cell_type": "code",
   "execution_count": 5,
   "metadata": {},
   "outputs": [],
   "source": [
    "def stream_numbers_for(songs):\n",
    "    pass"
   ]
  },
  {
   "cell_type": "code",
   "execution_count": 19,
   "metadata": {},
   "outputs": [],
   "source": [
    "top_five_songs = top_songs[:5]"
   ]
  },
  {
   "cell_type": "code",
   "execution_count": 20,
   "metadata": {},
   "outputs": [
    {
     "data": {
      "text/plain": [
       "[3.386, 3.362, 2.746, 2.634, 2.594]"
      ]
     },
     "execution_count": 20,
     "metadata": {},
     "output_type": "execute_result"
    }
   ],
   "source": [
    "stream_numbers_for(top_five_songs)\n",
    "\n",
    "# [3.386, 3.362, 2.746, 2.634, 2.594]"
   ]
  },
  {
   "cell_type": "markdown",
   "metadata": {},
   "source": [
    "Next let's use functions to filter our data.  Write a function called `songs_streamed_more_than(songs, number)` that returns a list of names of songs that were streamed more than that number of times."
   ]
  },
  {
   "cell_type": "code",
   "execution_count": 6,
   "metadata": {},
   "outputs": [],
   "source": [
    "def songs_streamed_more_than(songs, number):\n",
    "    pass"
   ]
  },
  {
   "cell_type": "code",
   "execution_count": 29,
   "metadata": {},
   "outputs": [
    {
     "name": "stdout",
     "output_type": "stream",
     "text": [
      "['\"Blinding Lights\"', '\"Shape of You\"', '\"Dance Monkey\"', '\"Someone You Loved\"', '\"Rockstar\"', '\"Sunflower\"', '\"One Dance\"', '\"Closer\"', '\"Believer\"', '\"Stay\"', '\"Señorita\"', '\"Perfect\"', '\"Heat Waves\"', '\"Say You Won\\'t Let Go\"', '\"Bad Guy\"', '\"Starboy\"', '\"Thinking Out Loud\"', '\"Lucid Dreams\"', '\"Don\\'t Start Now\"', '\"Lovely\"', '\"God\\'s Plan\"']\n"
     ]
    }
   ],
   "source": [
    "print(songs_streamed_more_than(top_songs, 2.1))\n",
    "\n",
    "# ['\"Blinding Lights\"', '\"Shape of You\"', '\"Dance Monkey\"', '\"Someone You Loved\"', '\"Rockstar\"', '\"Sunflower\"', '\"One Dance\"', '\"Closer\"', '\"Believer\"', '\"Stay\"', '\"Señorita\"', '\"Perfect\"', '\"Heat Waves\"', '\"Say You Won\\'t Let Go\"', '\"Bad Guy\"', '\"Starboy\"', '\"Thinking Out Loud\"', '\"Lucid Dreams\"', '\"Don\\'t Start Now\"', '\"Lovely\"', '\"God\\'s Plan\"']"
   ]
  },
  {
   "cell_type": "markdown",
   "metadata": {},
   "source": [
    "Next return the year number for each song streamed more than a specified number of times. "
   ]
  },
  {
   "cell_type": "code",
   "execution_count": 7,
   "metadata": {},
   "outputs": [],
   "source": [
    "def song_years_for_songs_streamed_more_than(songs, number):\n",
    "    pass"
   ]
  },
  {
   "cell_type": "code",
   "execution_count": 33,
   "metadata": {},
   "outputs": [
    {
     "name": "stdout",
     "output_type": "stream",
     "text": [
      "[2019, 2017, 2019, 2018, 2017, 2018, 2016, 2016, 2017, 2021, 2019, 2017, 2020, 2016, 2019, 2016, 2014, 2018, 2019, 2018, 2018]\n"
     ]
    }
   ],
   "source": [
    "print(song_years_for_songs_streamed_more_than(top_songs, 2.1))\n",
    "# [2017, 2019, 2019, 2017, 2018, 2016, 2018, 2016, 2019, 2017]"
   ]
  },
  {
   "cell_type": "markdown",
   "metadata": {},
   "source": [
    "So we can see that each of the top songs were streamed relatively recently.  Next write a function that given a list of songs and a key, returns just the corresponding value of each song.  "
   ]
  },
  {
   "cell_type": "code",
   "execution_count": 8,
   "metadata": {},
   "outputs": [],
   "source": [
    "def values_of(songs, key_name):\n",
    "    pass"
   ]
  },
  {
   "cell_type": "code",
   "execution_count": 39,
   "metadata": {},
   "outputs": [
    {
     "name": "stdout",
     "output_type": "stream",
     "text": [
      "['\"Blinding Lights\"', '\"Shape of You\"', '\"Dance Monkey\"', '\"Someone You Loved\"', '\"Rockstar\"']\n"
     ]
    }
   ],
   "source": [
    "print(values_of(top_songs, 'Song[A]')[:5])\n",
    "\n",
    "# ['\"Blinding Lights\"', '\"Shape of You\"', '\"Dance Monkey\"', '\"Someone You Loved\"', '\"Rockstar\"']"
   ]
  },
  {
   "cell_type": "code",
   "execution_count": 38,
   "metadata": {},
   "outputs": [
    {
     "data": {
      "text/plain": [
       "['29 November 2019',\n",
       " '6 January 2017',\n",
       " '10 May 2019',\n",
       " '8 November 2018',\n",
       " '15 September 2017']"
      ]
     },
     "execution_count": 38,
     "metadata": {},
     "output_type": "execute_result"
    }
   ],
   "source": [
    "values_of(top_songs, 'Release date')[:5]\n",
    "\n",
    "# ['29 November 2019',\n",
    "#  '6 January 2017',\n",
    "#  '10 May 2019',\n",
    "#  '8 November 2018',\n",
    "#  '15 September 2017']"
   ]
  },
  {
   "cell_type": "markdown",
   "metadata": {},
   "source": [
    "### Summary"
   ]
  },
  {
   "cell_type": "markdown",
   "metadata": {},
   "source": [
    "In this lesson we saw how we can use functions to both automate procedures and to make our code more flexible.  For example, it now only takes a call to our `scrape_songs` function for us to gather our data from Wikipedia and transform it to a list of dictionaries.  And with our `values_of` function we decide when we call the function which value from the data we wish to abstract."
   ]
  }
 ],
 "metadata": {
  "kernelspec": {
   "display_name": "Python 3 (ipykernel)",
   "language": "python",
   "name": "python3"
  },
  "language_info": {
   "codemirror_mode": {
    "name": "ipython",
    "version": 3
   },
   "file_extension": ".py",
   "mimetype": "text/x-python",
   "name": "python",
   "nbconvert_exporter": "python",
   "pygments_lexer": "ipython3",
   "version": "3.10.6"
  }
 },
 "nbformat": 4,
 "nbformat_minor": 4
}
