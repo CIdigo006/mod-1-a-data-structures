{
 "cells": [
  {
   "cell_type": "markdown",
   "id": "4569aea3-f0c1-4f17-9d5c-0656aa8132fe",
   "metadata": {},
   "source": [
    "# Nested Loops Lab"
   ]
  },
  {
   "cell_type": "markdown",
   "id": "f752ca01-1c1e-4f21-8072-0131624d9640",
   "metadata": {},
   "source": [
    "### Introduction"
   ]
  },
  {
   "cell_type": "markdown",
   "id": "9baa7d1c-0e07-48c5-9db5-91dee3b5223f",
   "metadata": {},
   "source": [
    "In this lesson, we'll review working with lists of dictionaries.  Let's get started. "
   ]
  },
  {
   "cell_type": "markdown",
   "id": "ddf5dde0-2cea-43dd-975c-10d7e04c4ff7",
   "metadata": {},
   "source": [
    "> Do for one, then do for all."
   ]
  },
  {
   "cell_type": "markdown",
   "id": "6ae24f21-11fb-4fdd-86aa-fa3d033ca028",
   "metadata": {},
   "source": [
    "### Loading our Data"
   ]
  },
  {
   "cell_type": "code",
   "execution_count": 53,
   "id": "2d1c3897-f66b-4989-818d-76c7b90d7eb7",
   "metadata": {},
   "outputs": [],
   "source": [
    "url = \"https://en.wikipedia.org/wiki/List_of_most-streamed_songs_on_Spotify\"\n",
    "import pandas as pd\n",
    "\n",
    "dfs = pd.read_html(url)"
   ]
  },
  {
   "cell_type": "code",
   "execution_count": 54,
   "id": "a2942839-6c13-4d24-a6e9-db0c9a0b785d",
   "metadata": {},
   "outputs": [],
   "source": [
    "df = dfs[0]"
   ]
  },
  {
   "cell_type": "code",
   "execution_count": 55,
   "id": "fa6bd115-28e7-4901-88bd-6a1bf743cad1",
   "metadata": {},
   "outputs": [],
   "source": [
    "songs = df.to_dict('records')"
   ]
  },
  {
   "cell_type": "markdown",
   "id": "57a087da-77f1-4311-a98f-5f854bc8ac14",
   "metadata": {},
   "source": [
    "### Working with our data"
   ]
  },
  {
   "cell_type": "markdown",
   "id": "6aea1c85-9166-425d-a7bb-a73c74edff4d",
   "metadata": {},
   "source": [
    "Now that we've downloaded our data, let's start exploring it.  Begin by selecting the first element from our list of songs, and assign it to the variable `first_song`."
   ]
  },
  {
   "cell_type": "code",
   "execution_count": 56,
   "id": "3cbee826-59ff-48e1-824c-bf575d2ac501",
   "metadata": {},
   "outputs": [
    {
     "data": {
      "text/plain": [
       "{'Rank': '1',\n",
       " 'Song': '\"Shape of You\"',\n",
       " 'Artist(s)': 'Ed Sheeran',\n",
       " 'Album': '÷',\n",
       " 'Streams(Millions)': '2943',\n",
       " 'Date published': '6 January 2017',\n",
       " 'Ref.': '[11]'}"
      ]
     },
     "execution_count": 56,
     "metadata": {},
     "output_type": "execute_result"
    }
   ],
   "source": [
    "first_song = songs[0]\n",
    "\n",
    "first_song"
   ]
  },
  {
   "cell_type": "markdown",
   "id": "b86bc4ad-18a0-4f78-b29e-2480988549a3",
   "metadata": {},
   "source": [
    "Now take a look at the last three albums in the list."
   ]
  },
  {
   "cell_type": "code",
   "execution_count": 57,
   "id": "18501091-8004-4ef4-85e3-89a4be591ca4",
   "metadata": {},
   "outputs": [
    {
     "data": {
      "text/plain": [
       "[{'Rank': '99',\n",
       "  'Song': '\"Cheerleader (Felix Jaehn Remix)\"',\n",
       "  'Artist(s)': 'Omi and Felix Jaehn',\n",
       "  'Album': 'Me 4 U',\n",
       "  'Streams(Millions)': '1217',\n",
       "  'Date published': '19 May 2014',\n",
       "  'Ref.': nan},\n",
       " {'Rank': '100',\n",
       "  'Song': '\"Can\\'t Feel My Face\"',\n",
       "  'Artist(s)': 'The Weeknd',\n",
       "  'Album': 'Beauty Behind the Madness',\n",
       "  'Streams(Millions)': '1210',\n",
       "  'Date published': '8 June 2015',\n",
       "  'Ref.': '[12]'},\n",
       " {'Rank': 'As of 19 October 2021',\n",
       "  'Song': 'As of 19 October 2021',\n",
       "  'Artist(s)': 'As of 19 October 2021',\n",
       "  'Album': 'As of 19 October 2021',\n",
       "  'Streams(Millions)': 'As of 19 October 2021',\n",
       "  'Date published': 'As of 19 October 2021',\n",
       "  'Ref.': 'As of 19 October 2021'}]"
      ]
     },
     "execution_count": 57,
     "metadata": {},
     "output_type": "execute_result"
    }
   ],
   "source": [
    "songs[-3:]"
   ]
  },
  {
   "cell_type": "markdown",
   "id": "a912803f-de51-4e88-b854-896f80f3a0ca",
   "metadata": {},
   "source": [
    "It looks like the last album is not, an album at all, so instead select all about the last album and assign it to a list called selected albums."
   ]
  },
  {
   "cell_type": "code",
   "execution_count": 58,
   "id": "e6fde108-f928-4c1e-97b8-894b534a2249",
   "metadata": {},
   "outputs": [],
   "source": [
    "selected_songs = songs[:-1]"
   ]
  },
  {
   "cell_type": "code",
   "execution_count": 59,
   "id": "70f24acb-4b46-4e26-8930-c959a0ae70b0",
   "metadata": {},
   "outputs": [
    {
     "data": {
      "text/plain": [
       "100"
      ]
     },
     "execution_count": 59,
     "metadata": {},
     "output_type": "execute_result"
    }
   ],
   "source": [
    "len(selected_albums)"
   ]
  },
  {
   "cell_type": "markdown",
   "id": "6fb9f554-cf51-4743-864c-d6a9a47a34cc",
   "metadata": {},
   "source": [
    "And let's confirm that the last song is in fact a song.  Select the last song."
   ]
  },
  {
   "cell_type": "code",
   "execution_count": 60,
   "id": "34b8e191-704e-4695-900c-a1e75c688111",
   "metadata": {},
   "outputs": [
    {
     "data": {
      "text/plain": [
       "{'Rank': '100',\n",
       " 'Song': '\"Can\\'t Feel My Face\"',\n",
       " 'Artist(s)': 'The Weeknd',\n",
       " 'Album': 'Beauty Behind the Madness',\n",
       " 'Streams(Millions)': '1210',\n",
       " 'Date published': '8 June 2015',\n",
       " 'Ref.': '[12]'}"
      ]
     },
     "execution_count": 60,
     "metadata": {},
     "output_type": "execute_result"
    }
   ],
   "source": [
    "last_song = selected_songs[-1]\n",
    "last_song\n",
    "\n",
    "# {'Rank': '100',\n",
    "#  'Song': '\"Can\\'t Feel My Face\"',\n",
    "#  'Artist(s)': 'The Weeknd',\n",
    "#  'Album': 'Beauty Behind the Madness',\n",
    "#  'Streams(Millions)': '1210',\n",
    "#  'Date published': '8 June 2015',\n",
    "#  'Ref.': '[12]'}"
   ]
  },
  {
   "cell_type": "markdown",
   "id": "e0a126fe-0185-414e-822d-3a7a2de51e3a",
   "metadata": {},
   "source": [
    "Selecting data.  Ok, now from the above list of dictionaries, let's create a a list of just the name of the each of the songs."
   ]
  },
  {
   "cell_type": "code",
   "execution_count": 65,
   "id": "9d8ec494-d4c5-4dc2-a5e2-795da6c30075",
   "metadata": {},
   "outputs": [],
   "source": [
    "names = []\n",
    "\n",
    "for song in songs:\n",
    "    names.append(song['Song'])"
   ]
  },
  {
   "cell_type": "code",
   "execution_count": 66,
   "id": "c8dc6cfb-9484-4e37-9437-7c3d8c1a182c",
   "metadata": {},
   "outputs": [
    {
     "data": {
      "text/plain": [
       "['\"Shape of You\"', '\"Blinding Lights\"', '\"Dance Monkey\"']"
      ]
     },
     "execution_count": 66,
     "metadata": {},
     "output_type": "execute_result"
    }
   ],
   "source": [
    "names[:3]"
   ]
  },
  {
   "cell_type": "markdown",
   "id": "24567a0e-c82d-412f-8f82-fbc1512ca025",
   "metadata": {},
   "source": [
    "Now use what we know about lists and sets to find the *number* of albums that were listed twice on top 100 songs list."
   ]
  },
  {
   "cell_type": "code",
   "execution_count": null,
   "id": "1866a55f-193f-45cf-a6aa-4c101d3f94f6",
   "metadata": {},
   "outputs": [],
   "source": [
    "album_names = []\n",
    "\n",
    "for song in songs:\n",
    "    album_names.append(song['Album'])\n",
    "    \n",
    "len(album_names) - len(set(album_names))\n",
    "\n",
    "# 17"
   ]
  },
  {
   "cell_type": "markdown",
   "id": "112946c9-6353-4f88-a05c-6640c5d78ac3",
   "metadata": {},
   "source": [
    "Ok, now if we return to our original list of dictionaries, there is certain data that does not look like its of the correct type."
   ]
  },
  {
   "cell_type": "markdown",
   "id": "ac139c75-9788-434b-8a3d-4ea664d1d747",
   "metadata": {},
   "source": [
    "Change the `Rank`, `Streams(Millions)` to integers. It also looks like each of the songs names have an extra single or double quotation mark at the beginning and end of the songs.  Remove these extra quotation marks from each of the songs.\n",
    "\n",
    "Assign this new list of songs to the variable `coerced_songs`."
   ]
  },
  {
   "cell_type": "code",
   "execution_count": 72,
   "id": "fbeffc30-1e5e-479b-911e-af88d67fcce5",
   "metadata": {},
   "outputs": [],
   "source": [
    "coerced_songs = []\n",
    "for song in selected_songs:\n",
    "    copied_song = song.copy()\n",
    "    copied_song['Rank'] = int(copied_song['Rank'])\n",
    "    copied_song['Streams(Millions)'] = int(copied_song['Streams(Millions)'])\n",
    "    copied_song['Song'] = copied_song['Song'][1:-1]\n",
    "    coerced_songs.append(copied_song)"
   ]
  },
  {
   "cell_type": "code",
   "execution_count": 73,
   "id": "ffdcb436-47c0-4408-a6dd-9331325075d0",
   "metadata": {},
   "outputs": [
    {
     "data": {
      "text/plain": [
       "[{'Rank': 1,\n",
       "  'Song': 'Shape of You',\n",
       "  'Artist(s)': 'Ed Sheeran',\n",
       "  'Album': '÷',\n",
       "  'Streams(Millions)': 2943,\n",
       "  'Date published': '6 January 2017',\n",
       "  'Ref.': '[11]'},\n",
       " {'Rank': 2,\n",
       "  'Song': 'Blinding Lights',\n",
       "  'Artist(s)': 'The Weeknd',\n",
       "  'Album': 'After Hours',\n",
       "  'Streams(Millions)': 2578,\n",
       "  'Date published': '29 November 2019',\n",
       "  'Ref.': '[12]'}]"
      ]
     },
     "execution_count": 73,
     "metadata": {},
     "output_type": "execute_result"
    }
   ],
   "source": [
    "coerced_songs[:2]"
   ]
  },
  {
   "cell_type": "markdown",
   "id": "b2b19786-217f-46eb-a0eb-9e73e2c6f6b1",
   "metadata": {},
   "source": [
    "Now if we select the `Rank` and `Streams(Millions)` from any of the dictionaries, we should see that they are of type integer."
   ]
  },
  {
   "cell_type": "code",
   "execution_count": 74,
   "id": "ab1acf79-39f2-4e5c-8337-482006e05829",
   "metadata": {},
   "outputs": [
    {
     "data": {
      "text/plain": [
       "int"
      ]
     },
     "execution_count": 74,
     "metadata": {},
     "output_type": "execute_result"
    }
   ],
   "source": [
    "first_coerced = coerced_songs[0]\n",
    "\n",
    "type(first_coerced['Rank'])"
   ]
  },
  {
   "cell_type": "code",
   "execution_count": 75,
   "id": "3d12c7bb-e589-471b-9c26-7c9d2d6437c5",
   "metadata": {},
   "outputs": [
    {
     "data": {
      "text/plain": [
       "int"
      ]
     },
     "execution_count": 75,
     "metadata": {},
     "output_type": "execute_result"
    }
   ],
   "source": [
    "type(first_coerced['Streams(Millions)'])"
   ]
  },
  {
   "cell_type": "markdown",
   "id": "f8f6eb9c-a452-40fc-8ee2-9767f5713509",
   "metadata": {},
   "source": [
    "And if we view the title of even the last song, we should see that the first character is no longer a quotation mark but a letter."
   ]
  },
  {
   "cell_type": "code",
   "execution_count": 83,
   "id": "6f5f1c50-067e-49e6-9cfd-070cc6fd0a44",
   "metadata": {},
   "outputs": [
    {
     "data": {
      "text/plain": [
       "'C'"
      ]
     },
     "execution_count": 83,
     "metadata": {},
     "output_type": "execute_result"
    }
   ],
   "source": [
    "coerced_songs[-1]['Song'][:1]"
   ]
  },
  {
   "cell_type": "markdown",
   "id": "b6178a93-029c-4a71-8c3a-7a6f6d6e460a",
   "metadata": {},
   "source": [
    "Now that we have this list of `coerced_songs`, let update our list of dictionaries even further.  If we look at one of the dictionaries, we'll see that date is hard to parse."
   ]
  },
  {
   "cell_type": "code",
   "execution_count": 84,
   "id": "0f59cfc0-ab7f-407b-bf82-ed1ea05cc619",
   "metadata": {},
   "outputs": [
    {
     "data": {
      "text/plain": [
       "'6 January 2017'"
      ]
     },
     "execution_count": 84,
     "metadata": {},
     "output_type": "execute_result"
    }
   ],
   "source": [
    "coerced_songs[0]['Date published']"
   ]
  },
  {
   "cell_type": "markdown",
   "id": "a3c12a98-5eac-469f-9731-fa787547dc21",
   "metadata": {},
   "source": [
    "We'd like to create three new keys on each of the dictionaries and of day, month and year.  Also remove the date published key, as the information in this key would then be duplicative."
   ]
  },
  {
   "cell_type": "markdown",
   "id": "b5b0f1e8-b315-44f3-b51f-9b67650ded39",
   "metadata": {},
   "source": [
    "> You can delete a key from a dictionary with the pop method. "
   ]
  },
  {
   "cell_type": "code",
   "execution_count": 86,
   "id": "d68dbd4d-a1f3-4173-aaac-647f5e5b413a",
   "metadata": {},
   "outputs": [
    {
     "data": {
      "text/plain": [
       "'29 November 2019'"
      ]
     },
     "execution_count": 86,
     "metadata": {},
     "output_type": "execute_result"
    }
   ],
   "source": [
    "blinding_lights = {'Rank': 2,\n",
    "  'Song': 'Blinding Lights',\n",
    "  'Artist(s)': 'The Weeknd',\n",
    "  'Album': 'After Hours',\n",
    "  'Streams(Millions)': 2578,\n",
    "  'Date published': '29 November 2019',\n",
    "  'Ref.': '[12]'}\n",
    "\n",
    "blinding_lights.pop('Date published')"
   ]
  },
  {
   "cell_type": "code",
   "execution_count": 87,
   "id": "d488f222-23b7-46ab-8254-a3a9157291c3",
   "metadata": {},
   "outputs": [
    {
     "data": {
      "text/plain": [
       "{'Rank': 2,\n",
       " 'Song': 'Blinding Lights',\n",
       " 'Artist(s)': 'The Weeknd',\n",
       " 'Album': 'After Hours',\n",
       " 'Streams(Millions)': 2578,\n",
       " 'Ref.': '[12]'}"
      ]
     },
     "execution_count": 87,
     "metadata": {},
     "output_type": "execute_result"
    }
   ],
   "source": [
    "blinding_lights"
   ]
  },
  {
   "cell_type": "markdown",
   "id": "3a7326ea-c915-42a8-b287-61250227c34d",
   "metadata": {},
   "source": [
    "Ok, so create three new keys of `day`, `month` and year for each of our `coerced_songs` and then remove the `'Date published'` key."
   ]
  },
  {
   "cell_type": "markdown",
   "id": "0b3fe2d1-8073-4f92-b18d-6c2f8df43343",
   "metadata": {},
   "source": [
    "Assign the new list to the variable `dated_songs`."
   ]
  },
  {
   "cell_type": "code",
   "execution_count": 91,
   "id": "5b0fc09e-fff9-45d1-88d8-b34695a4d486",
   "metadata": {},
   "outputs": [
    {
     "data": {
      "text/plain": [
       "['6', 'January', '2017']"
      ]
     },
     "execution_count": 91,
     "metadata": {},
     "output_type": "execute_result"
    }
   ],
   "source": [
    "coerced_songs[0]['Date published'].split()"
   ]
  },
  {
   "cell_type": "code",
   "execution_count": 94,
   "id": "8c3732ae-6c12-429a-8c12-067b8d09f1a4",
   "metadata": {},
   "outputs": [],
   "source": [
    "dated_songs = []\n",
    "for song in coerced_songs:\n",
    "    copied_song = song.copy()\n",
    "    day, month, year = copied_song['Date published'].split()\n",
    "    copied_song['month'] = month\n",
    "    copied_song['day'] = int(day)\n",
    "    copied_song['year'] = int(year)\n",
    "    \n",
    "    copied_song.pop('Date published')\n",
    "    dated_songs.append(copied_song)"
   ]
  },
  {
   "cell_type": "code",
   "execution_count": 95,
   "id": "64d1574a-d6e9-49d6-94d6-2c25cadcea3a",
   "metadata": {},
   "outputs": [
    {
     "data": {
      "text/plain": [
       "[{'Rank': 1,\n",
       "  'Song': 'Shape of You',\n",
       "  'Artist(s)': 'Ed Sheeran',\n",
       "  'Album': '÷',\n",
       "  'Streams(Millions)': 2943,\n",
       "  'Ref.': '[11]',\n",
       "  'month': 'January',\n",
       "  'day': 6,\n",
       "  'year': 2017},\n",
       " {'Rank': 2,\n",
       "  'Song': 'Blinding Lights',\n",
       "  'Artist(s)': 'The Weeknd',\n",
       "  'Album': 'After Hours',\n",
       "  'Streams(Millions)': 2578,\n",
       "  'Ref.': '[12]',\n",
       "  'month': 'November',\n",
       "  'day': 29,\n",
       "  'year': 2019}]"
      ]
     },
     "execution_count": 95,
     "metadata": {},
     "output_type": "execute_result"
    }
   ],
   "source": [
    "dated_songs[:2]"
   ]
  },
  {
   "cell_type": "markdown",
   "id": "f19e4e76-e1cb-4fb1-b09c-b923a500923e",
   "metadata": {},
   "source": [
    "### Bonus"
   ]
  },
  {
   "cell_type": "markdown",
   "id": "461962a4-ebe5-460a-a032-ba0d28d47d30",
   "metadata": {},
   "source": [
    "Ok, now remember that we like to convert as many values as possible to numbers.  One of the attributes that perhaps should be a number is the month.  We'd like to convert `January` to `1` and `November` to `11` for example.  We'll get you started with this by creating a dictionary that has the keys and corresponding value for each month.  "
   ]
  },
  {
   "cell_type": "code",
   "execution_count": 96,
   "id": "c7d784de-f2fc-460b-a05e-0a33736c2957",
   "metadata": {},
   "outputs": [],
   "source": [
    "month_nums = {'January': 1, 'February': 2, 'March': 3, 'April': 4, 'May': 5, 'June': 6, 'July': 7, 'August': 8, 'September': 9, 'October': 10, 'November': 11, 'December': 12} "
   ]
  },
  {
   "cell_type": "markdown",
   "id": "52314a9a-e00c-404b-8424-3fc9adfb766f",
   "metadata": {},
   "source": [
    "And now notice that if we pass the month as any key, we are returned the corresponding value."
   ]
  },
  {
   "cell_type": "code",
   "execution_count": 97,
   "id": "bcb97b14-ae44-4c6b-b37b-003d246ef3f3",
   "metadata": {},
   "outputs": [
    {
     "data": {
      "text/plain": [
       "1"
      ]
     },
     "execution_count": 97,
     "metadata": {},
     "output_type": "execute_result"
    }
   ],
   "source": [
    "month_nums['January']"
   ]
  },
  {
   "cell_type": "markdown",
   "id": "89d265fa-984c-4575-a3d1-61cf242904ba",
   "metadata": {},
   "source": [
    "So use the above, to convert each of the `dated_songs` month attributes to the corresponding number.  Assign the result to the list `formatted_songs`."
   ]
  },
  {
   "cell_type": "code",
   "execution_count": 99,
   "id": "3a6a9fc1-9a16-43bb-a856-a6aeb04f996d",
   "metadata": {},
   "outputs": [],
   "source": [
    "formatted_songs = []\n",
    "for dated_song in dated_songs:\n",
    "    copied_song = dated_song.copy()\n",
    "    month_text = copied_song['month']\n",
    "    month_num = month_nums[month_text]\n",
    "    copied_song['month'] = month_num\n",
    "    formatted_songs.append(copied_song)"
   ]
  },
  {
   "cell_type": "markdown",
   "id": "6bdbc201-4949-4ef1-91fd-0c2cbe16d956",
   "metadata": {},
   "source": [
    "And now we can see that each of the songs is represented by a number."
   ]
  },
  {
   "cell_type": "code",
   "execution_count": 101,
   "id": "ddf441fe-e428-42cb-82b5-fbf07de7baab",
   "metadata": {},
   "outputs": [
    {
     "data": {
      "text/plain": [
       "1"
      ]
     },
     "execution_count": 101,
     "metadata": {},
     "output_type": "execute_result"
    }
   ],
   "source": [
    "formatted_songs[0]['month']"
   ]
  },
  {
   "cell_type": "code",
   "execution_count": 102,
   "id": "d4143fbe-c84b-47db-8920-29936bd7a22a",
   "metadata": {},
   "outputs": [
    {
     "data": {
      "text/plain": [
       "11"
      ]
     },
     "execution_count": 102,
     "metadata": {},
     "output_type": "execute_result"
    }
   ],
   "source": [
    "formatted_songs[1]['month']"
   ]
  },
  {
   "cell_type": "markdown",
   "id": "fcd2b903-0e42-443e-b35f-db1ae171b01b",
   "metadata": {},
   "source": [
    "### Summary"
   ]
  },
  {
   "cell_type": "markdown",
   "id": "07d56f04-c8fb-41dd-bb4b-5fb1384f914e",
   "metadata": {},
   "source": [
    "In this lesson, we practiced..."
   ]
  },
  {
   "cell_type": "code",
   "execution_count": null,
   "id": "1ebea658-2433-4ffa-a1ba-d4a58a23e74f",
   "metadata": {},
   "outputs": [],
   "source": []
  }
 ],
 "metadata": {
  "kernelspec": {
   "display_name": "Python 3 (ipykernel)",
   "language": "python",
   "name": "python3"
  },
  "language_info": {
   "codemirror_mode": {
    "name": "ipython",
    "version": 3
   },
   "file_extension": ".py",
   "mimetype": "text/x-python",
   "name": "python",
   "nbconvert_exporter": "python",
   "pygments_lexer": "ipython3",
   "version": "3.9.7"
  }
 },
 "nbformat": 4,
 "nbformat_minor": 5
}
