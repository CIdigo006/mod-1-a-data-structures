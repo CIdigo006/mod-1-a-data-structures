{
 "cells": [
  {
   "cell_type": "markdown",
   "metadata": {},
   "source": [
    "# Introducing Pytest"
   ]
  },
  {
   "cell_type": "markdown",
   "metadata": {},
   "source": [
    "### Introduction"
   ]
  },
  {
   "cell_type": "markdown",
   "metadata": {},
   "source": [
    "In the last lesson, we saw some of the virtues of testing.  Testing is just a way to write code that automatically checks our work.  In this lesson, let's see how to write tests with the `pytest` library."
   ]
  },
  {
   "cell_type": "markdown",
   "metadata": {},
   "source": [
    "### Pytest"
   ]
  },
  {
   "cell_type": "markdown",
   "metadata": {},
   "source": [
    "Here is how we can write a tests with Pytest.  We first define the function, and then we write a function that begins with `test_` that tests the function below."
   ]
  },
  {
   "cell_type": "markdown",
   "metadata": {},
   "source": [
    "```python\n",
    "# test_tracks.py\n",
    "def clean_track(track):\n",
    "    # We left something out of this method\n",
    "    return track.split(' - ')\n",
    "\n",
    "\n",
    "def test_clean_track():\n",
    "    track_name = \"When I'm Sixty-Four - Remix\"\n",
    "    assert clean_track(track_name) == \"When I'm Sixty-Four\"\n",
    "```"
   ]
  },
  {
   "cell_type": "markdown",
   "metadata": {},
   "source": [
    "> Notice that the `test_clean_track` function, calls the `clean_track` function, and then just checks that `assert` is passed a value of `True`."
   ]
  },
  {
   "cell_type": "markdown",
   "metadata": {},
   "source": [
    "So the pattern for the test is:"
   ]
  },
  {
   "cell_type": "code",
   "execution_count": 18,
   "metadata": {},
   "outputs": [],
   "source": [
    "def test_some_function():\n",
    "    assert some_function() == 'proper return value'"
   ]
  },
  {
   "cell_type": "markdown",
   "metadata": {},
   "source": [
    "* Running our tests"
   ]
  },
  {
   "cell_type": "markdown",
   "metadata": {},
   "source": [
    "We can run our test by executing the `pytest` command from our terminal.  Calling `pytest` will look for any files that begin with `test_` and run those files."
   ]
  },
  {
   "cell_type": "code",
   "execution_count": 11,
   "metadata": {},
   "outputs": [
    {
     "name": "stdout",
     "output_type": "stream",
     "text": [
      "\u001b[1m============================= test session starts ==============================\u001b[0m\n",
      "platform darwin -- Python 3.7.4, pytest-5.2.1, py-1.8.0, pluggy-0.13.0\n",
      "rootdir: /Users/jeff/Documents/jigsaw/curriculum/1-section-content/mod-1/2-datatypes/1-fundamentals/a-fundamentals/7-testing\n",
      "plugins: arraydiff-0.3, remotedata-0.3.2, doctestplus-0.4.0, openfiles-0.4.0\n",
      "collected 1 item                                                               \u001b[0m\n",
      "\n",
      "2-introducing-pytest/test_tracks.py \u001b[31mF\u001b[0m\u001b[36m                                    [100%]\u001b[0m\n",
      "\n",
      "=================================== FAILURES ===================================\n",
      "\u001b[31m\u001b[1m_______________________________ test_clean_track _______________________________\u001b[0m\n",
      "\n",
      "\u001b[1m    def test_clean_track():\u001b[0m\n",
      "\u001b[1m        track_name = \"When I'm Sixty-Four - Remix\"\u001b[0m\n",
      "\u001b[1m>       assert clean_track(track_name) == \"When I'm Sixty-Four\"\u001b[0m\n",
      "\u001b[1m\u001b[31mE       assert [\"When I'm Sixty-Four\", 'Remix'] == \"When I'm Sixty-Four\"\u001b[0m\n",
      "\u001b[1m\u001b[31mE        +  where [\"When I'm Sixty-Four\", 'Remix'] = clean_track(\"When I'm Sixty-Four - Remix\")\u001b[0m\n",
      "\n",
      "\u001b[1m\u001b[31m2-introducing-pytest/test_tracks.py\u001b[0m:7: AssertionError\n",
      "\u001b[31m\u001b[1m============================== 1 failed in 0.10s ===============================\u001b[0m\n"
     ]
    }
   ],
   "source": [
    "!pytest"
   ]
  },
  {
   "cell_type": "markdown",
   "metadata": {},
   "source": [
    "* Debugging our errors"
   ]
  },
  {
   "cell_type": "markdown",
   "metadata": {},
   "source": [
    "Uh oh.  Here we have an error.  \n",
    "\n",
    "Let's read our message from the bottom to the top.  We can see that our error is occurring in line 7, and that it's an assertion error.   And then in the red line at the top, we can see that there is an error of \n",
    "\n",
    "* `assert [\"When I'm Sixty-Four\", 'Remix'] == \"When I'm Sixty-Four\"`\n",
    "\n",
    "This makes sense, as we expect `[\"When I'm Sixty-Four\", 'Remix'] == \"When I'm Sixty-Four\"` to return False.  Thus triggering the error. \n",
    "\n",
    "So the next step is to change the `clean_track` function so that it returns a value matching `\"When I'm Sixty-Four\"`."
   ]
  },
  {
   "cell_type": "markdown",
   "metadata": {},
   "source": [
    "Looking at the clean track method, we can see that it returns a list, where we really just need the first element from that list."
   ]
  },
  {
   "cell_type": "markdown",
   "metadata": {},
   "source": [
    "```python\n",
    "def clean_track(track):\n",
    "    # We left something out of this method\n",
    "    return track.split(' - ')\n",
    "```"
   ]
  },
  {
   "cell_type": "markdown",
   "metadata": {},
   "source": [
    "Update the `clean_track` method so that it passes the test.  You can check that your code is working by running the `pytest` command."
   ]
  },
  {
   "cell_type": "markdown",
   "metadata": {},
   "source": [
    "### Practice debugging with tests"
   ]
  },
  {
   "cell_type": "markdown",
   "metadata": {},
   "source": [
    "Reading an error message in a testing environment can take some practice.  Let's uncomment the rest of the code in the `test_tracks.py` file."
   ]
  },
  {
   "cell_type": "markdown",
   "metadata": {},
   "source": [
    "> You can uncomment code by highlighting the relevant selecting and then pressing `cmd + ?` at the same time."
   ]
  },
  {
   "cell_type": "markdown",
   "metadata": {},
   "source": [
    "Now let's run `pytest` again."
   ]
  },
  {
   "cell_type": "code",
   "execution_count": 15,
   "metadata": {},
   "outputs": [
    {
     "name": "stdout",
     "output_type": "stream",
     "text": [
      "\u001b[1m============================= test session starts ==============================\u001b[0m\n",
      "platform darwin -- Python 3.7.4, pytest-5.2.1, py-1.8.0, pluggy-0.13.0\n",
      "rootdir: /Users/jeff/Documents/jigsaw/curriculum/1-section-content/mod-1/2-datatypes/1-fundamentals/a-fundamentals/7-testing\n",
      "plugins: arraydiff-0.3, remotedata-0.3.2, doctestplus-0.4.0, openfiles-0.4.0\n",
      "collected 2 items                                                              \u001b[0m\n",
      "\n",
      "2-introducing-pytest/test_tracks.py \u001b[32m.\u001b[0m\u001b[31mF\u001b[0m\u001b[36m                                   [100%]\u001b[0m\n",
      "\n",
      "=================================== FAILURES ===================================\n",
      "\u001b[31m\u001b[1m_________________ test_find_song_returns_none_if_no_song_found _________________\u001b[0m\n",
      "\n",
      "\u001b[1m    def test_find_song_returns_none_if_no_song_found():\u001b[0m\n",
      "\u001b[1m        found_song = find_song(songs, 'Like Some Rolling Stone')\u001b[0m\n",
      "\u001b[1m>       assert found_song == None, 'returns None'\u001b[0m\n",
      "\u001b[1m\u001b[31mE       AssertionError: returns None\u001b[0m\n",
      "\u001b[1m\u001b[31mE       assert 'none' == None\u001b[0m\n",
      "\n",
      "\u001b[1m\u001b[31m2-introducing-pytest/test_tracks.py\u001b[0m:24: AssertionError\n",
      "\u001b[31m\u001b[1m========================= 1 failed, 1 passed in 0.13s ==========================\u001b[0m\n"
     ]
    }
   ],
   "source": [
    "!pytest"
   ]
  },
  {
   "cell_type": "markdown",
   "metadata": {},
   "source": [
    "Ok, so read the line number and file where the error is showing up.  Then look to understand the error message.\n",
    "\n",
    "Finally, if necessary, change the function to get the tests passing."
   ]
  },
  {
   "cell_type": "markdown",
   "metadata": {},
   "source": [
    "### Summary"
   ]
  },
  {
   "cell_type": "markdown",
   "metadata": {},
   "source": [
    "In this lesson we saw how to write and run tests with pytest.  And then we got some practice in debugging our code with `pytest`.\n",
    "\n",
    "To write tests we define a function with in the pattern `def test_` and then inside the body of the function, we have an `assert` statement where we compare the return value fo a function to what it should equal.\n",
    "\n",
    "Then we saw that we can run our tests with the `pytest` command.  Pytest will look for and run any files that begin with `test_` in their filename.  \n",
    "\n",
    "Finally, we practiced debugging our code with Pytest.  The important part here is to start from the bottom, see the line number that is failing, then move upwards to understand the error message.  Finally, we fix the code and run `pytest` again."
   ]
  }
 ],
 "metadata": {
  "kernelspec": {
   "display_name": "Python 3",
   "language": "python",
   "name": "python3"
  },
  "language_info": {
   "codemirror_mode": {
    "name": "ipython",
    "version": 3
   },
   "file_extension": ".py",
   "mimetype": "text/x-python",
   "name": "python",
   "nbconvert_exporter": "python",
   "pygments_lexer": "ipython3",
   "version": "3.7.4"
  }
 },
 "nbformat": 4,
 "nbformat_minor": 4
}
