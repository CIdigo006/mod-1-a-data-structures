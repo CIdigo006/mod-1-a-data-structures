{
 "cells": [
  {
   "cell_type": "markdown",
   "metadata": {},
   "source": [
    "# Practice Writing Tests"
   ]
  },
  {
   "cell_type": "markdown",
   "metadata": {},
   "source": [
    "### Introduction"
   ]
  },
  {
   "cell_type": "markdown",
   "metadata": {},
   "source": [
    "In the last lesson, we saw some of the mechanics about how the `pytest` library works.  As we know, a testing frame just automates checking that our functions return the correct value, given certain inputs.  \n",
    "\n",
    "With `pytest`, it helps us automate this by looking for all of the test files when `pytest` is run.  And it does this by looking for files that begin with `test_`.  Then inside of each of these files, it looks for functions that begins with `test_`."
   ]
  },
  {
   "cell_type": "markdown",
   "metadata": {},
   "source": [
    "### Your turn"
   ]
  },
  {
   "cell_type": "markdown",
   "metadata": {},
   "source": [
    "Ok, now it's your turn to practice writing some tests."
   ]
  },
  {
   "cell_type": "markdown",
   "metadata": {},
   "source": [
    "Start by creating a file called `test_songs.py`, and copy the list of `songs` below into the file."
   ]
  },
  {
   "cell_type": "code",
   "execution_count": 1,
   "metadata": {},
   "outputs": [],
   "source": [
    "songs = [{'rank': 1, 'song': 'Like a Rolling Stone', 'artist': 'Bob Dylan', 'year': 1965},  \n",
    "         {'rank': 2, 'song': 'Satisfaction', 'artist': 'The Rolling Stones', 'year': 1965},\n",
    "         {'rank': 5, 'song': 'Respect', 'artist': 'Aretha Franklin', 'year': 1967}]"
   ]
  },
  {
   "cell_type": "markdown",
   "metadata": {},
   "source": [
    "Now imagine that we need to write the folowing functions.  \n",
    "\n",
    "> For each of the below, start by writing the tests for the function, and then after writing the tests for an individual function, write the corresponding function."
   ]
  },
  {
   "cell_type": "markdown",
   "metadata": {},
   "source": [
    "1. `find_by_artist(songs, artist_name)` (write two tests)\n",
    "    * The function should take in two arguments of `songs` and an `artist_name`.\n",
    "    * This should return a list of songs with the matching artist.  \n",
    "    * It should return an empty list if there are no matches.  \n",
    "    \n",
    "2. `display_song_names(songs)` (write one test)\n",
    "    * It should take in a list of songs (as dictionaries), and return a list of the corresponding song names.\n",
    "    \n",
    "3. `alphebatize(songs)` (write two tests)\n",
    "    * It should take in a list of songs in alphabetical order and return a list of songs in alphabetical order.\n",
    "    * It should take an optional argument where we reverse the alphabetical order of the song.\n",
    "    * The return value in each case should be a list of dictionaries.\n",
    "    \n",
    "4. `tracks_from(album)`\n",
    "    * It takes in an album, and returns the list of song names\n",
    "    "
   ]
  },
  {
   "cell_type": "markdown",
   "metadata": {},
   "source": [
    "### Using Different Files"
   ]
  },
  {
   "cell_type": "markdown",
   "metadata": {},
   "source": [
    "Finally, now that we have written the tests and code in one file, let's use two different files.  \n",
    "\n",
    "Create a new file called `songs.py`, and move the code that is not related to the tests into that file (that is the four functions specified above.)\n",
    "\n",
    "Then, in the `test_songs.py` file, import the functions from the `songs.py` file, then run the tests again to see that they pass."
   ]
  },
  {
   "cell_type": "markdown",
   "metadata": {},
   "source": [
    "### Summary"
   ]
  },
  {
   "cell_type": "markdown",
   "metadata": {},
   "source": [
    "In this lesson, we practiced writing tests.  We did so by thinking about the different requirements of each function, writing tests to assert that the function met those requirements, and then filling in the functions so that they passed those tests.  Finally, we separated our functions and the tests for those functions into different files."
   ]
  }
 ],
 "metadata": {
  "kernelspec": {
   "display_name": "Python 3",
   "language": "python",
   "name": "python3"
  },
  "language_info": {
   "codemirror_mode": {
    "name": "ipython",
    "version": 3
   },
   "file_extension": ".py",
   "mimetype": "text/x-python",
   "name": "python",
   "nbconvert_exporter": "python",
   "pygments_lexer": "ipython3",
   "version": "3.7.4"
  }
 },
 "nbformat": 4,
 "nbformat_minor": 4
}
