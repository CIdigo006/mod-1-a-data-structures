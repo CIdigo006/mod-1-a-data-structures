{
 "cells": [
  {
   "cell_type": "markdown",
   "id": "71beac7d-7c2e-47a1-b6d1-0fb015573ab2",
   "metadata": {},
   "source": [
    "# If and Filtering Lab"
   ]
  },
  {
   "cell_type": "markdown",
   "id": "b358d60e-567f-4908-bd2a-1129542547d8",
   "metadata": {},
   "source": [
    "### Introduction"
   ]
  },
  {
   "cell_type": "markdown",
   "id": "7e0207d8-5792-4681-8441-994b68dde4c2",
   "metadata": {},
   "source": [
    "In this lesson, we'll work with conditionals to display information about members of congress, and to the select members of congress based on certain criteria.  Let's get started."
   ]
  },
  {
   "cell_type": "markdown",
   "id": "d789b1d9-1d19-4b32-aba2-0379eb9debdf",
   "metadata": {},
   "source": [
    "### Loading Data"
   ]
  },
  {
   "cell_type": "markdown",
   "id": "fa3969a5-7536-4e5d-a8de-06cdf8c741fe",
   "metadata": {},
   "source": [
    "Let's begin by loading data about congress persons, and convert our data to a list of dictionaries."
   ]
  },
  {
   "cell_type": "code",
   "execution_count": 9,
   "id": "0278fc46-c412-465d-bf74-de0cb5e79103",
   "metadata": {},
   "outputs": [],
   "source": [
    "import pandas as pd\n",
    "url = \"https://raw.githubusercontent.com/fivethirtyeight/data/master/congress-age/congress-terms.csv\"\n",
    "df = pd.read_csv(url)"
   ]
  },
  {
   "cell_type": "code",
   "execution_count": 10,
   "id": "617239e8-f121-45a9-aa8a-a99dc33bdc30",
   "metadata": {},
   "outputs": [],
   "source": [
    "congress_persons = df.to_dict('records')"
   ]
  },
  {
   "cell_type": "code",
   "execution_count": 12,
   "id": "6e33889c-5ecc-4a4c-b81a-80e602aca404",
   "metadata": {},
   "outputs": [
    {
     "data": {
      "text/plain": [
       "[{'congress': 80,\n",
       "  'chamber': 'house',\n",
       "  'bioguide': 'M000112',\n",
       "  'firstname': 'Joseph',\n",
       "  'middlename': 'Jefferson',\n",
       "  'lastname': 'Mansfield',\n",
       "  'suffix': nan,\n",
       "  'birthday': '1861-02-09',\n",
       "  'state': 'TX',\n",
       "  'party': 'D',\n",
       "  'incumbent': 'Yes',\n",
       "  'termstart': '1947-01-03',\n",
       "  'age': 85.9}]"
      ]
     },
     "execution_count": 12,
     "metadata": {},
     "output_type": "execute_result"
    }
   ],
   "source": [
    "congress_persons[:1]"
   ]
  },
  {
   "cell_type": "markdown",
   "id": "39d040fb-ad62-437a-90e9-95ca6c97de61",
   "metadata": {},
   "source": [
    "And now let's select our first congress person, Joe Mansfied."
   ]
  },
  {
   "cell_type": "code",
   "execution_count": 14,
   "id": "b9e0676e-682b-4832-adc9-761397604d0e",
   "metadata": {},
   "outputs": [
    {
     "data": {
      "text/plain": [
       "{'congress': 80,\n",
       " 'chamber': 'house',\n",
       " 'bioguide': 'M000112',\n",
       " 'firstname': 'Joseph',\n",
       " 'middlename': 'Jefferson',\n",
       " 'lastname': 'Mansfield',\n",
       " 'suffix': nan,\n",
       " 'birthday': '1861-02-09',\n",
       " 'state': 'TX',\n",
       " 'party': 'D',\n",
       " 'incumbent': 'Yes',\n",
       " 'termstart': '1947-01-03',\n",
       " 'age': 85.9}"
      ]
     },
     "execution_count": 14,
     "metadata": {},
     "output_type": "execute_result"
    }
   ],
   "source": [
    "congress_person = congress_persons[0]\n",
    "congress_person"
   ]
  },
  {
   "cell_type": "markdown",
   "id": "55143db3-5e52-4533-a173-ed7fc22fc43a",
   "metadata": {},
   "source": [
    "### Writing some logic"
   ]
  },
  {
   "cell_type": "markdown",
   "id": "56476b7c-e71c-4c90-96b4-54ea8b97eec3",
   "metadata": {},
   "source": [
    "Write an `if else` statement that prints `older` if he is over 70 years old, and `younger` if younger than 70 years old."
   ]
  },
  {
   "cell_type": "code",
   "execution_count": 16,
   "id": "27fe2fab-081c-492a-bc04-a9bade7285b8",
   "metadata": {},
   "outputs": [
    {
     "name": "stdout",
     "output_type": "stream",
     "text": [
      "older\n"
     ]
    }
   ],
   "source": [
    "if congress_person['age'] > 70:\n",
    "    print('older')\n",
    "else:\n",
    "    print('younger')\n",
    "    \n",
    "# older"
   ]
  },
  {
   "cell_type": "markdown",
   "id": "4f946402-5579-4390-b24d-888effbf3330",
   "metadata": {},
   "source": [
    "Now let's make sure our else logic works.  We'll copy our congress person."
   ]
  },
  {
   "cell_type": "code",
   "execution_count": 19,
   "id": "61594e33-72fa-4f87-970a-c0d3af5135d2",
   "metadata": {},
   "outputs": [],
   "source": [
    "congress_person = congress_person.copy()"
   ]
  },
  {
   "cell_type": "markdown",
   "id": "22e42edc-c1cd-4946-b0ee-f05250921d70",
   "metadata": {},
   "source": [
    "And then update the age to be 65."
   ]
  },
  {
   "cell_type": "code",
   "execution_count": 21,
   "id": "c1cb0d9a-c012-48b0-b55d-c130b0cc1d83",
   "metadata": {},
   "outputs": [],
   "source": [
    "congress_person['age'] = 65"
   ]
  },
  {
   "cell_type": "markdown",
   "id": "53e6d0e2-56c6-470d-b65d-8a0bb2aa3afb",
   "metadata": {},
   "source": [
    "Then copy the code from the if else statement again and run the code."
   ]
  },
  {
   "cell_type": "code",
   "execution_count": 22,
   "id": "7db10cfe-cb94-435a-bb71-868fd8317fdb",
   "metadata": {},
   "outputs": [
    {
     "name": "stdout",
     "output_type": "stream",
     "text": [
      "younger\n"
     ]
    }
   ],
   "source": [
    "if congress_person['age'] > 70:\n",
    "    print('older')\n",
    "else:\n",
    "    print('younger')\n",
    "# younger"
   ]
  },
  {
   "cell_type": "markdown",
   "id": "de617059-b60b-4ca9-adcf-c5abd49d524a",
   "metadata": {},
   "source": [
    "Next, let's write code that only has an `if` statement (and no `else`).  If the `congress_person` is Democratic it should print `MOC is Democratic` (moc stands for member of congress)."
   ]
  },
  {
   "cell_type": "code",
   "execution_count": 24,
   "id": "b28b6de2-6352-416f-873a-9da53e19df7d",
   "metadata": {},
   "outputs": [
    {
     "name": "stdout",
     "output_type": "stream",
     "text": [
      "MOC is Democratic\n"
     ]
    }
   ],
   "source": [
    "if congress_person['party'] == 'D':\n",
    "    print('MOC is Democratic')\n",
    "    \n",
    "# MOC is Democratic"
   ]
  },
  {
   "cell_type": "markdown",
   "id": "de0d2758-d7d4-4298-8e0c-29a15593009c",
   "metadata": {},
   "source": [
    "> Note that when the if condition is not met, the code above simply does nothing. "
   ]
  },
  {
   "cell_type": "markdown",
   "id": "a25c0ed0-d117-4dc1-8e3f-ac862ea6275f",
   "metadata": {},
   "source": [
    "### And and Or"
   ]
  },
  {
   "cell_type": "markdown",
   "id": "1520913c-b7ad-4e96-9066-326db17dd1f6",
   "metadata": {},
   "source": [
    "Now Python also has `and` and `or` keywords.  Let's take a look."
   ]
  },
  {
   "cell_type": "markdown",
   "id": "fe2f6996-31a3-47bd-bcd2-112c4a8019ee",
   "metadata": {},
   "source": [
    "* And statement"
   ]
  },
  {
   "cell_type": "code",
   "execution_count": 25,
   "id": "d503d943-cd60-41f7-95d1-baba89abd324",
   "metadata": {},
   "outputs": [],
   "source": [
    "hometown = 'nyc'\n",
    "age = 35"
   ]
  },
  {
   "cell_type": "code",
   "execution_count": 26,
   "id": "ac2cc204-4163-45ba-8f7f-4db0d4218915",
   "metadata": {},
   "outputs": [
    {
     "name": "stdout",
     "output_type": "stream",
     "text": [
      "both met\n"
     ]
    }
   ],
   "source": [
    "if age > 30 and hometown == 'nyc':\n",
    "    print('both met')"
   ]
  },
  {
   "cell_type": "code",
   "execution_count": 27,
   "id": "626aecc4-a874-4100-81ec-f675c1f59988",
   "metadata": {},
   "outputs": [],
   "source": [
    "hometown = 'boston'\n",
    "age = 35"
   ]
  },
  {
   "cell_type": "code",
   "execution_count": 28,
   "id": "0c657502-c818-4614-810d-8e4ee9bbfac7",
   "metadata": {},
   "outputs": [],
   "source": [
    "if age > 30 and hometown == 'nyc':\n",
    "    print('both met')"
   ]
  },
  {
   "cell_type": "markdown",
   "id": "eccc51d6-2171-4a51-823c-caf09ca9b9a0",
   "metadata": {},
   "source": [
    "For `and`, if both conditions are met, the return value will be True, and the if condition is met. "
   ]
  },
  {
   "cell_type": "markdown",
   "id": "e62c7653-0035-447e-b79a-666b13807172",
   "metadata": {},
   "source": [
    "* Or statement "
   ]
  },
  {
   "cell_type": "code",
   "execution_count": 29,
   "id": "8c508ca8-6ebe-4760-8263-852c4b72cae8",
   "metadata": {},
   "outputs": [],
   "source": [
    "hometown = 'nyc'\n",
    "age = 35"
   ]
  },
  {
   "cell_type": "code",
   "execution_count": 30,
   "id": "d083a878-ce0d-4ef8-86be-ea742c57ccd8",
   "metadata": {},
   "outputs": [
    {
     "name": "stdout",
     "output_type": "stream",
     "text": [
      "nyc or 30\n"
     ]
    }
   ],
   "source": [
    "if hometown == 'nyc' or age == 30:\n",
    "    print('nyc or 30')"
   ]
  },
  {
   "cell_type": "markdown",
   "id": "c24511a9-d1b3-423a-ad99-104aa695ba4a",
   "metadata": {},
   "source": [
    " For `or` if *any* condition is met, `True` will be returned and the if condition is met."
   ]
  },
  {
   "cell_type": "code",
   "execution_count": 31,
   "id": "bcf7e0fd-5999-410c-8448-567a9130a26e",
   "metadata": {},
   "outputs": [],
   "source": [
    "hometown = 'boston'\n",
    "age = 35"
   ]
  },
  {
   "cell_type": "code",
   "execution_count": 32,
   "id": "8f1dc17f-e752-4eb0-820a-94e8d3e4812b",
   "metadata": {},
   "outputs": [],
   "source": [
    "if hometown == 'nyc' or age == 30:\n",
    "    print('nyc or 30')"
   ]
  },
  {
   "cell_type": "markdown",
   "id": "c3010198-7bd0-4294-b970-077d06be7664",
   "metadata": {},
   "source": [
    "If neither condition is met, the if statement is not run."
   ]
  },
  {
   "cell_type": "markdown",
   "id": "5271b2a0-481c-4247-aec3-2175b779d6ea",
   "metadata": {},
   "source": [
    "### Practice"
   ]
  },
  {
   "cell_type": "markdown",
   "id": "965b78d5-994d-4aa5-b8a3-b53721a0d49a",
   "metadata": {},
   "source": [
    "Ok, now write an if statement that only prints `older Democrat` if the congress person is over 70 and democratic."
   ]
  },
  {
   "cell_type": "code",
   "execution_count": 39,
   "id": "603628a8-43eb-4c83-a1ef-34221426665e",
   "metadata": {},
   "outputs": [],
   "source": [
    "congress_person = {'congress': 80,\n",
    " 'chamber': 'house',\n",
    " 'bioguide': 'M000112',\n",
    " 'firstname': 'Joseph',\n",
    " 'middlename': 'Jefferson',\n",
    " 'lastname': 'Mansfield',\n",
    " 'suffix': float('NaN'),\n",
    " 'birthday': '1861-02-09',\n",
    " 'state': 'TX',\n",
    " 'party': 'D',\n",
    " 'incumbent': 'Yes',\n",
    " 'termstart': '1947-01-03',\n",
    " 'age': 85.9}"
   ]
  },
  {
   "cell_type": "code",
   "execution_count": 41,
   "id": "a907ec6d-68c5-4f48-a775-c39067c746f1",
   "metadata": {},
   "outputs": [
    {
     "name": "stdout",
     "output_type": "stream",
     "text": [
      "older democrat\n"
     ]
    }
   ],
   "source": [
    "if congress_person['party'] == 'D' and congress_person['age'] > 70:\n",
    "    print('older democrat')\n",
    "    \n",
    "# older democrat"
   ]
  },
  {
   "cell_type": "markdown",
   "id": "95e3a38a-1cad-4760-b5a5-b9d9c3d16194",
   "metadata": {},
   "source": [
    "### Filtering"
   ]
  },
  {
   "cell_type": "markdown",
   "id": "f30c10b7-d5f1-4867-99e4-7cd285e22a61",
   "metadata": {},
   "source": [
    "Next, use a loop to store all of those members of congress whose age is greater or equal to 70 in a list called `older_mocs` and a loop to store the younger members of congress in a loop called `younger_mocs`."
   ]
  },
  {
   "cell_type": "markdown",
   "id": "ceb82d15-c764-4ab7-bdbf-07f5c19b8b85",
   "metadata": {},
   "source": [
    "> Both `older_mocs` and `younger_mocs` should be a list of dictionaries."
   ]
  },
  {
   "cell_type": "code",
   "execution_count": 58,
   "id": "30d66a8c-4f69-4ad2-b5bd-9aaf1554cbc5",
   "metadata": {},
   "outputs": [],
   "source": [
    "older_mocs = []\n",
    "younger_mocs = []\n",
    "\n",
    "for congress_person in congress_persons:\n",
    "    age = congress_person['age']\n",
    "    if age >= 70:\n",
    "        older_mocs.append(congress_person)\n",
    "    else:\n",
    "        younger_mocs.append(congress_person)"
   ]
  },
  {
   "cell_type": "code",
   "execution_count": 59,
   "id": "30208794-8120-42f2-86bd-e8ea519c4246",
   "metadata": {},
   "outputs": [
    {
     "data": {
      "text/plain": [
       "17391"
      ]
     },
     "execution_count": 59,
     "metadata": {},
     "output_type": "execute_result"
    }
   ],
   "source": [
    "len(younger_mocs)\n",
    "\n",
    "# 17391"
   ]
  },
  {
   "cell_type": "code",
   "execution_count": 60,
   "id": "c534c6fe-67ae-4bba-a919-c6412c1017ef",
   "metadata": {},
   "outputs": [
    {
     "data": {
      "text/plain": [
       "1244"
      ]
     },
     "execution_count": 60,
     "metadata": {},
     "output_type": "execute_result"
    }
   ],
   "source": [
    "len(older_mocs)\n",
    "\n",
    "# 1244"
   ]
  },
  {
   "cell_type": "markdown",
   "id": "d0f2bae6-c955-4a6a-ad62-e1dea8b00433",
   "metadata": {},
   "source": [
    "Ok, next let's try to filter by party.  Let's begin by getting a unique list of all of the listed parties in our dataset."
   ]
  },
  {
   "cell_type": "code",
   "execution_count": 42,
   "id": "cbc5efee-4aa2-40a7-bb61-48d9a7fc32ae",
   "metadata": {},
   "outputs": [],
   "source": [
    "parties = []\n",
    "for congress_person in congress_persons:\n",
    "    party = congress_person['party']\n",
    "    parties.append(party)"
   ]
  },
  {
   "cell_type": "code",
   "execution_count": 43,
   "id": "636e9002-608b-459b-8420-e2d31c170303",
   "metadata": {},
   "outputs": [
    {
     "data": {
      "text/plain": [
       "{'AL', 'D', 'I', 'ID', 'L', 'R'}"
      ]
     },
     "execution_count": 43,
     "metadata": {},
     "output_type": "execute_result"
    }
   ],
   "source": [
    "set(parties)\n",
    "\n",
    "# {'AL', 'D', 'I', 'ID', 'L', 'R'}"
   ]
  },
  {
   "cell_type": "markdown",
   "id": "c874424a-c411-4661-a609-4edcb7efaa3e",
   "metadata": {},
   "source": [
    "Then let's use a for loop (without a list comprehension) to select the democratic members of congress and place them in a list called democrats, and the republic members of congress and place them in a list called republicans, and place every other member in a list called others.\n",
    "\n",
    "> Use a single loop to accomplish this."
   ]
  },
  {
   "cell_type": "code",
   "execution_count": 65,
   "id": "cd34ad59-377d-4d1f-8003-7a22440a5fb4",
   "metadata": {},
   "outputs": [],
   "source": [
    "democrats = []\n",
    "republicans = []\n",
    "others = []\n",
    "for congress_person in congress_persons:\n",
    "    if congress_person['party'] == 'D':\n",
    "        democrats.append(congress_person)\n",
    "    elif congress_person['party'] == 'R':\n",
    "        republicans.append(congress_person)\n",
    "    else:\n",
    "        others.append(congress_person)"
   ]
  },
  {
   "cell_type": "code",
   "execution_count": 66,
   "id": "de4b9e45-20c8-4c78-8fa9-dbd8bf19097b",
   "metadata": {},
   "outputs": [
    {
     "data": {
      "text/plain": [
       "10290"
      ]
     },
     "execution_count": 66,
     "metadata": {},
     "output_type": "execute_result"
    }
   ],
   "source": [
    "len(democrats)\n",
    "# 10290"
   ]
  },
  {
   "cell_type": "code",
   "execution_count": 67,
   "id": "1c69b663-2fe4-482d-9908-fc2cef9936a9",
   "metadata": {},
   "outputs": [
    {
     "data": {
      "text/plain": [
       "8274"
      ]
     },
     "execution_count": 67,
     "metadata": {},
     "output_type": "execute_result"
    }
   ],
   "source": [
    "len(republicans)\n",
    "\n",
    "# 8274"
   ]
  },
  {
   "cell_type": "code",
   "execution_count": 68,
   "id": "6d0d388c-4a46-4026-b378-ea75d9fbc35a",
   "metadata": {},
   "outputs": [
    {
     "data": {
      "text/plain": [
       "71"
      ]
     },
     "execution_count": 68,
     "metadata": {},
     "output_type": "execute_result"
    }
   ],
   "source": [
    "len(others)\n",
    "\n",
    "# 71"
   ]
  },
  {
   "cell_type": "markdown",
   "id": "d367f908-bedc-4dd7-9234-aa85546341cb",
   "metadata": {},
   "source": [
    "### Using List Comprehension"
   ]
  },
  {
   "cell_type": "markdown",
   "id": "68d48505-c615-419a-be98-9231f6a5b4c1",
   "metadata": {},
   "source": [
    "Now you may have noticed that our list of congress_persons contains members from multiple different years.  Use list comprehension to find a unique list of all of the different `congress` numbers, sorted from smallest to largest -- every two years congress is given a different numbers.  "
   ]
  },
  {
   "cell_type": "code",
   "execution_count": 72,
   "id": "889f7da8-b74c-4ba2-8122-47686ebb81f9",
   "metadata": {},
   "outputs": [],
   "source": [
    "congresses = sorted(list(set([congress_person['congress'] for congress_person in congress_persons])))"
   ]
  },
  {
   "cell_type": "markdown",
   "id": "38d208d4-0152-4dba-b16c-7a4e5567530c",
   "metadata": {},
   "source": [
    "And then find the largest number in the list."
   ]
  },
  {
   "cell_type": "code",
   "execution_count": 75,
   "id": "e9d415e1-39bd-4244-a9fd-6360649647bc",
   "metadata": {},
   "outputs": [
    {
     "data": {
      "text/plain": [
       "113"
      ]
     },
     "execution_count": 75,
     "metadata": {},
     "output_type": "execute_result"
    }
   ],
   "source": [
    "most_recent = congresses[-1]\n",
    "most_recent\n",
    "# 113"
   ]
  },
  {
   "cell_type": "markdown",
   "id": "bda73c1a-66c7-45ef-afac-23abf9c7a530",
   "metadata": {},
   "source": [
    "Now select all of the congress_persons who are part of the 113 congress."
   ]
  },
  {
   "cell_type": "code",
   "execution_count": 76,
   "id": "d7709ab9-51bb-44b1-977f-ca2972a162aa",
   "metadata": {},
   "outputs": [],
   "source": [
    "recent_congresspersons = [congress_person for congress_person in congress_persons if congress_person['congress'] == 113]"
   ]
  },
  {
   "cell_type": "code",
   "execution_count": 79,
   "id": "04fd49d6-0301-4409-94c5-514d66417d47",
   "metadata": {},
   "outputs": [
    {
     "data": {
      "text/plain": [
       "544"
      ]
     },
     "execution_count": 79,
     "metadata": {},
     "output_type": "execute_result"
    }
   ],
   "source": [
    "len(recent_congresspersons)\n",
    "\n",
    "# 544"
   ]
  },
  {
   "cell_type": "code",
   "execution_count": 78,
   "id": "4bc4f531-32e7-468b-bd80-52a2744b6a15",
   "metadata": {},
   "outputs": [
    {
     "data": {
      "text/plain": [
       "{'congress': 113,\n",
       " 'chamber': 'house',\n",
       " 'bioguide': 'H000067',\n",
       " 'firstname': 'Ralph',\n",
       " 'middlename': 'M.',\n",
       " 'lastname': 'Hall',\n",
       " 'suffix': nan,\n",
       " 'birthday': '1923-05-03',\n",
       " 'state': 'TX',\n",
       " 'party': 'R',\n",
       " 'incumbent': 'Yes',\n",
       " 'termstart': '2013-01-03',\n",
       " 'age': 89.7}"
      ]
     },
     "execution_count": 78,
     "metadata": {},
     "output_type": "execute_result"
    }
   ],
   "source": [
    "recent_congresspersons[0]"
   ]
  },
  {
   "cell_type": "markdown",
   "id": "0e796369-ba81-4c95-aead-d102a15e1165",
   "metadata": {},
   "source": [
    "Now from the list of congresspersons, use two separate list comprehensions to collect a list of democrats and republicans."
   ]
  },
  {
   "cell_type": "code",
   "execution_count": 81,
   "id": "bfe39547-df4e-433e-bd96-7a23c3ce94ec",
   "metadata": {},
   "outputs": [],
   "source": [
    "dem_recent_congresspersons = [congress_person for congress_person in recent_congresspersons if congress_person['party'] == 'D']"
   ]
  },
  {
   "cell_type": "code",
   "execution_count": 82,
   "id": "84970e5b-dbb8-4275-939f-8c533dd25c57",
   "metadata": {},
   "outputs": [
    {
     "data": {
      "text/plain": [
       "259"
      ]
     },
     "execution_count": 82,
     "metadata": {},
     "output_type": "execute_result"
    }
   ],
   "source": [
    "len(dem_recent_congresspersons)\n",
    "\n",
    "# 259"
   ]
  },
  {
   "cell_type": "code",
   "execution_count": 83,
   "id": "9e739dea-d8f8-44d2-88f2-f5b539c6bb65",
   "metadata": {},
   "outputs": [],
   "source": [
    "repub_recent_congresspersons = [congress_person for congress_person in recent_congresspersons if congress_person['party'] == 'R']"
   ]
  },
  {
   "cell_type": "code",
   "execution_count": 84,
   "id": "06bc1f4f-3ee6-492a-b35a-da6bcdfe21c0",
   "metadata": {},
   "outputs": [
    {
     "data": {
      "text/plain": [
       "283"
      ]
     },
     "execution_count": 84,
     "metadata": {},
     "output_type": "execute_result"
    }
   ],
   "source": [
    "len(repub_recent_congresspersons)"
   ]
  },
  {
   "cell_type": "markdown",
   "id": "a9e5441b-655d-4488-9a5d-d45ef8d62966",
   "metadata": {},
   "source": [
    "From here, calculate the percentage of democrats who are over 65 vs the percentage of republicans who are over 65."
   ]
  },
  {
   "cell_type": "code",
   "execution_count": 87,
   "id": "ba6c1de6-c860-4554-8702-13623e6623a0",
   "metadata": {},
   "outputs": [],
   "source": [
    "older_dems = [congress_person for congress_person in dem_recent_congresspersons if congress_person['age'] > 65]"
   ]
  },
  {
   "cell_type": "code",
   "execution_count": 88,
   "id": "238dca41-51d5-437d-9b93-f3c11c72f174",
   "metadata": {},
   "outputs": [
    {
     "data": {
      "text/plain": [
       "85"
      ]
     },
     "execution_count": 88,
     "metadata": {},
     "output_type": "execute_result"
    }
   ],
   "source": [
    "len(older_dems)"
   ]
  },
  {
   "cell_type": "code",
   "execution_count": 89,
   "id": "6cb2d5c7-441a-4b3b-804d-149d871ac860",
   "metadata": {},
   "outputs": [],
   "source": [
    "older_repubs = older_dems = [congress_person for congress_person in repub_recent_congresspersons if congress_person['age'] > 65]"
   ]
  },
  {
   "cell_type": "code",
   "execution_count": 90,
   "id": "44a20391-d826-4c89-a153-577877f92c4f",
   "metadata": {},
   "outputs": [
    {
     "data": {
      "text/plain": [
       "49"
      ]
     },
     "execution_count": 90,
     "metadata": {},
     "output_type": "execute_result"
    }
   ],
   "source": [
    "len(older_repubs)"
   ]
  },
  {
   "cell_type": "markdown",
   "id": "2d7ac49f-d6af-430f-8eb2-fce63aa16bb5",
   "metadata": {},
   "source": [
    "### Summary"
   ]
  },
  {
   "cell_type": "markdown",
   "id": "5bb2661a-bf92-4eba-ad78-8d2ecbae4b1e",
   "metadata": {},
   "source": [
    "In this lesson we practiced using if else statements, filtering with loops, and filtering with list comprehensions to explore members of congress."
   ]
  }
 ],
 "metadata": {
  "kernelspec": {
   "display_name": "Python 3 (ipykernel)",
   "language": "python",
   "name": "python3"
  },
  "language_info": {
   "codemirror_mode": {
    "name": "ipython",
    "version": 3
   },
   "file_extension": ".py",
   "mimetype": "text/x-python",
   "name": "python",
   "nbconvert_exporter": "python",
   "pygments_lexer": "ipython3",
   "version": "3.9.7"
  }
 },
 "nbformat": 4,
 "nbformat_minor": 5
}
