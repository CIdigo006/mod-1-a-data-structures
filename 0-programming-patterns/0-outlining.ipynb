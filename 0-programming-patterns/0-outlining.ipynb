{
 "cells": [
  {
   "cell_type": "markdown",
   "id": "1d30bbb9-67e2-4715-8bb2-8a4595158b8e",
   "metadata": {},
   "source": [
    "# Outlining"
   ]
  },
  {
   "cell_type": "markdown",
   "id": "640eaca5-63d9-4572-b2b2-c1e07925fe9e",
   "metadata": {},
   "source": [
    "### Introduction"
   ]
  },
  {
   "cell_type": "code",
   "execution_count": null,
   "id": "7595ea60-06c8-4d28-b01b-5728843a1c02",
   "metadata": {},
   "outputs": [],
   "source": []
  }
 ],
 "metadata": {
  "kernelspec": {
   "display_name": "Python 3 (ipykernel)",
   "language": "python",
   "name": "python3"
  },
  "language_info": {
   "codemirror_mode": {
    "name": "ipython",
    "version": 3
   },
   "file_extension": ".py",
   "mimetype": "text/x-python",
   "name": "python",
   "nbconvert_exporter": "python",
   "pygments_lexer": "ipython3",
   "version": "3.9.7"
  }
 },
 "nbformat": 4,
 "nbformat_minor": 5
}
