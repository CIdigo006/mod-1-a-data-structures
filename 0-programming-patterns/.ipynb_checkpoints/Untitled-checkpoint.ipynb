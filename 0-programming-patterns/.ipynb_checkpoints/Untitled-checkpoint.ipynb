{
 "cells": [
  {
   "cell_type": "code",
   "execution_count": 24,
   "id": "9596cc4d-3f1a-4b1b-a363-9acb991768c1",
   "metadata": {},
   "outputs": [],
   "source": [
    "presidents = [{'name': 'gw', 'party': 'fed'}, {'name': 'ja'}, {'name': 'lincoln', 'party': 'republican'}]\n",
    "presidents[-3:]\n",
    "import pdb\n",
    "\n",
    "parties = []\n",
    "for president in presidents:\n",
    "    party = president['party']\n",
    "    parties.append(party)"
   ]
  },
  {
   "cell_type": "code",
   "execution_count": 25,
   "id": "49e57843-9cfc-48c2-8b51-c149aaa41b69",
   "metadata": {},
   "outputs": [
    {
     "data": {
      "text/plain": [
       "['sam', 'fred', 'barbara']"
      ]
     },
     "execution_count": 25,
     "metadata": {},
     "output_type": "execute_result"
    }
   ],
   "source": [
    "employees"
   ]
  },
  {
   "cell_type": "code",
   "execution_count": 23,
   "id": "b0c10589-83df-48f0-9dd3-2bf7834493b7",
   "metadata": {},
   "outputs": [],
   "source": [
    "employees = employees.append('susan') # None"
   ]
  },
  {
   "cell_type": "code",
   "execution_count": null,
   "id": "ce173b9d-00f4-4e65-91dc-03070fabf2f0",
   "metadata": {},
   "outputs": [],
   "source": []
  },
  {
   "cell_type": "code",
   "execution_count": 18,
   "id": "31afdee4-ce19-4a07-9032-042f15a9e56c",
   "metadata": {},
   "outputs": [],
   "source": [
    "employees = employees.append('susan').append('other things')"
   ]
  },
  {
   "cell_type": "code",
   "execution_count": 19,
   "id": "55043302-5560-476f-9e7e-88a22e4ca993",
   "metadata": {},
   "outputs": [],
   "source": [
    "employees"
   ]
  },
  {
   "cell_type": "code",
   "execution_count": 9,
   "id": "2952b0a7-9817-4288-8df6-f74518f5c9d3",
   "metadata": {},
   "outputs": [],
   "source": [
    "employees.append('susan') # None"
   ]
  },
  {
   "cell_type": "code",
   "execution_count": 10,
   "id": "1381bbae-80bc-49a5-a956-7994926c8c19",
   "metadata": {},
   "outputs": [],
   "source": [
    "employees"
   ]
  },
  {
   "cell_type": "code",
   "execution_count": 4,
   "id": "987fbba6-34d9-4f5f-a0ed-0822cc27a582",
   "metadata": {},
   "outputs": [
    {
     "ename": "AttributeError",
     "evalue": "'NoneType' object has no attribute 'pop'",
     "output_type": "error",
     "traceback": [
      "\u001b[0;31m---------------------------------------------------------------------------\u001b[0m",
      "\u001b[0;31mAttributeError\u001b[0m                            Traceback (most recent call last)",
      "\u001b[0;32m/var/folders/kx/pltjhhp51mv3hjlcsp0dwlfw0000gn/T/ipykernel_60779/3113978388.py\u001b[0m in \u001b[0;36m<module>\u001b[0;34m\u001b[0m\n\u001b[0;32m----> 1\u001b[0;31m \u001b[0memployees\u001b[0m\u001b[0;34m.\u001b[0m\u001b[0mpop\u001b[0m\u001b[0;34m(\u001b[0m\u001b[0;34m)\u001b[0m\u001b[0;34m\u001b[0m\u001b[0;34m\u001b[0m\u001b[0m\n\u001b[0m",
      "\u001b[0;31mAttributeError\u001b[0m: 'NoneType' object has no attribute 'pop'"
     ]
    }
   ],
   "source": [
    "employees.pop()"
   ]
  },
  {
   "cell_type": "code",
   "execution_count": null,
   "id": "e2465703-e672-478d-a023-b438ccea7489",
   "metadata": {},
   "outputs": [],
   "source": []
  }
 ],
 "metadata": {
  "kernelspec": {
   "display_name": "Python 3 (ipykernel)",
   "language": "python",
   "name": "python3"
  },
  "language_info": {
   "codemirror_mode": {
    "name": "ipython",
    "version": 3
   },
   "file_extension": ".py",
   "mimetype": "text/x-python",
   "name": "python",
   "nbconvert_exporter": "python",
   "pygments_lexer": "ipython3",
   "version": "3.10.6"
  }
 },
 "nbformat": 4,
 "nbformat_minor": 5
}
