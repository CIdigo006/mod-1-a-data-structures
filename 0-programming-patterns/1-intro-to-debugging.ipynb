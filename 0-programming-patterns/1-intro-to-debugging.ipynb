{
 "cells": [
  {
   "cell_type": "markdown",
   "metadata": {},
   "source": [
    "# Intro to Debugging "
   ]
  },
  {
   "cell_type": "markdown",
   "metadata": {},
   "source": [
    "### Introduction"
   ]
  },
  {
   "cell_type": "markdown",
   "metadata": {},
   "source": [
    "One of the tricky parts of programming, is that a single mistyped character can prevent a program from working.  But the nice thing about programming, is that Python tries to tell you what is going wrong.  It accomplishes this with error messages.  \n",
    "\n",
    "In this lesson, we'll take a look at some common error messages, and practice debugging our code."
   ]
  },
  {
   "cell_type": "markdown",
   "metadata": {},
   "source": [
    "### 1. Reading the error message"
   ]
  },
  {
   "cell_type": "markdown",
   "metadata": {},
   "source": [
    "Our first step in debugging should be to read and understand the error message.  Let's take a look.  For example, let's try to select the first element from a set."
   ]
  },
  {
   "cell_type": "code",
   "execution_count": 6,
   "metadata": {},
   "outputs": [],
   "source": [
    "cities = set(['nyc', 'la', 'chicago'])"
   ]
  },
  {
   "cell_type": "code",
   "execution_count": 18,
   "metadata": {},
   "outputs": [
    {
     "data": {
      "text/plain": [
       "'chicago'"
      ]
     },
     "execution_count": 18,
     "metadata": {},
     "output_type": "execute_result"
    }
   ],
   "source": [
    "list(cities)[0]"
   ]
  },
  {
   "cell_type": "code",
   "execution_count": 8,
   "metadata": {},
   "outputs": [
    {
     "ename": "TypeError",
     "evalue": "'set' object is not subscriptable",
     "output_type": "error",
     "traceback": [
      "\u001b[0;31m---------------------------------------------------------------------------\u001b[0m",
      "\u001b[0;31mTypeError\u001b[0m                                 Traceback (most recent call last)",
      "\u001b[0;32m/var/folders/kx/pltjhhp51mv3hjlcsp0dwlfw0000gn/T/ipykernel_59198/1083240252.py\u001b[0m in \u001b[0;36m<module>\u001b[0;34m\u001b[0m\n\u001b[0;32m----> 1\u001b[0;31m \u001b[0mcities\u001b[0m\u001b[0;34m[\u001b[0m\u001b[0;36m0\u001b[0m\u001b[0;34m]\u001b[0m\u001b[0;34m\u001b[0m\u001b[0;34m\u001b[0m\u001b[0m\n\u001b[0m",
      "\u001b[0;31mTypeError\u001b[0m: 'set' object is not subscriptable"
     ]
    }
   ],
   "source": [
    "cities[0]"
   ]
  },
  {
   "cell_type": "markdown",
   "metadata": {},
   "source": [
    "Take a look at the error message, which we'll copy below.\n",
    "```\n",
    "----> 1 cities[0]\n",
    "\n",
    "TypeError: 'set' object is not subscriptable\n",
    "```"
   ]
  },
  {
   "cell_type": "markdown",
   "metadata": {},
   "source": [
    "So the first thing we'll see is the arrow, where the Python interpreter believes the error is located.  The next thing we see is a `TypeError`.\n",
    "\n",
    "With `TypeError`, we are trying to perform an operation which is not allowed on this type.  That is, we are trying to select a specific element from a set, when this operation is not permitted.\n",
    "\n",
    "If we keep going, we can see the details of this error message.\n",
    "\n",
    "```\n",
    "'set' object is not subscriptable\n",
    "```"
   ]
  },
  {
   "cell_type": "markdown",
   "metadata": {},
   "source": [
    "Now what does `subscriptable` mean?  If we do not understand the error message, a good move is simply to copy it into google and see what it tells us."
   ]
  },
  {
   "cell_type": "markdown",
   "metadata": {},
   "source": [
    "> <img src=\"./python-type-error.png\" width=\"60%\">"
   ]
  },
  {
   "cell_type": "markdown",
   "metadata": {},
   "source": [
    "From here, click on the link and then we can view the top answer."
   ]
  },
  {
   "cell_type": "markdown",
   "metadata": {},
   "source": [
    "> <img src=\"./top-answer.png\" width=\"60%\">"
   ]
  },
  {
   "cell_type": "markdown",
   "metadata": {},
   "source": [
    "And we can see that it tells us that `sets` do not support indexing.\n",
    "\n",
    "At this point, perhaps we should explain what `subscriptable` means."
   ]
  },
  {
   "cell_type": "markdown",
   "metadata": {},
   "source": [
    "> An object is `subscriptable` if we can select specific components from our datatype.  And when we're using the square brackets to select from some data, that's what we're trying to do.  \n",
    "\n",
    "> As we know our, lists, dictionaries, and strings *are* subscriptable.\n",
    "\n",
    "```python\n",
    "restaurant = {'name': 'chipotle', 'employees': ['sam', 'fred', 'barbara']}\n",
    "restaurant['employees'] # ['sam', 'fred', 'barbara'] \n",
    "```"
   ]
  },
  {
   "cell_type": "markdown",
   "metadata": {},
   "source": [
    "### 2. Look at what's hidden"
   ]
  },
  {
   "cell_type": "markdown",
   "metadata": {},
   "source": [
    "If the first step is to read the error message, the second step is to look at what's hidden.  Let's see an example."
   ]
  },
  {
   "cell_type": "code",
   "execution_count": null,
   "metadata": {},
   "outputs": [],
   "source": [
    "presidents = [{'name': 'gw', 'party': 'fed'}, {'name': 'ja'}, {'name': 'lincoln', 'party': 'republican'}]"
   ]
  },
  {
   "cell_type": "code",
   "execution_count": null,
   "metadata": {},
   "outputs": [],
   "source": [
    "presidents[-3:]"
   ]
  },
  {
   "cell_type": "code",
   "execution_count": null,
   "metadata": {},
   "outputs": [],
   "source": [
    "import pdb\n",
    "\n",
    "parties = []\n",
    "for president in presidents:\n",
    "    \n",
    "    party = president['party']\n",
    "    \n",
    "    parties.append(party)"
   ]
  },
  {
   "cell_type": "code",
   "execution_count": 19,
   "metadata": {},
   "outputs": [],
   "source": [
    "employees = ['sam', 'fred', 'barbara']\n",
    "\n",
    "employees = employees.append('susan')"
   ]
  },
  {
   "cell_type": "code",
   "execution_count": 20,
   "metadata": {},
   "outputs": [
    {
     "ename": "TypeError",
     "evalue": "'NoneType' object is not subscriptable",
     "output_type": "error",
     "traceback": [
      "\u001b[0;31m---------------------------------------------------------------------------\u001b[0m",
      "\u001b[0;31mTypeError\u001b[0m                                 Traceback (most recent call last)",
      "\u001b[0;32m/var/folders/kx/pltjhhp51mv3hjlcsp0dwlfw0000gn/T/ipykernel_51249/3119414679.py\u001b[0m in \u001b[0;36m<module>\u001b[0;34m\u001b[0m\n\u001b[0;32m----> 1\u001b[0;31m \u001b[0memployees\u001b[0m\u001b[0;34m[\u001b[0m\u001b[0;34m-\u001b[0m\u001b[0;36m1\u001b[0m\u001b[0;34m]\u001b[0m\u001b[0;34m\u001b[0m\u001b[0;34m\u001b[0m\u001b[0m\n\u001b[0m",
      "\u001b[0;31mTypeError\u001b[0m: 'NoneType' object is not subscriptable"
     ]
    }
   ],
   "source": [
    "employees[-1]"
   ]
  },
  {
   "cell_type": "markdown",
   "metadata": {},
   "source": [
    "Ok, so here we see that `subscriptable` error again, but this time it's telling us that `NoneType` is not subscriptable.  Where did `None` come from.  \n",
    "\n",
    "**Stop**\n",
    "\n",
    "Now that we read the error message, our next step should not be to go directly into fixing the error, but to look at data contained in the variable.  \n",
    "\n",
    "How do we do that?  Just type in the variable name."
   ]
  },
  {
   "cell_type": "markdown",
   "metadata": {},
   "source": [
    "> Press shift + return below."
   ]
  },
  {
   "cell_type": "code",
   "execution_count": 22,
   "metadata": {},
   "outputs": [],
   "source": [
    "employees"
   ]
  },
  {
   "cell_type": "markdown",
   "metadata": {},
   "source": [
    "See that, `employees` shows something different than we expected.  When we don't see anything displayed with the variable name this means that employees is equal to `None`."
   ]
  },
  {
   "cell_type": "code",
   "execution_count": 27,
   "metadata": {},
   "outputs": [
    {
     "data": {
      "text/plain": [
       "True"
      ]
     },
     "execution_count": 27,
     "metadata": {},
     "output_type": "execute_result"
    }
   ],
   "source": [
    "employees == None"
   ]
  },
  {
   "cell_type": "markdown",
   "metadata": {},
   "source": [
    "### 3. Move backwards"
   ]
  },
  {
   "cell_type": "markdown",
   "metadata": {},
   "source": [
    "So now that we saw that employees is different than we expected, the next step is to discover why.  Sometimes, we can just look at the code, and see where the error is."
   ]
  },
  {
   "cell_type": "markdown",
   "metadata": {},
   "source": [
    "But a safer method for identifying the error is to start where the code *is* what we expected, and then find the spot where things changed.  Ok, now let's do this."
   ]
  },
  {
   "cell_type": "markdown",
   "metadata": {},
   "source": [
    "> Our code looks like the following:"
   ]
  },
  {
   "cell_type": "code",
   "execution_count": 28,
   "metadata": {},
   "outputs": [],
   "source": [
    "employees = ['sam', 'fred', 'barbara']\n",
    "\n",
    "employees = employees.append('susan')"
   ]
  },
  {
   "cell_type": "markdown",
   "metadata": {},
   "source": [
    "Ok, so now we'll start where we're relatively confident the variable is what we expect."
   ]
  },
  {
   "cell_type": "code",
   "execution_count": 29,
   "metadata": {},
   "outputs": [],
   "source": [
    "employees = ['sam', 'fred', 'barbara']"
   ]
  },
  {
   "cell_type": "code",
   "execution_count": 30,
   "metadata": {},
   "outputs": [
    {
     "data": {
      "text/plain": [
       "['sam', 'fred', 'barbara']"
      ]
     },
     "execution_count": 30,
     "metadata": {},
     "output_type": "execute_result"
    }
   ],
   "source": [
    "employees"
   ]
  },
  {
   "cell_type": "markdown",
   "metadata": {},
   "source": [
    "Ok, so that part looks good.  Onto the next line.  We can breakdown the next line by removing the variable name."
   ]
  },
  {
   "cell_type": "code",
   "execution_count": 32,
   "metadata": {},
   "outputs": [],
   "source": [
    "employees.append('barbara')"
   ]
  },
  {
   "cell_type": "markdown",
   "metadata": {},
   "source": [
    "Notice that we don't see any result on the line above.  This is where the error is coming from.  The append method returns `None`, and we were then doing:"
   ]
  },
  {
   "cell_type": "code",
   "execution_count": 34,
   "metadata": {},
   "outputs": [],
   "source": [
    "employees = employees.append('barbara')"
   ]
  },
  {
   "cell_type": "markdown",
   "metadata": {},
   "source": [
    "This reassigns the variable `employees` from our list to the return value of `append`, `None`.  "
   ]
  },
  {
   "cell_type": "code",
   "execution_count": 35,
   "metadata": {},
   "outputs": [],
   "source": [
    "employees"
   ]
  },
  {
   "cell_type": "markdown",
   "metadata": {},
   "source": [
    "We'll learn more about return values, when we discuss functions in the future.  But for now the point is that when we first run into an error, our procedure should not be to directly fix the issue, but first to look and understand the problem.  From there, we want to identify code that operates as we expect, and continue moving through our code until we identify where our variables are different that we expect."
   ]
  },
  {
   "cell_type": "markdown",
   "metadata": {},
   "source": [
    "### Summary"
   ]
  },
  {
   "cell_type": "markdown",
   "metadata": {},
   "source": [
    "In this lesson, we learned about debugging.  The first step to debugging is simply to read the error message.  When we read the error message, note that there is an arrow that guesses where the error is originating.  Then there is a *category* of the error -- for example, with the `TypeError`, we are performing an operation that is not permitted on that type.  And finally, we can understand the error message (often with the help of Google).\n",
    "\n",
    "Then we saw the second step of debugging our error messages.  This is to *look* at what's hidden.  And for us right now, what's hidden is what's in a variable.  So before trying to make the fix, we first want to find code that operates as we expect, and from there move identify where the code operates differently than our expectation.  \n",
    "\n",
    "That's the cause of our bug."
   ]
  },
  {
   "cell_type": "code",
   "execution_count": null,
   "metadata": {},
   "outputs": [],
   "source": []
  }
 ],
 "metadata": {
  "kernelspec": {
   "display_name": "Python 3 (ipykernel)",
   "language": "python",
   "name": "python3"
  },
  "language_info": {
   "codemirror_mode": {
    "name": "ipython",
    "version": 3
   },
   "file_extension": ".py",
   "mimetype": "text/x-python",
   "name": "python",
   "nbconvert_exporter": "python",
   "pygments_lexer": "ipython3",
   "version": "3.9.7"
  }
 },
 "nbformat": 4,
 "nbformat_minor": 4
}
