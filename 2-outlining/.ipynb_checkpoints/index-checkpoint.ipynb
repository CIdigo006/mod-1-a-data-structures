{
 "cells": [
  {
   "cell_type": "markdown",
   "id": "dabbfeea-f1a0-45b5-a137-528684cdfa19",
   "metadata": {},
   "source": [
    "# Outlining"
   ]
  },
  {
   "cell_type": "markdown",
   "id": "0238c25b-0c98-4090-bf09-3dce2ad07ae2",
   "metadata": {},
   "source": [
    "### Introduction"
   ]
  },
  {
   "cell_type": "markdown",
   "id": "59b91941-fe8d-4d0b-af13-12787295f2f5",
   "metadata": {},
   "source": [
    "In this lesson, we'll learn about how to outline a course.  By outlining, we mean literally that, producing an outline that organizes the course content.  The outline contains the essential information provided throughout the course, and does so where course content is organized in a hierarchy."
   ]
  },
  {
   "cell_type": "markdown",
   "id": "b0d2ff81-f8b5-49c7-9902-95bb36f93a91",
   "metadata": {},
   "source": [
    "### Outlining Example"
   ]
  },
  {
   "cell_type": "markdown",
   "id": "b09268f3-df59-4d9e-8a96-067434d24db5",
   "metadata": {},
   "source": [
    "An outline of our initial material may look something like the following:"
   ]
  },
  {
   "cell_type": "markdown",
   "id": "64e04eb6-6710-4259-a1f2-4a66b6fa22be",
   "metadata": {},
   "source": [
    "<img src=\"https://raw.githubusercontent.com/eng-6-22/mod-1-a-data-structures/main/2-outlining/outline.png\" width=\"60%\">"
   ]
  },
  {
   "cell_type": "markdown",
   "id": "9e90ede7-6ddc-4201-9414-f7e48173a486",
   "metadata": {},
   "source": [
    "Take a look at the content above.  On the outermost layer, we have the topic of `Data Structures`, and then one layer in, we have the different data types of strings, and lists.  And then from there, we have the definition of each datatype, followed by the various methods, and what they do."
   ]
  },
  {
   "cell_type": "markdown",
   "id": "caa1670e-418f-4a9e-90b7-5c20533e81f8",
   "metadata": {},
   "source": [
    "> Want to see another example?  \n",
    "> \n",
    "> Here, is a law school outline of constitutional law.\n",
    "> \n",
    "> [NYU Constitutional Law Outline](https://www.law.nyu.edu/sites/default/files/upload_documents/Constitutional_Law_Yoshino_Spring_2009_(2).pdf)"
   ]
  },
  {
   "cell_type": "markdown",
   "id": "a7c6c773-6109-40ce-bf1e-1c4c9754502e",
   "metadata": {},
   "source": [
    "### Why outline"
   ]
  },
  {
   "cell_type": "markdown",
   "id": "d0e467bb-8316-4b8c-8358-8c57a639ec42",
   "metadata": {},
   "source": [
    "Now the reason to outline, is not to produce the end product, but because of the learning that occurs in that production.  \n",
    "\n",
    "* Prove we know it\n",
    "\n",
    "By asking us to write down content, outlining ensures that we really can explain the course material in an easily digestible manner.  If we don't know how to explain the material, then we can always use Google for some inspiration.  As the old saying goes, \"If you cannot explain it to a six year old, you don't understand it yourself.\"  \n",
    "\n",
    "> This is why we place the definition at the beginning of each topic.\n",
    "\n",
    "* Facilitates Retention of Material\n",
    "\n",
    "Outlining also facilitates learning through chunking.  \n",
    "\n",
    "> Chunking is a process by which individual pieces of an information set are broken down and then grouped together in a meaningful whole. The chunks by which the information is grouped are meant to improve short-term retention of the material, thus bypassing the limited capacity of working memory and allowing the working memory to be more efficient.\n",
    "\n",
    "So chunking is a process that improves our retention of material through breaking down material, and then grouping together content.\n",
    "\n",
    "* Organized Communication\n",
    "\n",
    "Finally, outlining is a practice in organizing your thoughts, and organizing the way that you communicate.  Speaking professionally is not just about tone or friendliness, but how you convey information to others.  An excellent way to do this, is to provide organization to the way you convey information, and to convey the most essential material.  Because outlines provide a hierarchy, it naturally provides training in these goals.  \n",
    "\n",
    "For example, if someone asks you to describe a strings in Python, you may start with the definition, and then say it has various methods.  Then instead rattling off a list of methods, it's even better if you can provide some organization to them. "
   ]
  },
  {
   "cell_type": "markdown",
   "id": "5473757f-50db-4638-be8f-e138c8421da0",
   "metadata": {},
   "source": [
    "Notice that we don't just list our methods but we organize them into those that select information from our string, those that produce a changed string, and those that change from one datatype to another.  "
   ]
  },
  {
   "cell_type": "markdown",
   "id": "133ff182-e72b-4fd0-8417-f87a0fd5318a",
   "metadata": {},
   "source": [
    "> This organization is good for thinking *and* communication, if you tell someone there are three kinds of string methods to think of, and then list the different kinds, you give the listener an opportunity to direct you into the particular kind they want to learn more about.  Or at the very least, it allows the listener to more easily organize the information in their own mind."
   ]
  },
  {
   "cell_type": "markdown",
   "id": "17960566-dc02-42fa-8318-d1d6493cd946",
   "metadata": {},
   "source": [
    "### How to Outline"
   ]
  },
  {
   "cell_type": "markdown",
   "id": "4be43ee1-5434-4c99-a679-ffde5c982de9",
   "metadata": {},
   "source": [
    "In outlining, it's generally good to look back over the organization of the course material itself.  For example, so far we've seen our content largely organized by different datatypes, which your outline can mimic."
   ]
  },
  {
   "cell_type": "markdown",
   "id": "bb717c22-7d25-43f2-93f3-c31d3e8abc25",
   "metadata": {},
   "source": [
    "<img src=\"https://raw.githubusercontent.com/eng-6-22/mod-1-a-data-structures/main/2-outlining/lists-strings.png\" width=\"60%\">"
   ]
  },
  {
   "cell_type": "markdown",
   "id": "202d0843-a4b3-462f-b6b6-69c696be614c",
   "metadata": {},
   "source": [
    "It may not be necessary to click on each lesson, but of course, you can if preferred.  Or instead, you may decide to reference the Python documentation on the datatypes, and then add relevant methods and information from there.\n",
    "\n",
    "> For example, here is the [documentation on strings](https://docs.python.org/3/library/string.html)."
   ]
  },
  {
   "cell_type": "markdown",
   "id": "4d508cc6-6f6e-44f7-92c1-87600cbff002",
   "metadata": {},
   "source": [
    "Of course, some information like looping through lists of dictionaries, may not be as readily available online. "
   ]
  },
  {
   "cell_type": "markdown",
   "id": "99cf9834-27e5-4079-b41c-fdfd3cdc6b4c",
   "metadata": {},
   "source": [
    "But the real key to outlining, is the intention that you place behind it.  You are outlining correctly if you are using it to clarify and organize your thoughts and understanding of course material."
   ]
  },
  {
   "cell_type": "markdown",
   "id": "ff5e494d-4d84-4142-9308-66e75399e4bf",
   "metadata": {},
   "source": [
    "### Summary"
   ]
  },
  {
   "cell_type": "markdown",
   "id": "f884fa52-1a26-4089-883c-022c8c39d1fd",
   "metadata": {},
   "source": [
    "In this lesson, we learned the why and the how to outlining.  With outlining, we produce an outline of the course content.  But the real purpose of outlining is not the production of the outline, but rather the organizing and retention of content in our own brain that occurs through the process.  Outlining also helps us practice organizing our communication.  By communicating with organization, we allow the listener to dive deeper into a specific topic, and organize content in his or her own brain.  "
   ]
  },
  {
   "cell_type": "markdown",
   "id": "3615a0f2-7ee0-406b-844f-f9f380e60b77",
   "metadata": {},
   "source": [
    "Here is an link to the [above outline](https://docs.google.com/document/d/15_rbN5Zow9TDhENFNjPvjeDJUPYScaHftAiuHcWEDtg/edit?usp=sharing)."
   ]
  },
  {
   "cell_type": "markdown",
   "id": "90589dd7-d44d-468b-9c19-25c832db961f",
   "metadata": {},
   "source": [
    "### Resources"
   ]
  },
  {
   "cell_type": "markdown",
   "id": "0b639bc9-41b9-4d2a-8d39-1848127baa89",
   "metadata": {},
   "source": [
    "[How to Write a Law School Outline](https://jdadvising.com/how-to-write-a-law-school-outline-an-in-depth-guide/)"
   ]
  },
  {
   "cell_type": "markdown",
   "id": "e9fa798e-c066-4cb0-9a76-97d04e8e5c18",
   "metadata": {},
   "source": [
    "[Outlining for Exams](https://www.law.georgetown.edu/wp-content/uploads/2018/07/OutliningforExamsHandoutFinal.2016-1.pdf)"
   ]
  }
 ],
 "metadata": {
  "kernelspec": {
   "display_name": "Python 3 (ipykernel)",
   "language": "python",
   "name": "python3"
  },
  "language_info": {
   "codemirror_mode": {
    "name": "ipython",
    "version": 3
   },
   "file_extension": ".py",
   "mimetype": "text/x-python",
   "name": "python",
   "nbconvert_exporter": "python",
   "pygments_lexer": "ipython3",
   "version": "3.9.10"
  }
 },
 "nbformat": 4,
 "nbformat_minor": 5
}
