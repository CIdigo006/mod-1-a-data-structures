{
 "cells": [
  {
   "cell_type": "markdown",
   "id": "39c6ce9c-fcb4-4631-ab1f-cddccfa83857",
   "metadata": {},
   "source": [
    "# Working on a Project"
   ]
  },
  {
   "cell_type": "markdown",
   "id": "1df1bcbb-c8e9-4754-8630-d9065ba9c8c7",
   "metadata": {},
   "source": [
    "### Introduction"
   ]
  },
  {
   "cell_type": "markdown",
   "id": "74a5b241-349f-4a6e-9d4e-e00994903fa3",
   "metadata": {},
   "source": [
    "While we do not formally require a side project in this course, many students find working on a project a very effective way to reinforce what they learned in class."
   ]
  },
  {
   "cell_type": "markdown",
   "id": "3914a0ac-664b-4734-b07b-f8b22d7daf8f",
   "metadata": {},
   "source": [
    "### Getting Started"
   ]
  },
  {
   "cell_type": "markdown",
   "id": "ffba5691-ad23-46d0-8619-86f2ab23ef35",
   "metadata": {},
   "source": [
    "To get started on a project, it is often useful to consider a topic or dataset that you are interested in, and then pull some data.\n",
    "\n",
    "> We do not recommend spending too much time considering and reconsidering a project topic.  The whole point of this is to reinforce learning, and your project will evolve over time.\n",
    "\n",
    "So how do you pull some data?  Well a good way is to find an API -- a mechanism where a company or organization makes their data available, and then use the `requests` library to access data from the API. "
   ]
  },
  {
   "cell_type": "markdown",
   "id": "2494cfba-b428-47fa-ae8a-54b1e74be85b",
   "metadata": {},
   "source": [
    "### Let's see it"
   ]
  },
  {
   "cell_type": "markdown",
   "id": "37aaef08-9291-4ce5-8ed2-78ad8ba62482",
   "metadata": {},
   "source": [
    "For example, cities provide lots information through their \"open data\" website, and from there you can access their api. "
   ]
  },
  {
   "cell_type": "markdown",
   "id": "bc83bad7-b26f-4df1-9024-59d509f0afc1",
   "metadata": {},
   "source": [
    "For example, we can find NYC's open data website [here](https://data.cityofnewyork.us/).  Click on it, and then on the left hand side you can see a list of topics.  If we click on `education`, then from there we can see 2012 SAT results."
   ]
  },
  {
   "cell_type": "markdown",
   "id": "f4f072f2-f54f-404e-a0a1-af55ab090e2e",
   "metadata": {},
   "source": [
    "> You can also just click the link [here](https://data.cityofnewyork.us/Education/2012-SAT-Results/f9bf-2cp4)."
   ]
  },
  {
   "cell_type": "markdown",
   "id": "d6e1567e-bea5-4b62-ba55-422c1331aa13",
   "metadata": {},
   "source": [
    "From there, you can find the api by clicking on the API tab towards the left, and then copying the API endpoint that we see towards the bottom of the popup."
   ]
  },
  {
   "cell_type": "markdown",
   "id": "292f631b-cfe8-493d-bf4f-b50ca8ef9302",
   "metadata": {},
   "source": [
    "<img src=\"./api-work.png\" width=\"100%\">"
   ]
  },
  {
   "cell_type": "markdown",
   "id": "de83788f-4df6-4356-8197-e92a85a08168",
   "metadata": {},
   "source": [
    "Ok, now it's time to call the API."
   ]
  },
  {
   "cell_type": "markdown",
   "id": "6c175ae3-b122-4bcc-8fd7-13050c4aed6b",
   "metadata": {},
   "source": [
    "### Getting data from the API"
   ]
  },
  {
   "cell_type": "markdown",
   "id": "b203be0f-f559-4041-8589-1e0395a3f130",
   "metadata": {},
   "source": [
    "The API endpoint that we copied above is just the url where we can access the api.  And then we can get data from that url with the following."
   ]
  },
  {
   "cell_type": "code",
   "execution_count": 1,
   "id": "84acdbf3-2d6d-4bea-865b-1e5fb19aa06a",
   "metadata": {},
   "outputs": [],
   "source": [
    "import requests\n",
    "url = \"https://data.cityofnewyork.us/resource/f9bf-2cp4.json\"\n",
    "response = requests.get(url)\n",
    "schools = response.json()"
   ]
  },
  {
   "cell_type": "markdown",
   "id": "cb238f56-367b-4e5f-89fa-e876af28fc4f",
   "metadata": {},
   "source": [
    "And then if we look at our data, we see that we are back to our list of dictionaries."
   ]
  },
  {
   "cell_type": "code",
   "execution_count": 3,
   "id": "59a1c687-3636-414c-bfa8-b0bab76a86d7",
   "metadata": {},
   "outputs": [
    {
     "data": {
      "text/plain": [
       "[{'dbn': '01M292',\n",
       "  'school_name': 'HENRY STREET SCHOOL FOR INTERNATIONAL STUDIES',\n",
       "  'num_of_sat_test_takers': '29',\n",
       "  'sat_critical_reading_avg_score': '355',\n",
       "  'sat_math_avg_score': '404',\n",
       "  'sat_writing_avg_score': '363'}]"
      ]
     },
     "execution_count": 3,
     "metadata": {},
     "output_type": "execute_result"
    }
   ],
   "source": [
    "schools[:1]"
   ]
  },
  {
   "cell_type": "markdown",
   "id": "fb592f68-2e2a-493b-bcde-11b9d9b1cc20",
   "metadata": {},
   "source": [
    "> **Note:** Above, we got back a list of dictionaries but some APIs will return a dictionary instead of a list.  It's the developer's responsibility to look at the structure of the data that the API returns."
   ]
  },
  {
   "cell_type": "markdown",
   "id": "20152ab2-b25c-4d01-9d69-99e4884bef24",
   "metadata": {},
   "source": [
    "Breaking down the code above.  Ok, so let's see how we called the API one more time."
   ]
  },
  {
   "cell_type": "code",
   "execution_count": 4,
   "id": "f5135b79-c3b7-4d2c-9c8b-2b1617395a47",
   "metadata": {},
   "outputs": [],
   "source": [
    "import requests # import the requests library\n",
    "url = \"https://data.cityofnewyork.us/resource/f9bf-2cp4.json\"\n",
    "response = requests.get(url) # request from the url"
   ]
  },
  {
   "cell_type": "markdown",
   "id": "1f3a9b21-e51b-4308-8fff-7a37441b9994",
   "metadata": {},
   "source": [
    "So the three lines above import the requests library, so that we can call the api.  And then we use the requests.get method, passing in the url as an argument.  We assign the result to the variable `response`."
   ]
  },
  {
   "cell_type": "code",
   "execution_count": 5,
   "id": "6d8ff426-1c12-4975-9d92-9d2b1fb2e6d0",
   "metadata": {},
   "outputs": [
    {
     "data": {
      "text/plain": [
       "<Response [200]>"
      ]
     },
     "execution_count": 5,
     "metadata": {},
     "output_type": "execute_result"
    }
   ],
   "source": [
    "response"
   ]
  },
  {
   "cell_type": "markdown",
   "id": "c8e07ae5-44ba-49be-acbe-f532e491bd7b",
   "metadata": {},
   "source": [
    "Response just returns a response object (whatever that is), and inside that object is our data.  But to get it, we need to call `response.json()`.  So we do that, assigning the data to a variable."
   ]
  },
  {
   "cell_type": "code",
   "execution_count": 6,
   "id": "daf6f953-750e-4479-8747-afe32612ae49",
   "metadata": {},
   "outputs": [
    {
     "data": {
      "text/plain": [
       "[{'dbn': '01M292',\n",
       "  'school_name': 'HENRY STREET SCHOOL FOR INTERNATIONAL STUDIES',\n",
       "  'num_of_sat_test_takers': '29',\n",
       "  'sat_critical_reading_avg_score': '355',\n",
       "  'sat_math_avg_score': '404',\n",
       "  'sat_writing_avg_score': '363'},\n",
       " {'dbn': '01M448',\n",
       "  'school_name': 'UNIVERSITY NEIGHBORHOOD HIGH SCHOOL',\n",
       "  'num_of_sat_test_takers': '91',\n",
       "  'sat_critical_reading_avg_score': '383',\n",
       "  'sat_math_avg_score': '423',\n",
       "  'sat_writing_avg_score': '366'}]"
      ]
     },
     "execution_count": 6,
     "metadata": {},
     "output_type": "execute_result"
    }
   ],
   "source": [
    "schools = response.json()\n",
    "schools[:2]"
   ]
  },
  {
   "cell_type": "markdown",
   "id": "c3f90cd9-9b9c-4bc7-9185-9575ff3d2076",
   "metadata": {},
   "source": [
    "### Other APIs"
   ]
  },
  {
   "cell_type": "markdown",
   "id": "d0a3df04-0041-4a93-bbad-3e69df78d723",
   "metadata": {},
   "source": [
    "So how do you find these APIs?  Well, we can Google of course.  Or you can also browse [this list](https://github.com/public-apis/public-apis).  One thing to note is that some of the APIs require authentication.  We'll learn how to authenticate with an API in this course but it can be tricky if you've never done it.  So perhaps start with a url that does not require authentication."
   ]
  },
  {
   "cell_type": "markdown",
   "id": "d86626b0-8555-4235-bd75-3f8ada139af9",
   "metadata": {},
   "source": [
    "> For example, under the list of APIs we can see a column that says Auth no."
   ]
  },
  {
   "cell_type": "markdown",
   "id": "7358c24f-813f-440c-8a2f-ec06cdf32b72",
   "metadata": {},
   "source": [
    "> <img src=\"./auth-no.png\" width=\"70%\">"
   ]
  },
  {
   "cell_type": "markdown",
   "id": "d3a864a8-8fe4-41dd-83a3-2b5ec4989510",
   "metadata": {},
   "source": [
    "And then, after becoming more familiar with authentication with APIs, you can always add an API that requires authentication."
   ]
  },
  {
   "cell_type": "markdown",
   "id": "a0cbe9e7-4db2-4a5d-bd45-c4c1cc175514",
   "metadata": {},
   "source": [
    "### Need a quick idea?"
   ]
  },
  {
   "cell_type": "markdown",
   "id": "a0db8863-1f78-4de5-9963-e79305e02da8",
   "metadata": {},
   "source": [
    "Finally, if you don't have any project idea, a really interesting API is the Texas Mixed Drink Receipts API.  This is information from the reporting of all Texas establishments about the amount of alcohol they sell each month.  You can find documentation on the API [here](https://dev.socrata.com/foundry/data.texas.gov/naix-2893).  And you can call the API with the following."
   ]
  },
  {
   "cell_type": "code",
   "execution_count": 7,
   "id": "ec90a0db-3597-407d-ae1f-66a495c32920",
   "metadata": {},
   "outputs": [],
   "source": [
    "import requests\n",
    "url = \"https://data.texas.gov/api/views/naix-2893/rows.json\"\n",
    "response = requests.get(url)\n",
    "receipt_data = response.json()"
   ]
  }
 ],
 "metadata": {
  "kernelspec": {
   "display_name": "Python 3 (ipykernel)",
   "language": "python",
   "name": "python3"
  },
  "language_info": {
   "codemirror_mode": {
    "name": "ipython",
    "version": 3
   },
   "file_extension": ".py",
   "mimetype": "text/x-python",
   "name": "python",
   "nbconvert_exporter": "python",
   "pygments_lexer": "ipython3",
   "version": "3.10.6"
  }
 },
 "nbformat": 4,
 "nbformat_minor": 5
}
