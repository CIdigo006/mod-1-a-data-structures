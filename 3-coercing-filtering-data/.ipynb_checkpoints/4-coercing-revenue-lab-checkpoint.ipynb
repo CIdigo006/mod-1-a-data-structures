{
 "cells": [
  {
   "cell_type": "markdown",
   "metadata": {},
   "source": [
    "# Texas Revenues Lab"
   ]
  },
  {
   "cell_type": "markdown",
   "metadata": {},
   "source": [
    "### Introduction"
   ]
  },
  {
   "cell_type": "markdown",
   "metadata": {},
   "source": [
    "So far, we have learned about dictionaries and lists, and also how to use the `map` function to create new lists from our original data.  In this lesson, we'll see how this can come in handy when working with APIs."
   ]
  },
  {
   "cell_type": "markdown",
   "metadata": {},
   "source": [
    "Let's start off again by calling our API."
   ]
  },
  {
   "cell_type": "code",
   "execution_count": 7,
   "metadata": {},
   "outputs": [],
   "source": [
    "import requests\n",
    "response = requests.get(\"https://data.texas.gov/resource/naix-2893.json?location_name=MAX%27S%20WINE%20DIVE\")\n",
    "restaurant_receipts = response.json()"
   ]
  },
  {
   "cell_type": "markdown",
   "metadata": {},
   "source": [
    "Now we know that this returns a list with each element as a dictionary."
   ]
  },
  {
   "cell_type": "code",
   "execution_count": 8,
   "metadata": {},
   "outputs": [
    {
     "data": {
      "text/plain": [
       "list"
      ]
     },
     "execution_count": 8,
     "metadata": {},
     "output_type": "execute_result"
    }
   ],
   "source": [
    "type(restaurant_receipts)"
   ]
  },
  {
   "cell_type": "code",
   "execution_count": 9,
   "metadata": {},
   "outputs": [
    {
     "data": {
      "text/plain": [
       "dict"
      ]
     },
     "execution_count": 9,
     "metadata": {},
     "output_type": "execute_result"
    }
   ],
   "source": [
    "first_restaurant = restaurant_receipts[0]\n",
    "type(first_restaurant)"
   ]
  },
  {
   "cell_type": "markdown",
   "metadata": {},
   "source": [
    "The problem we have is that each of these lists returns a lot of information.  Take a look at all of the keys returned by the first restaurant."
   ]
  },
  {
   "cell_type": "code",
   "execution_count": 3,
   "metadata": {},
   "outputs": [],
   "source": [
    "first_restaurant.keys()\n",
    "# dict_keys(['beer_receipts', 'cover_charge_receipts', 'inside_outside_city_limits_code_y_n', 'liquor_receipts', 'location_address', 'location_city', 'location_county', 'location_name', 'location_number', 'location_state', 'location_zip', 'obligation_end_date_yyyymmdd', 'responsibility_begin_date_yyyymmdd', 'tabc_permit_number', 'taxpayer_address', 'taxpayer_city', 'taxpayer_county', 'taxpayer_name', 'taxpayer_number', 'taxpayer_state', 'taxpayer_zip', 'total_receipts', \n",
    "# 'wine_receipts'])"
   ]
  },
  {
   "cell_type": "markdown",
   "metadata": {},
   "source": [
    "Holy moly, as it is said."
   ]
  },
  {
   "cell_type": "markdown",
   "metadata": {},
   "source": [
    "But as we'll, see a lot of this data here is not that useful to us.  Let's begin to explore this data to see what information it contains."
   ]
  },
  {
   "cell_type": "markdown",
   "metadata": {},
   "source": [
    "### Making things easier"
   ]
  },
  {
   "cell_type": "markdown",
   "metadata": {},
   "source": [
    "Now, in our call to the API, we selected information only for Max's wine bar.  So perhaps all of the taxpayer names are the same.  Let's begin by creating a list of just the taxpayer names, and see if they're all the same."
   ]
  },
  {
   "cell_type": "markdown",
   "metadata": {},
   "source": [
    "Once again, here is our `restaurant_receipts` code."
   ]
  },
  {
   "cell_type": "code",
   "execution_count": 1,
   "metadata": {},
   "outputs": [],
   "source": [
    "import requests\n",
    "response = requests.get(\"https://data.texas.gov/resource/naix-2893.json?location_name=MAX%27S%20WINE%20DIVE\")\n",
    "restaurant_receipts = response.json()"
   ]
  },
  {
   "cell_type": "markdown",
   "metadata": {},
   "source": [
    "> Now create a list of just the taxpayer names."
   ]
  },
  {
   "cell_type": "code",
   "execution_count": 2,
   "metadata": {},
   "outputs": [],
   "source": [
    "taxpayer_names = None"
   ]
  },
  {
   "cell_type": "code",
   "execution_count": 17,
   "metadata": {},
   "outputs": [
    {
     "data": {
      "text/plain": [
       "'MWD AUSTIN DOWNTOWN, LLC'"
      ]
     },
     "execution_count": 17,
     "metadata": {},
     "output_type": "execute_result"
    }
   ],
   "source": [
    "taxpayer_names[0]\n",
    "# 'MWD AUSTIN DOWNTOWN, LLC'"
   ]
  },
  {
   "cell_type": "markdown",
   "metadata": {},
   "source": [
    "Ok, so the first entry is `'MWD AUSTIN DOWNTOWN, LLC'`.  Let's start to get a sense of what some of the other entries look like.  Select the first three elements from our list of `taxpayer_names` and assign it to a variable called `first_three_names`."
   ]
  },
  {
   "cell_type": "code",
   "execution_count": 3,
   "metadata": {},
   "outputs": [],
   "source": [
    "first_three_names = None"
   ]
  },
  {
   "cell_type": "code",
   "execution_count": 4,
   "metadata": {},
   "outputs": [],
   "source": [
    "first_three_names\n",
    "\n",
    "# ['MWD AUSTIN DOWNTOWN, LLC',\n",
    "#  'MWD AUSTIN DOWNTOWN, LLC',\n",
    "#  'MWD AUSTIN DOWNTOWN, LLC']"
   ]
  },
  {
   "cell_type": "markdown",
   "metadata": {},
   "source": [
    "Ok, it looks like all of the names are the same, but there's only one way to know for sure.  Let's see just the unique names below. "
   ]
  },
  {
   "cell_type": "code",
   "execution_count": 6,
   "metadata": {},
   "outputs": [],
   "source": [
    "unique_names = None"
   ]
  },
  {
   "cell_type": "code",
   "execution_count": null,
   "metadata": {},
   "outputs": [],
   "source": [
    "type(unique_names)\n",
    "# set"
   ]
  },
  {
   "cell_type": "code",
   "execution_count": 35,
   "metadata": {},
   "outputs": [
    {
     "data": {
      "text/plain": [
       "set"
      ]
     },
     "execution_count": 35,
     "metadata": {},
     "output_type": "execute_result"
    }
   ],
   "source": [
    "len(unique_names)\n",
    "# 2"
   ]
  },
  {
   "cell_type": "markdown",
   "metadata": {},
   "source": [
    "Time to take a look."
   ]
  },
  {
   "cell_type": "code",
   "execution_count": 36,
   "metadata": {},
   "outputs": [
    {
     "data": {
      "text/plain": [
       "{'MWD AUSTIN DOWNTOWN, LLC', 'MWD DALLAS UPTOWN, LLC'}"
      ]
     },
     "execution_count": 36,
     "metadata": {},
     "output_type": "execute_result"
    }
   ],
   "source": [
    "unique_names\n",
    "# {'MWD AUSTIN DOWNTOWN, LLC', 'MWD DALLAS UPTOWN, LLC'}"
   ]
  },
  {
   "cell_type": "markdown",
   "metadata": {},
   "source": [
    "Ok, so it seems like we do have more than one name, and that the names represent the two different locations of Max's Wine Bar.  Let's check this by seeing if our restaurant also has two different addresses.\n",
    "\n",
    "Let's select our first restaurant, and then look at the keys available to discover where this information would be located."
   ]
  },
  {
   "cell_type": "code",
   "execution_count": 38,
   "metadata": {},
   "outputs": [
    {
     "data": {
      "text/plain": [
       "dict_keys(['beer_receipts', 'cover_charge_receipts', 'inside_outside_city_limits_code_y_n', 'liquor_receipts', 'location_address', 'location_city', 'location_county', 'location_name', 'location_number', 'location_state', 'location_zip', 'obligation_end_date_yyyymmdd', 'responsibility_begin_date_yyyymmdd', 'tabc_permit_number', 'taxpayer_address', 'taxpayer_city', 'taxpayer_county', 'taxpayer_name', 'taxpayer_number', 'taxpayer_state', 'taxpayer_zip', 'total_receipts', 'wine_receipts'])"
      ]
     },
     "execution_count": 38,
     "metadata": {},
     "output_type": "execute_result"
    }
   ],
   "source": [
    "restaurant_receipts[0].keys()"
   ]
  },
  {
   "cell_type": "markdown",
   "metadata": {},
   "source": [
    "There are two different keys that have the word address: `location_address` and `taxpayer_address`.  Let's get a unique set of the `location_address`.  Go for it."
   ]
  },
  {
   "cell_type": "code",
   "execution_count": 8,
   "metadata": {},
   "outputs": [],
   "source": [
    "location_address_set = None"
   ]
  },
  {
   "cell_type": "code",
   "execution_count": 9,
   "metadata": {},
   "outputs": [],
   "source": [
    "location_address_set\n",
    "# {'207 SAN JACINTO BLVD STE 200', '3600 MCKINNEY AVE STE 100'}"
   ]
  },
  {
   "cell_type": "markdown",
   "metadata": {},
   "source": [
    "### Creating a list of dictionaries"
   ]
  },
  {
   "cell_type": "markdown",
   "metadata": {},
   "source": [
    "Ok, so it there is a different taxpayer name for each location, and `{'MWD AUSTIN DOWNTOWN, LLC', 'MWD DALLAS UPTOWN, LLC'}` are for locations in the two different cities.  \n",
    "\n",
    "Now let's create a list of receipts with each dictionary receipt being a little smaller.  Let's have a list where each element is a dictionary with the keys of `obligation_end_date_yyyymmdd`, `location_address` and `'total_receipts'`.  We'll assign this new list to the variable `receipt_summaries`."
   ]
  },
  {
   "cell_type": "code",
   "execution_count": 10,
   "metadata": {},
   "outputs": [],
   "source": [
    "receipt_summaries = None"
   ]
  },
  {
   "cell_type": "code",
   "execution_count": 11,
   "metadata": {},
   "outputs": [],
   "source": [
    "# receipt_summaries"
   ]
  },
  {
   "cell_type": "markdown",
   "metadata": {},
   "source": [
    "### Summary"
   ]
  },
  {
   "cell_type": "markdown",
   "metadata": {},
   "source": [
    "Ok, great job!  In this lesson, we saw how we can use loops to work with just a subset of our data.  We also saw how we can explore our data by using loops to return a list of a single attribute, and then using `set` to view the unique elements of that list. "
   ]
  }
 ],
 "metadata": {
  "kernelspec": {
   "display_name": "Python 3 (ipykernel)",
   "language": "python",
   "name": "python3"
  },
  "language_info": {
   "codemirror_mode": {
    "name": "ipython",
    "version": 3
   },
   "file_extension": ".py",
   "mimetype": "text/x-python",
   "name": "python",
   "nbconvert_exporter": "python",
   "pygments_lexer": "ipython3",
   "version": "3.9.10"
  }
 },
 "nbformat": 4,
 "nbformat_minor": 4
}
