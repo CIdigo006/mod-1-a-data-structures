{
 "cells": [
  {
   "cell_type": "markdown",
   "metadata": {},
   "source": [
    "# Functions Data Structures Quiz"
   ]
  },
  {
   "cell_type": "markdown",
   "metadata": {},
   "source": [
    "### Function Warmup"
   ]
  },
  {
   "cell_type": "markdown",
   "metadata": {},
   "source": [
    "Write a function that takes in a person's name and capitalizes it."
   ]
  },
  {
   "cell_type": "code",
   "execution_count": null,
   "metadata": {},
   "outputs": [],
   "source": [
    "def capitalize_name(name):\n",
    "    pass"
   ]
  },
  {
   "cell_type": "code",
   "execution_count": null,
   "metadata": {},
   "outputs": [],
   "source": [
    "capitalize_name('bob')\n",
    "# 'Bob'"
   ]
  },
  {
   "cell_type": "code",
   "execution_count": null,
   "metadata": {},
   "outputs": [],
   "source": [
    "capitalize_name('fred')\n",
    "# 'Fred'"
   ]
  },
  {
   "cell_type": "markdown",
   "metadata": {},
   "source": [
    "* Write a function that takes two numbers and divides them"
   ]
  },
  {
   "cell_type": "code",
   "execution_count": null,
   "metadata": {},
   "outputs": [],
   "source": [
    "def divide(first_number, second_number):\n",
    "    pass"
   ]
  },
  {
   "cell_type": "code",
   "execution_count": null,
   "metadata": {},
   "outputs": [],
   "source": [
    "divide(6, 2)\n",
    "# 3.0"
   ]
  },
  {
   "cell_type": "markdown",
   "metadata": {},
   "source": [
    "Now change the function `divide` so that when `second_number` is not defined, we divide by one."
   ]
  },
  {
   "cell_type": "code",
   "execution_count": 51,
   "metadata": {},
   "outputs": [],
   "source": [
    "divide(6)\n",
    "# 6"
   ]
  },
  {
   "cell_type": "markdown",
   "metadata": {},
   "source": [
    "### Loops Warmup"
   ]
  },
  {
   "cell_type": "code",
   "execution_count": 17,
   "metadata": {},
   "outputs": [],
   "source": [
    "parks = ['bryant', 'central', 'battery']"
   ]
  },
  {
   "cell_type": "markdown",
   "metadata": {},
   "source": [
    "* Use loops to create a list of the `capitalized_parks` where each park is capitalized."
   ]
  },
  {
   "cell_type": "code",
   "execution_count": 53,
   "metadata": {},
   "outputs": [],
   "source": [
    "capitalized_parks = None\n",
    "\n"
   ]
  },
  {
   "cell_type": "code",
   "execution_count": 24,
   "metadata": {},
   "outputs": [
    {
     "data": {
      "text/plain": [
       "['Bryant', 'Central', 'Battery']"
      ]
     },
     "execution_count": 24,
     "metadata": {},
     "output_type": "execute_result"
    }
   ],
   "source": [
    "capitalized_parks\n",
    "# ['Bryant', 'Central', 'Battery']"
   ]
  },
  {
   "cell_type": "markdown",
   "metadata": {},
   "source": [
    "If you did not do so above, use list comprehension to capizalize the parks."
   ]
  },
  {
   "cell_type": "code",
   "execution_count": 1,
   "metadata": {},
   "outputs": [],
   "source": [
    "capitalized_parks = None"
   ]
  },
  {
   "cell_type": "markdown",
   "metadata": {},
   "source": [
    "* Working with lists of dictionaries"
   ]
  },
  {
   "cell_type": "code",
   "execution_count": 4,
   "metadata": {},
   "outputs": [],
   "source": [
    "detailed_parks = [\n",
    "    {'name': 'Bryant Park', 'location': 'Midtown', 'acres': 9.6},\n",
    "    {'name': 'Central Park', 'location': 'Uptown', 'acres': 840},\n",
    "    {'name': 'Battery Park', 'location': 'Downtown', 'acres': 25},\n",
    "    {'name': 'Morningside Park', 'location': 'Morningside', 'acres': 30}\n",
    "]"
   ]
  },
  {
   "cell_type": "markdown",
   "metadata": {},
   "source": [
    "* Write a function that will add a key value pair of `'city': 'New York'` to each of the dictionaries above."
   ]
  },
  {
   "cell_type": "code",
   "execution_count": 8,
   "metadata": {},
   "outputs": [],
   "source": [
    "def add_city(detailed_parks):\n",
    "    pass"
   ]
  },
  {
   "cell_type": "code",
   "execution_count": 9,
   "metadata": {},
   "outputs": [],
   "source": [
    "add_city(detailed_parks)\n",
    "\n",
    "# [{'name': 'Bryant Park', 'location': 'Midtown', 'acres': 9.6, 'city': 'New York'}, \n",
    "# {'name': 'Central Park', 'location': 'Uptown', 'acres': 840, 'city': 'New York'}, \n",
    "# {'name': 'Battery Park', 'location': 'Downtown', 'acres': 25, 'city': 'New York'}, \n",
    "# {'name': 'Morningside Park', 'location': 'Morningside', 'acres': 30, 'city': 'New York'}]"
   ]
  },
  {
   "cell_type": "markdown",
   "metadata": {},
   "source": [
    "* Then use list comprehension to create a list of park names."
   ]
  },
  {
   "cell_type": "code",
   "execution_count": 55,
   "metadata": {},
   "outputs": [],
   "source": [
    "park_names = None\n",
    "\n",
    "# ['Bryant Park', 'Central Park', 'Battery Park', 'Morningside Park']"
   ]
  },
  {
   "cell_type": "markdown",
   "metadata": {},
   "source": [
    "* Loop through each of the parks, and only add the parks that are strictly less than 30 acres.  Assign them to the list, smaller parks."
   ]
  },
  {
   "cell_type": "code",
   "execution_count": null,
   "metadata": {},
   "outputs": [],
   "source": [
    "smaller_parks = []\n",
    "\n",
    "\n",
    "smaller_parks \n",
    "# [\n",
    "# {'name': 'Battery Park', 'location': 'Downtown', 'acres': 25},\n",
    "# {'name': 'Bryant Park', 'location': 'Midtown', 'acres': 9.6} \n",
    "# ]"
   ]
  },
  {
   "cell_type": "markdown",
   "metadata": {},
   "source": [
    "* Then write a function that allows you to specify provide the size of a park to select."
   ]
  },
  {
   "cell_type": "code",
   "execution_count": 56,
   "metadata": {},
   "outputs": [],
   "source": [
    "def parks_less_than(parks, size):\n",
    "    pass"
   ]
  },
  {
   "cell_type": "code",
   "execution_count": 57,
   "metadata": {},
   "outputs": [],
   "source": [
    "parks_less_than(detailed_parks, 10)\n",
    "# [{'name': 'Bryant Park', 'location': 'Midtown', 'acres': 9.6}]"
   ]
  },
  {
   "cell_type": "code",
   "execution_count": 58,
   "metadata": {},
   "outputs": [],
   "source": [
    "parks_less_than(detailed_parks, 50)\n",
    "# [{'name': 'Bryant Park', 'location': 'Midtown', 'acres': 9.6},\n",
    "#  {'name': 'Battery Park', 'location': 'Downtown', 'acres': 25},\n",
    "#  {'name': 'Morningside Park', 'location': 'Morningside', 'acres': 30}]"
   ]
  },
  {
   "cell_type": "markdown",
   "metadata": {},
   "source": [
    "Now write a function that only returns the *names* of a park smaller than a specified size."
   ]
  },
  {
   "cell_type": "code",
   "execution_count": 59,
   "metadata": {},
   "outputs": [],
   "source": [
    "def park_name_less_than(parks, size):\n",
    "    pass"
   ]
  },
  {
   "cell_type": "code",
   "execution_count": 60,
   "metadata": {},
   "outputs": [],
   "source": [
    "park_name_less_than(detailed_parks, 10)\n",
    "# ['Bryant Park']"
   ]
  },
  {
   "cell_type": "code",
   "execution_count": 61,
   "metadata": {},
   "outputs": [],
   "source": [
    "park_name_less_than(detailed_parks, 50)\n",
    "# ['Bryant Park', 'Battery Park', 'Morningside Park']"
   ]
  }
 ],
 "metadata": {
  "kernelspec": {
   "display_name": "Python 3 (ipykernel)",
   "language": "python",
   "name": "python3"
  },
  "language_info": {
   "codemirror_mode": {
    "name": "ipython",
    "version": 3
   },
   "file_extension": ".py",
   "mimetype": "text/x-python",
   "name": "python",
   "nbconvert_exporter": "python",
   "pygments_lexer": "ipython3",
   "version": "3.9.10"
  }
 },
 "nbformat": 4,
 "nbformat_minor": 4
}
