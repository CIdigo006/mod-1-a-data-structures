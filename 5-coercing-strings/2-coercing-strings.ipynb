{
 "cells": [
  {
   "cell_type": "markdown",
   "metadata": {},
   "source": [
    "# Coercing and Creating Strings"
   ]
  },
  {
   "cell_type": "markdown",
   "metadata": {},
   "source": [
    "### Introduction"
   ]
  },
  {
   "cell_type": "markdown",
   "metadata": {},
   "source": [
    "One of the reasons why programming skills are so essential is because data is rarely in the format that we prefer.  As burgeoning data scientists, it's our job to both think about the ideal way to represent our data.  Over the next several lessons, we'll learn how to do this."
   ]
  },
  {
   "cell_type": "markdown",
   "metadata": {},
   "source": [
    "### Loading Data"
   ]
  },
  {
   "cell_type": "code",
   "execution_count": 1,
   "metadata": {},
   "outputs": [],
   "source": [
    "import pandas as pd\n",
    "df = pd.read_json(\"https://data.texas.gov/resource/naix-2893.json\")"
   ]
  },
  {
   "cell_type": "code",
   "execution_count": 3,
   "metadata": {},
   "outputs": [
    {
     "data": {
      "text/html": [
       "<div>\n",
       "<style scoped>\n",
       "    .dataframe tbody tr th:only-of-type {\n",
       "        vertical-align: middle;\n",
       "    }\n",
       "\n",
       "    .dataframe tbody tr th {\n",
       "        vertical-align: top;\n",
       "    }\n",
       "\n",
       "    .dataframe thead th {\n",
       "        text-align: right;\n",
       "    }\n",
       "</style>\n",
       "<table border=\"1\" class=\"dataframe\">\n",
       "  <thead>\n",
       "    <tr style=\"text-align: right;\">\n",
       "      <th></th>\n",
       "      <th>taxpayer_number</th>\n",
       "      <th>taxpayer_name</th>\n",
       "      <th>taxpayer_address</th>\n",
       "      <th>taxpayer_city</th>\n",
       "      <th>taxpayer_state</th>\n",
       "      <th>taxpayer_zip</th>\n",
       "      <th>taxpayer_county</th>\n",
       "      <th>location_number</th>\n",
       "      <th>location_name</th>\n",
       "      <th>location_address</th>\n",
       "      <th>...</th>\n",
       "      <th>inside_outside_city_limits_code_y_n</th>\n",
       "      <th>tabc_permit_number</th>\n",
       "      <th>responsibility_begin_date_yyyymmdd</th>\n",
       "      <th>obligation_end_date_yyyymmdd</th>\n",
       "      <th>liquor_receipts</th>\n",
       "      <th>wine_receipts</th>\n",
       "      <th>beer_receipts</th>\n",
       "      <th>cover_charge_receipts</th>\n",
       "      <th>total_receipts</th>\n",
       "      <th>responsibility_end_date_yyyymmdd</th>\n",
       "    </tr>\n",
       "  </thead>\n",
       "  <tbody>\n",
       "    <tr>\n",
       "      <td>0</td>\n",
       "      <td>10505601194</td>\n",
       "      <td>AIMBRIDGE CONCESSIONS, INC.</td>\n",
       "      <td>5851 LEGACY CIR STE 400</td>\n",
       "      <td>PLANO</td>\n",
       "      <td>TX</td>\n",
       "      <td>75024.0</td>\n",
       "      <td>43</td>\n",
       "      <td>5</td>\n",
       "      <td>HYATT HOUSE DALLAS/UPTOWN</td>\n",
       "      <td>2914 HARRY HINES BLVD</td>\n",
       "      <td>...</td>\n",
       "      <td>Y</td>\n",
       "      <td>MB884961</td>\n",
       "      <td>2014-09-24T00:00:00.000</td>\n",
       "      <td>2016-06-30T00:00:00.000</td>\n",
       "      <td>2201</td>\n",
       "      <td>762</td>\n",
       "      <td>1663</td>\n",
       "      <td>0</td>\n",
       "      <td>4626</td>\n",
       "      <td>NaN</td>\n",
       "    </tr>\n",
       "    <tr>\n",
       "      <td>1</td>\n",
       "      <td>32043765935</td>\n",
       "      <td>SUPER CREAM LLC</td>\n",
       "      <td>1014 FM 802</td>\n",
       "      <td>BROWNSVILLE</td>\n",
       "      <td>TX</td>\n",
       "      <td>78521.0</td>\n",
       "      <td>31</td>\n",
       "      <td>2</td>\n",
       "      <td>TOSCAFINO</td>\n",
       "      <td>3001 PABLO KISEL BLVD STE N</td>\n",
       "      <td>...</td>\n",
       "      <td>Y</td>\n",
       "      <td>MB891096</td>\n",
       "      <td>2014-11-21T00:00:00.000</td>\n",
       "      <td>2016-10-31T00:00:00.000</td>\n",
       "      <td>20070</td>\n",
       "      <td>14995</td>\n",
       "      <td>5095</td>\n",
       "      <td>0</td>\n",
       "      <td>40160</td>\n",
       "      <td>NaN</td>\n",
       "    </tr>\n",
       "  </tbody>\n",
       "</table>\n",
       "<p>2 rows × 24 columns</p>\n",
       "</div>"
      ],
      "text/plain": [
       "   taxpayer_number                taxpayer_name         taxpayer_address  \\\n",
       "0      10505601194  AIMBRIDGE CONCESSIONS, INC.  5851 LEGACY CIR STE 400   \n",
       "1      32043765935              SUPER CREAM LLC              1014 FM 802   \n",
       "\n",
       "  taxpayer_city taxpayer_state  taxpayer_zip  taxpayer_county  \\\n",
       "0         PLANO             TX       75024.0               43   \n",
       "1   BROWNSVILLE             TX       78521.0               31   \n",
       "\n",
       "   location_number              location_name             location_address  \\\n",
       "0                5  HYATT HOUSE DALLAS/UPTOWN        2914 HARRY HINES BLVD   \n",
       "1                2                  TOSCAFINO  3001 PABLO KISEL BLVD STE N   \n",
       "\n",
       "   ... inside_outside_city_limits_code_y_n tabc_permit_number  \\\n",
       "0  ...                                   Y           MB884961   \n",
       "1  ...                                   Y           MB891096   \n",
       "\n",
       "   responsibility_begin_date_yyyymmdd  obligation_end_date_yyyymmdd  \\\n",
       "0             2014-09-24T00:00:00.000       2016-06-30T00:00:00.000   \n",
       "1             2014-11-21T00:00:00.000       2016-10-31T00:00:00.000   \n",
       "\n",
       "  liquor_receipts wine_receipts beer_receipts cover_charge_receipts  \\\n",
       "0            2201           762          1663                     0   \n",
       "1           20070         14995          5095                     0   \n",
       "\n",
       "   total_receipts  responsibility_end_date_yyyymmdd  \n",
       "0            4626                               NaN  \n",
       "1           40160                               NaN  \n",
       "\n",
       "[2 rows x 24 columns]"
      ]
     },
     "execution_count": 3,
     "metadata": {},
     "output_type": "execute_result"
    }
   ],
   "source": [
    "df[:2]"
   ]
  },
  {
   "cell_type": "code",
   "execution_count": 8,
   "metadata": {},
   "outputs": [],
   "source": [
    "revenues = df.to_dict('records')"
   ]
  },
  {
   "cell_type": "code",
   "execution_count": 9,
   "metadata": {},
   "outputs": [
    {
     "data": {
      "text/plain": [
       "1000"
      ]
     },
     "execution_count": 9,
     "metadata": {},
     "output_type": "execute_result"
    }
   ],
   "source": [
    "len(revenues)"
   ]
  },
  {
   "cell_type": "code",
   "execution_count": 11,
   "metadata": {},
   "outputs": [],
   "source": [
    "df.to_json('./tx-revenues.json')"
   ]
  },
  {
   "cell_type": "markdown",
   "metadata": {},
   "source": [
    "### Coercing Strings"
   ]
  },
  {
   "cell_type": "markdown",
   "metadata": {},
   "source": [
    "Imagine that we want to write a method that extracts data from the strings."
   ]
  },
  {
   "cell_type": "code",
   "execution_count": 15,
   "metadata": {},
   "outputs": [],
   "source": [
    "df = pd.read_json('./tx-revenues.json')\n",
    "restaurant_names = list(df.taxpayer_name)"
   ]
  },
  {
   "cell_type": "code",
   "execution_count": 18,
   "metadata": {},
   "outputs": [
    {
     "data": {
      "text/plain": [
       "['AIMBRIDGE CONCESSIONS, INC.',\n",
       " 'SUPER CREAM LLC',\n",
       " \"ANGEL'S ICEHOUSE, LLC\",\n",
       " 'CLARDY VENTURES II, LLC',\n",
       " 'KOWALTEK, LLC']"
      ]
     },
     "execution_count": 18,
     "metadata": {},
     "output_type": "execute_result"
    }
   ],
   "source": [
    "restaurant_names[0:5]"
   ]
  },
  {
   "cell_type": "markdown",
   "metadata": {},
   "source": [
    "For example, perhaps we can get some information based on the type of corporation of the restaurant.  Perhaps we could use it as a proxy for the size of the restaurant, or whether or not it is a chain.  "
   ]
  },
  {
   "cell_type": "markdown",
   "metadata": {},
   "source": [
    "Let's try to explore some string methods that can extract information about the company type."
   ]
  },
  {
   "cell_type": "code",
   "execution_count": 22,
   "metadata": {},
   "outputs": [],
   "source": [
    "first_restaurant = restaurant_names[0]"
   ]
  },
  {
   "cell_type": "markdown",
   "metadata": {},
   "source": [
    "### Limiting Our String"
   ]
  },
  {
   "cell_type": "markdown",
   "metadata": {},
   "source": [
    "The first thing to realize is that we can select characters from a string the same way that we would from a list."
   ]
  },
  {
   "cell_type": "code",
   "execution_count": 25,
   "metadata": {},
   "outputs": [
    {
     "data": {
      "text/plain": [
       "'AIMBRIDGE CONCESSIONS, INC.'"
      ]
     },
     "execution_count": 25,
     "metadata": {},
     "output_type": "execute_result"
    }
   ],
   "source": [
    "first_restaurant"
   ]
  },
  {
   "cell_type": "code",
   "execution_count": 26,
   "metadata": {},
   "outputs": [
    {
     "data": {
      "text/plain": [
       "'A'"
      ]
     },
     "execution_count": 26,
     "metadata": {},
     "output_type": "execute_result"
    }
   ],
   "source": [
    "first_restaurant[0]"
   ]
  },
  {
   "cell_type": "markdown",
   "metadata": {},
   "source": [
    "So for example, if we want to select just the last five characters from a string, we can do so with the following:"
   ]
  },
  {
   "cell_type": "code",
   "execution_count": 27,
   "metadata": {},
   "outputs": [
    {
     "data": {
      "text/plain": [
       "' INC.'"
      ]
     },
     "execution_count": 27,
     "metadata": {},
     "output_type": "execute_result"
    }
   ],
   "source": [
    "first_restaurant[-5:]"
   ]
  },
  {
   "cell_type": "markdown",
   "metadata": {},
   "source": [
    "Practice selecting the just the first ten characters from a our string."
   ]
  },
  {
   "cell_type": "code",
   "execution_count": 32,
   "metadata": {},
   "outputs": [
    {
     "data": {
      "text/plain": [
       "'AIMBRIDGE CONCESSIONS, INC.'"
      ]
     },
     "execution_count": 32,
     "metadata": {},
     "output_type": "execute_result"
    }
   ],
   "source": [
    "first_restaurant = 'AIMBRIDGE CONCESSIONS, INC.'\n",
    "first_restaurant\n",
    "# 'AIMBRIDGE '"
   ]
  },
  {
   "cell_type": "markdown",
   "metadata": {},
   "source": [
    "Now practice selecting the last 10 characters from our string."
   ]
  },
  {
   "cell_type": "code",
   "execution_count": 1,
   "metadata": {},
   "outputs": [
    {
     "data": {
      "text/plain": [
       "'AIMBRIDGE CONCESSIONS, INC.'"
      ]
     },
     "execution_count": 1,
     "metadata": {},
     "output_type": "execute_result"
    }
   ],
   "source": [
    "first_restaurant = 'AIMBRIDGE CONCESSIONS, INC.'\n",
    "first_restaurant\n",
    "# 'IONS, INC.'"
   ]
  },
  {
   "cell_type": "markdown",
   "metadata": {},
   "source": [
    "### Find and Split"
   ]
  },
  {
   "cell_type": "markdown",
   "metadata": {},
   "source": [
    "Of course it would be nice if we could detect if certain characters were in the string, and then select those characters.  Well here's one way we could do this."
   ]
  },
  {
   "cell_type": "code",
   "execution_count": 36,
   "metadata": {},
   "outputs": [
    {
     "data": {
      "text/plain": [
       "23"
      ]
     },
     "execution_count": 36,
     "metadata": {},
     "output_type": "execute_result"
    }
   ],
   "source": [
    "first_restaurant = 'AIMBRIDGE CONCESSIONS, INC.'\n",
    "first_restaurant.find('INC')"
   ]
  },
  {
   "cell_type": "markdown",
   "metadata": {},
   "source": [
    "We can see that the `find` method returns the index of the start of our matching string."
   ]
  },
  {
   "cell_type": "code",
   "execution_count": 37,
   "metadata": {},
   "outputs": [
    {
     "data": {
      "text/plain": [
       "'I'"
      ]
     },
     "execution_count": 37,
     "metadata": {},
     "output_type": "execute_result"
    }
   ],
   "source": [
    "first_restaurant[23]"
   ]
  },
  {
   "cell_type": "markdown",
   "metadata": {},
   "source": [
    "So now let's write a method where we can pass through a string, and then just select the characters from `LLC` on."
   ]
  },
  {
   "cell_type": "code",
   "execution_count": 2,
   "metadata": {},
   "outputs": [],
   "source": [
    "first_restaurant = 'SUPER CREAM LLC'\n",
    "\n",
    "def select_characters(string):\n",
    "    pass"
   ]
  },
  {
   "cell_type": "code",
   "execution_count": 56,
   "metadata": {},
   "outputs": [
    {
     "data": {
      "text/plain": [
       "'LLC'"
      ]
     },
     "execution_count": 56,
     "metadata": {},
     "output_type": "execute_result"
    }
   ],
   "source": [
    "first_restaurant = 'SUPER CREAM LLC'\n",
    "select_characters(first_restaurant)\n",
    "# 'LLC'"
   ]
  },
  {
   "cell_type": "code",
   "execution_count": 55,
   "metadata": {},
   "outputs": [
    {
     "data": {
      "text/plain": [
       "'LLC'"
      ]
     },
     "execution_count": 55,
     "metadata": {},
     "output_type": "execute_result"
    }
   ],
   "source": [
    "second_restaurant = \"ANGEL'S ICEHOUSE, LLC\"\n",
    "select_characters(second_restaurant)"
   ]
  },
  {
   "cell_type": "markdown",
   "metadata": {},
   "source": [
    "### Concatenating Strings"
   ]
  },
  {
   "cell_type": "markdown",
   "metadata": {},
   "source": [
    "Finally, Python has methods that allow us to create new strings programatically.  Let's look at the format method."
   ]
  },
  {
   "cell_type": "code",
   "execution_count": 5,
   "metadata": {},
   "outputs": [
    {
     "data": {
      "text/plain": [
       "'Please try the chicken.'"
      ]
     },
     "execution_count": 5,
     "metadata": {},
     "output_type": "execute_result"
    }
   ],
   "source": [
    "\"Please try the {}.\".format(\"chicken\")"
   ]
  },
  {
   "cell_type": "markdown",
   "metadata": {},
   "source": [
    "> So we pass through the string to format, and then the `{}` indicates the location of the argument."
   ]
  },
  {
   "cell_type": "markdown",
   "metadata": {},
   "source": [
    "It also works with multiple arguments."
   ]
  },
  {
   "cell_type": "code",
   "execution_count": 7,
   "metadata": {},
   "outputs": [
    {
     "data": {
      "text/plain": [
       "'Please try the chicken and broccoli.'"
      ]
     },
     "execution_count": 7,
     "metadata": {},
     "output_type": "execute_result"
    }
   ],
   "source": [
    "\"Please try the {} and {}.\".format(\"chicken\", \"broccoli\")"
   ]
  },
  {
   "cell_type": "markdown",
   "metadata": {},
   "source": [
    "Or keyword arguments."
   ]
  },
  {
   "cell_type": "code",
   "execution_count": 9,
   "metadata": {},
   "outputs": [
    {
     "data": {
      "text/plain": [
       "'Please try the broccoli and chicken.'"
      ]
     },
     "execution_count": 9,
     "metadata": {},
     "output_type": "execute_result"
    }
   ],
   "source": [
    "\"Please try the {side} and {main}.\".format(main = \"chicken\", side = \"broccoli\")"
   ]
  },
  {
   "cell_type": "markdown",
   "metadata": {},
   "source": [
    "An alternative to the format method is the `f` string."
   ]
  },
  {
   "cell_type": "code",
   "execution_count": 12,
   "metadata": {},
   "outputs": [
    {
     "data": {
      "text/plain": [
       "'hello broccoli and turkey!'"
      ]
     },
     "execution_count": 12,
     "metadata": {},
     "output_type": "execute_result"
    }
   ],
   "source": [
    "side = 'broccoli'\n",
    "main = 'turkey'\n",
    "f'hello {side} and {main}!'"
   ]
  },
  {
   "cell_type": "markdown",
   "metadata": {},
   "source": [
    "> Take some time to try them both out below."
   ]
  },
  {
   "cell_type": "code",
   "execution_count": null,
   "metadata": {},
   "outputs": [],
   "source": []
  },
  {
   "cell_type": "markdown",
   "metadata": {},
   "source": [
    "### Summary"
   ]
  },
  {
   "cell_type": "markdown",
   "metadata": {},
   "source": [
    "In this lesson, we took a deeper dive into how to work with strings.  We saw that we can select characters from a string with the bracket accessors, the same way that we would from a list."
   ]
  },
  {
   "cell_type": "code",
   "execution_count": 72,
   "metadata": {},
   "outputs": [
    {
     "data": {
      "text/plain": [
       "'llc'"
      ]
     },
     "execution_count": 72,
     "metadata": {},
     "output_type": "execute_result"
    }
   ],
   "source": [
    "\"angel's icehouse, llc\"[-3:]"
   ]
  },
  {
   "cell_type": "markdown",
   "metadata": {},
   "source": [
    "Then we saw that we can find the index that matches a string."
   ]
  },
  {
   "cell_type": "code",
   "execution_count": 73,
   "metadata": {},
   "outputs": [
    {
     "data": {
      "text/plain": [
       "18"
      ]
     },
     "execution_count": 73,
     "metadata": {},
     "output_type": "execute_result"
    }
   ],
   "source": [
    "\"angel's icehouse, llc\".find('llc')"
   ]
  },
  {
   "cell_type": "markdown",
   "metadata": {},
   "source": [
    "And that we can divide our string into different elements of a list with the `split` method."
   ]
  },
  {
   "cell_type": "code",
   "execution_count": 74,
   "metadata": {},
   "outputs": [
    {
     "data": {
      "text/plain": [
       "[\"angel's icehouse\", 'llc']"
      ]
     },
     "execution_count": 74,
     "metadata": {},
     "output_type": "execute_result"
    }
   ],
   "source": [
    "\"angel's icehouse, llc\".split(', ')"
   ]
  },
  {
   "cell_type": "markdown",
   "metadata": {},
   "source": [
    "And select elements of the returned list."
   ]
  },
  {
   "cell_type": "code",
   "execution_count": 77,
   "metadata": {},
   "outputs": [
    {
     "data": {
      "text/plain": [
       "'llc'"
      ]
     },
     "execution_count": 77,
     "metadata": {},
     "output_type": "execute_result"
    }
   ],
   "source": [
    "\"angel's icehouse, llc\".split(', ')[-1]"
   ]
  }
 ],
 "metadata": {
  "kernelspec": {
   "display_name": "Python 3",
   "language": "python",
   "name": "python3"
  },
  "language_info": {
   "codemirror_mode": {
    "name": "ipython",
    "version": 3
   },
   "file_extension": ".py",
   "mimetype": "text/x-python",
   "name": "python",
   "nbconvert_exporter": "python",
   "pygments_lexer": "ipython3",
   "version": "3.7.4"
  }
 },
 "nbformat": 4,
 "nbformat_minor": 4
}
