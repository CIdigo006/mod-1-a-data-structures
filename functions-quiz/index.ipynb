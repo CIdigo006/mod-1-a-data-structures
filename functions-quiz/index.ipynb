{
 "cells": [
  {
   "cell_type": "markdown",
   "id": "c67a1e95-8483-443b-96aa-dadf61fa2de6",
   "metadata": {},
   "source": [
    "# Functions and APIs Quiz"
   ]
  },
  {
   "cell_type": "markdown",
   "id": "f9c78744-d6ae-40d6-8b30-3d6fc68922ee",
   "metadata": {},
   "source": [
    "### Building a function"
   ]
  },
  {
   "cell_type": "markdown",
   "id": "a3c653c4-2c00-428e-a4ee-9ca308461204",
   "metadata": {},
   "source": [
    "The below makes a request to the to the [Google Books API](https://developers.google.com/books/docs/v1/reference/volumes/list#parameters)."
   ]
  },
  {
   "cell_type": "code",
   "execution_count": 4,
   "id": "386cf3b9-0544-456a-80da-9784af80c4a9",
   "metadata": {},
   "outputs": [],
   "source": [
    "import requests\n",
    "\n",
    "root_url = \"https://www.googleapis.com/books/v1/volumes?q=mark twain\"\n",
    "response = requests.get(root_url)\n",
    "book_results = response.json()"
   ]
  },
  {
   "cell_type": "markdown",
   "id": "7dbb79b7-1f58-4e03-a78a-feefb5bd79c7",
   "metadata": {},
   "source": [
    "We can confirm this by viewing the `book_results` variable -- of course, its a bit long."
   ]
  },
  {
   "cell_type": "markdown",
   "id": "d2bdeea0-afa1-408e-ba50-0d3c55d48333",
   "metadata": {},
   "source": [
    "1. Create a function called `make_request` that takes in the url as an argument and returns the results."
   ]
  },
  {
   "cell_type": "code",
   "execution_count": null,
   "id": "351cfc1c-ee9a-409e-b23f-4b99e522fab5",
   "metadata": {},
   "outputs": [],
   "source": []
  },
  {
   "cell_type": "markdown",
   "id": "aa0977c0-9d40-4020-b209-501910c4322d",
   "metadata": {},
   "source": [
    "2. Next write a function called `make_params` that takes in a dictionary of parameters and then returns a string of those query parameters.\n",
    "\n",
    "For example if we provide as an input to the function the following:"
   ]
  },
  {
   "cell_type": "code",
   "execution_count": 15,
   "id": "3e9fb784-17ac-4d01-80fa-60c46de21701",
   "metadata": {},
   "outputs": [],
   "source": [
    "params = {'q': 'mark twain', 'maxResults': '20'}"
   ]
  },
  {
   "cell_type": "markdown",
   "id": "74cbbcac-2a0f-4967-bc9d-a70c4c5e7bcc",
   "metadata": {},
   "source": [
    "We should be returned: "
   ]
  },
  {
   "cell_type": "code",
   "execution_count": 14,
   "id": "e15ba903-43c4-425a-ba10-7a6631633386",
   "metadata": {},
   "outputs": [
    {
     "data": {
      "text/plain": [
       "'q=mark twain&maxResults=20'"
      ]
     },
     "execution_count": 14,
     "metadata": {},
     "output_type": "execute_result"
    }
   ],
   "source": [
    "'q=mark twain&maxResults=20'"
   ]
  },
  {
   "cell_type": "markdown",
   "id": "3e0f1e77-6862-43af-937a-c571b0bc3b4a",
   "metadata": {},
   "source": [
    "And if we provide to the function the following:"
   ]
  },
  {
   "cell_type": "code",
   "execution_count": 16,
   "id": "0dc657ba-e2fc-4a2a-8d43-39aa40b5b5a2",
   "metadata": {},
   "outputs": [],
   "source": [
    "params = {'q': 'mark twain', 'maxResults': '20', 'filter': 'ebooks'}"
   ]
  },
  {
   "cell_type": "markdown",
   "id": "8a50de1c-ccfc-4e35-a63c-28aba78e286a",
   "metadata": {},
   "source": [
    "We should be returned:"
   ]
  },
  {
   "cell_type": "code",
   "execution_count": null,
   "id": "daccd6a8-60c0-4650-ba4d-98f726185bf4",
   "metadata": {},
   "outputs": [],
   "source": [
    "'q=mark twain&maxResults=20&filter=ebooks'"
   ]
  },
  {
   "cell_type": "markdown",
   "id": "b678a523-e268-47cf-9d01-d281a3fd0ead",
   "metadata": {},
   "source": [
    "> Write the function in the cell below."
   ]
  },
  {
   "cell_type": "markdown",
   "id": "b646643a-086b-45f7-948a-f8c78377c20b",
   "metadata": {},
   "source": [
    "3. Parsing Parameters"
   ]
  },
  {
   "cell_type": "markdown",
   "id": "7e2d39e1-1e51-4834-b4f6-36a911d22b85",
   "metadata": {},
   "source": [
    "Now write a function called `parse_ids` that given a `response` from the google books volumes endpoint returns a list of the book ids."
   ]
  },
  {
   "cell_type": "markdown",
   "id": "a862f0cb-0de4-4f77-9f06-ff9be8990f1b",
   "metadata": {},
   "source": [
    "> For example, if we pass the following `book_response` to the `parse_ids` function."
   ]
  },
  {
   "cell_type": "code",
   "execution_count": 19,
   "id": "1a194e6a-1efa-4ea0-85e6-270ef860232e",
   "metadata": {},
   "outputs": [],
   "source": [
    "root_url = \"https://www.googleapis.com/books/v1/volumes?q=mark twain\"\n",
    "response = requests.get(root_url)\n",
    "book_response = response.json()"
   ]
  },
  {
   "cell_type": "markdown",
   "id": "a822e9b6-6241-4da3-81e4-a7608213e703",
   "metadata": {},
   "source": [
    "We should get the following."
   ]
  },
  {
   "cell_type": "code",
   "execution_count": 25,
   "id": "7392c0ae-2c29-45f7-938a-c57c100393ca",
   "metadata": {},
   "outputs": [],
   "source": [
    "# ['lj1Rc68iZ0YC',\n",
    "#  'InlaAAAAMAAJ',\n",
    "#  'LxLYQjAz180C',\n",
    "#  'NaMOWJwb0-4C',\n",
    "#  'svkyM1SmbHkC',\n",
    "#  '4zdalyq897AC',\n",
    "#  '19jnAgAAQBAJ',\n",
    "#  'HXQKAQAAQBAJ',\n",
    "#  's5yymAEACAAJ',\n",
    "#  'N2MqDwAAQBAJ']"
   ]
  },
  {
   "cell_type": "markdown",
   "id": "b6f8475f-7888-43c1-a7ac-df28c2f98d2a",
   "metadata": {},
   "source": [
    "Finally write a function that allows us to pass through a response from the API as one argument, and a list of keys as the other argument.  The function should return to us a list of dictionaries where the keys of each dictionary are the keys passed through the function.\n",
    "\n",
    "The possible returned attributes should be any of:\n",
    "\n",
    "`'title', subtitle', 'authors', 'publisher', 'publishedDate', or 'description'`."
   ]
  },
  {
   "cell_type": "markdown",
   "id": "77d2f49a-7c4b-4d08-9733-a898ceb38e2a",
   "metadata": {},
   "source": [
    "> Notice that these attributes are under the `volumeInfo` key of each book."
   ]
  },
  {
   "cell_type": "markdown",
   "id": "86c98f2c-f32a-457e-839b-263101fb9fdc",
   "metadata": {},
   "source": [
    "> **Hint**: It may help to write a function that solves this for a single book first, or simply to solve this outside of a function altogether."
   ]
  },
  {
   "cell_type": "code",
   "execution_count": 57,
   "id": "4ffe1062-7e1d-4541-880b-e185a8a3ac80",
   "metadata": {},
   "outputs": [],
   "source": [
    "def selected_attrs(response, keys = ['title', 'authors']):\n",
    "    pass"
   ]
  },
  {
   "cell_type": "markdown",
   "id": "1703544c-d424-4abd-96fc-4efc61a65f15",
   "metadata": {},
   "source": [
    "```\n",
    "[{'title': 'Mr. Clemens and Mark Twain', 'subtitle': 'A Biography'},\n",
    " {'title': \"Mark Twain's Autobiography\"},\n",
    " {'title': 'The Complete Short Stories of Mark Twain'}]\n",
    "```"
   ]
  },
  {
   "cell_type": "code",
   "execution_count": 58,
   "id": "db8be82e-be73-4bb8-9743-e42169199664",
   "metadata": {},
   "outputs": [],
   "source": [
    "selected_attrs(book_response, keys = ['title', 'subtitle'])\n",
    "\n",
    "# [{'title': 'Mr. Clemens and Mark Twain', 'subtitle': 'A Biography'},\n",
    "#  {'title': \"Mark Twain's Autobiography\"},\n",
    "#  {'title': 'The Complete Short Stories of Mark Twain'},\n",
    "#  {'title': 'Roughing It'},\n",
    "#  {'title': 'The Extraordinary Mark Twain (according to Susy)'},\n",
    "#  {'title': 'Mississippi Writings'},\n",
    "#  {'title': 'The Adventures of Mark Twain by Huckleberry Finn',\n",
    "#   'subtitle': 'with audio recording'},\n",
    "#  {'title': 'Autobiography of Mark Twain, Volume 2',\n",
    "#   'subtitle': 'The Complete and Authoritative Edition'},\n",
    "#  {'title': 'Mark Twain',\n",
    "#   'subtitle': 'Man in White : the Grand Adventure of His Final Years'},\n",
    "#  {'title': 'Mark Twain and Philosophy'}]"
   ]
  },
  {
   "cell_type": "markdown",
   "id": "c5450582-0ca3-46bb-bd13-59946d0f7446",
   "metadata": {},
   "source": [
    "And if no keys are provided, the function should return `title` and `authors` like so."
   ]
  },
  {
   "cell_type": "code",
   "execution_count": 59,
   "id": "aa96c069-f3f2-468d-8f2c-889cb35570c7",
   "metadata": {},
   "outputs": [],
   "source": [
    "selected_attrs(book_response)\n",
    "\n",
    "# [{'title': 'Mr. Clemens and Mark Twain', 'authors': ['Justin Kaplan']},\n",
    "#  {'title': \"Mark Twain's Autobiography\", 'authors': ['Mark Twain']},\n",
    "#  {'title': 'The Complete Short Stories of Mark Twain',\n",
    "#   'authors': ['Mark Twain']},\n",
    "#  {'title': 'Roughing It', 'authors': ['Mark Twain']},\n",
    "#  {'title': 'The Extraordinary Mark Twain (according to Susy)',\n",
    "#   'authors': ['Barbara Kerley']},\n",
    "#  {'title': 'Mississippi Writings',\n",
    "#   'authors': ['Theophilus Parvin', 'Mark Twain']},\n",
    "#  {'title': 'The Adventures of Mark Twain by Huckleberry Finn',\n",
    "#   'authors': ['Robert Burleigh']},\n",
    "#  {'title': 'Autobiography of Mark Twain, Volume 2', 'authors': ['Mark Twain']},\n",
    "#  {'title': 'Mark Twain', 'authors': ['Michael Shelden']},\n",
    "#  {'title': 'Mark Twain and Philosophy', 'authors': ['Alan Goldman']}]"
   ]
  },
  {
   "cell_type": "markdown",
   "id": "43e25f51-dd27-4dbb-ac9b-143522e89587",
   "metadata": {},
   "source": [
    "The end."
   ]
  },
  {
   "cell_type": "code",
   "execution_count": null,
   "id": "d362d6e6-4cd9-403c-9434-1784c244ec09",
   "metadata": {},
   "outputs": [],
   "source": []
  }
 ],
 "metadata": {
  "kernelspec": {
   "display_name": "Python 3 (ipykernel)",
   "language": "python",
   "name": "python3"
  },
  "language_info": {
   "codemirror_mode": {
    "name": "ipython",
    "version": 3
   },
   "file_extension": ".py",
   "mimetype": "text/x-python",
   "name": "python",
   "nbconvert_exporter": "python",
   "pygments_lexer": "ipython3",
   "version": "3.9.7"
  }
 },
 "nbformat": 4,
 "nbformat_minor": 5
}
