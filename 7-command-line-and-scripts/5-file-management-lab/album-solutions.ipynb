{
 "cells": [
  {
   "cell_type": "markdown",
   "metadata": {},
   "source": [
    "# Album Solutions"
   ]
  },
  {
   "cell_type": "code",
   "execution_count": 1,
   "metadata": {},
   "outputs": [],
   "source": [
    "def songs_from(album):\n",
    "    return album['tracks']\n",
    "\n",
    "def find_song(songs, name):\n",
    "    found_song = [song for song in songs if song['song'] == name]\n",
    "    return next(iter(found_song), None)\n",
    "\n",
    "def tracks(album_track):\n",
    "    tracks = album_track['tracks']\n",
    "    return [clean_track(track) for track in tracks]\n",
    "\n",
    "def clean_track(track):\n",
    "    return track.split(' - ')[0]\n",
    "\n",
    "def albums_top_songs(albums_tracks):\n",
    "    albums_top = {}\n",
    "    for album in albums_tracks:\n",
    "        top_songs = find_top_songs(album)\n",
    "        albums_top[album['album']] = top_songs\n",
    "        \n",
    "    return albums_top\n",
    "\n",
    "def find_top_songs(album, songs):\n",
    "    top_songs = [find_song(songs, track)['song']\n",
    "             for track in tracks(album)\n",
    "             if find_song(songs, track)]\n",
    "    uniq_top_songs = list(set(top_songs))\n",
    "    return uniq_top_songs"
   ]
  },
  {
   "cell_type": "code",
   "execution_count": null,
   "metadata": {},
   "outputs": [],
   "source": []
  }
 ],
 "metadata": {
  "kernelspec": {
   "display_name": "Python 3",
   "language": "python",
   "name": "python3"
  },
  "language_info": {
   "codemirror_mode": {
    "name": "ipython",
    "version": 3
   },
   "file_extension": ".py",
   "mimetype": "text/x-python",
   "name": "python",
   "nbconvert_exporter": "python",
   "pygments_lexer": "ipython3",
   "version": "3.7.4"
  }
 },
 "nbformat": 4,
 "nbformat_minor": 4
}
