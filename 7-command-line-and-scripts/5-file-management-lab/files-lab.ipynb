{
 "cells": [
  {
   "cell_type": "markdown",
   "metadata": {},
   "source": [
    "# File Management Lab"
   ]
  },
  {
   "cell_type": "markdown",
   "metadata": {},
   "source": [
    "### Introduction"
   ]
  },
  {
   "cell_type": "markdown",
   "metadata": {},
   "source": [
    "In this lesson, let's begin to practice organizing our code into different files.  Along the way, we'll practice loading code from different files as necessary."
   ]
  },
  {
   "cell_type": "markdown",
   "metadata": {},
   "source": [
    "### Grouping Our Functions"
   ]
  },
  {
   "cell_type": "markdown",
   "metadata": {},
   "source": [
    "Below are the functions that we wrote in the top songs lab.  Now let's begin to move the functions into separate files.\n",
    "\n",
    "Use the touch command to create three files: \n",
    "\n",
    "* `song.py`\n",
    "* `album.py`\n",
    "* `top_songs.py`"
   ]
  },
  {
   "cell_type": "code",
   "execution_count": 3,
   "metadata": {},
   "outputs": [],
   "source": [
    "# !touch song.py\n",
    "# !touch album.py \n",
    "# !touch top_songs.py"
   ]
  },
  {
   "cell_type": "markdown",
   "metadata": {},
   "source": [
    "Above each function below, we indicated the file that the function should be inside of.  Move the functions into the specified files."
   ]
  },
  {
   "cell_type": "markdown",
   "metadata": {},
   "source": [
    "```python\n",
    "# album.py\n",
    "def songs_from(album):\n",
    "    return album['tracks']\n",
    "\n",
    "# song.py\n",
    "def find_song(songs, name):\n",
    "    found_song = [song for song in songs if song['song'] == name]\n",
    "    return next(iter(found_song), None)\n",
    "\n",
    "# album.py\n",
    "def tracks(album_track):\n",
    "    tracks = album_track['tracks']\n",
    "    return [clean_track(track) for track in tracks]\n",
    "\n",
    "# album.py\n",
    "def clean_track(track):\n",
    "    return track.split(' - ')[0]\n",
    "\n",
    "# top_songs.py\n",
    "def albums_top_songs(albums_tracks):\n",
    "    albums_top = {}\n",
    "    for album in albums_tracks:\n",
    "        top_songs = find_top_songs(album)\n",
    "        albums_top[album['album']] = top_songs\n",
    "        \n",
    "    return albums_top\n",
    "\n",
    "# top_songs.py\n",
    "def find_top_songs(album, songs):\n",
    "    top_songs = [find_song(songs, track)['song']\n",
    "             for track in tracks(album)\n",
    "             if find_song(songs, track)]\n",
    "    uniq_top_songs = list(set(top_songs))\n",
    "    return uniq_top_songs\n",
    "```"
   ]
  },
  {
   "cell_type": "markdown",
   "metadata": {},
   "source": [
    "### Loading Data"
   ]
  },
  {
   "cell_type": "code",
   "execution_count": 3,
   "metadata": {},
   "outputs": [],
   "source": [
    "import pandas as pd\n",
    "songs_url = \"https://raw.githubusercontent.com/jigsawlabs-student/mod-1-a-data-structures/master/6-top-songs/top-500-songs.txt\"\n",
    "songs_df = pd.read_csv(songs_url, sep='\\t', header = None, names = ['rank', 'song', 'artist', 'year'])\n",
    "songs = songs_df.to_dict('records')\n",
    "\n",
    "track_url = \"https://raw.githubusercontent.com/jigsawlabs-student/mod-1-a-data-structures/master/6-top-songs/track_data.json\"\n",
    "albums_and_tracks = pd.read_json(track_url)\n",
    "albums_tracks = albums_and_tracks.to_dict('records')\n",
    "\n",
    "import pandas as pd\n",
    "url = \"https://raw.githubusercontent.com/jigsawlabs-student/mod-1-a-data-structures/master/6-top-songs/data.csv\"\n",
    "df = pd.read_csv(url)\n",
    "albums = df.to_dict('records')"
   ]
  },
  {
   "cell_type": "markdown",
   "metadata": {},
   "source": [
    "### Tying the Code Together"
   ]
  },
  {
   "cell_type": "markdown",
   "metadata": {},
   "source": [
    "Next, let's see what happens if we try to load our and then call some functions from our files.  Because we may need to update our scripts along the way, press `shift + return` on the cell below, so that our notebook can detect our updates to the scripts."
   ]
  },
  {
   "cell_type": "code",
   "execution_count": 1,
   "metadata": {},
   "outputs": [],
   "source": [
    "%load_ext autoreload\n",
    "%autoreload 1"
   ]
  },
  {
   "cell_type": "markdown",
   "metadata": {},
   "source": [
    "We can begin with the code in the `song` file.  Use `import` to load the `find_song` function into this notebook.  After doing so, we can try to execute the function below."
   ]
  },
  {
   "cell_type": "code",
   "execution_count": 2,
   "metadata": {},
   "outputs": [],
   "source": []
  },
  {
   "cell_type": "code",
   "execution_count": 3,
   "metadata": {},
   "outputs": [
    {
     "data": {
      "text/plain": [
       "{'rank': 1,\n",
       " 'song': 'Like a Rolling Stone',\n",
       " 'artist': 'Bob Dylan',\n",
       " 'year': 1965}"
      ]
     },
     "execution_count": 3,
     "metadata": {},
     "output_type": "execute_result"
    }
   ],
   "source": [
    "find_song(songs, \"Like a Rolling Stone\")\n",
    "# {'rank': 1,\n",
    "#  'song': 'Like a Rolling Stone',\n",
    "#  'artist': 'Bob Dylan',\n",
    "#  'year': 1965}"
   ]
  },
  {
   "cell_type": "markdown",
   "metadata": {},
   "source": [
    "Now let's try some functions from the `top_songs` file."
   ]
  },
  {
   "cell_type": "code",
   "execution_count": 25,
   "metadata": {},
   "outputs": [],
   "source": [
    "from top_songs import find_top_songs"
   ]
  },
  {
   "cell_type": "markdown",
   "metadata": {},
   "source": [
    "If we run the `find_top_songs` function below, we'll see that it breaks.  We'll need to import a couple of functions into the `top_songs` file to get our function to work."
   ]
  },
  {
   "cell_type": "markdown",
   "metadata": {},
   "source": [
    "> Trying running the code below to see the error message."
   ]
  },
  {
   "cell_type": "code",
   "execution_count": 27,
   "metadata": {},
   "outputs": [
    {
     "data": {
      "text/plain": [
       "['Caroline, No', 'God Only Knows', 'Sloop John B']"
      ]
     },
     "execution_count": 27,
     "metadata": {},
     "output_type": "execute_result"
    }
   ],
   "source": [
    "pet_sounds = albums_tracks[1]\n",
    "find_top_songs(pet_sounds, songs)\n",
    "# ['Caroline, No', 'God Only Knows', 'Sloop John B']"
   ]
  },
  {
   "cell_type": "markdown",
   "metadata": {},
   "source": [
    "Ok, the reason why `tracks` is not defined is because it's defined in a different file.  Use import to load it into the `top_songs` file.  Then call the `from top_songs import find_top_songs` statement again so that the notebook see the changes."
   ]
  },
  {
   "cell_type": "markdown",
   "metadata": {},
   "source": [
    "If `tracks` is now loaded in, we should see another error that `find_song` is not defined."
   ]
  },
  {
   "cell_type": "markdown",
   "metadata": {},
   "source": [
    "> Make the necessary changes to fix this error."
   ]
  },
  {
   "cell_type": "markdown",
   "metadata": {},
   "source": [
    "You can check that your function is working by re-executing it.  It should output\n",
    "\n",
    "`['Caroline, No', 'God Only Knows', 'Sloop John B']`."
   ]
  },
  {
   "cell_type": "markdown",
   "metadata": {},
   "source": [
    "### One File to Load Them All"
   ]
  },
  {
   "cell_type": "markdown",
   "metadata": {},
   "source": [
    "Finally, let's create a file that loads each of the others called `index.py`.  Again use the `touch` command to create the file."
   ]
  },
  {
   "cell_type": "markdown",
   "metadata": {},
   "source": [
    "Then import all of the functions in our codebase into the `index` file.\n",
    "\n",
    "If it works, we can simply load up the code available in the index file, and use it in our notebook."
   ]
  },
  {
   "cell_type": "code",
   "execution_count": 30,
   "metadata": {},
   "outputs": [],
   "source": [
    "# from index import *"
   ]
  },
  {
   "cell_type": "markdown",
   "metadata": {},
   "source": [
    "Let's check that we can now use the functions written in our codebase."
   ]
  },
  {
   "cell_type": "code",
   "execution_count": null,
   "metadata": {},
   "outputs": [],
   "source": [
    "track = 'With A Little Help From My Friends - Remix'\n",
    "clean_track(track)\n",
    "# 'With A Little Help From My Friends'"
   ]
  },
  {
   "cell_type": "markdown",
   "metadata": {},
   "source": [
    "### Summary"
   ]
  },
  {
   "cell_type": "markdown",
   "metadata": {},
   "source": [
    "In this lab, we saw how to connect files together with the import statement.  We also saw that how to fix errors in our files through the use of import.  Finally, we practiced loading our codebase into one aggrgegating file and then importing that file to gain access code in our codebase."
   ]
  }
 ],
 "metadata": {
  "kernelspec": {
   "display_name": "Python 3",
   "language": "python",
   "name": "python3"
  },
  "language_info": {
   "codemirror_mode": {
    "name": "ipython",
    "version": 3
   },
   "file_extension": ".py",
   "mimetype": "text/x-python",
   "name": "python",
   "nbconvert_exporter": "python",
   "pygments_lexer": "ipython3",
   "version": "3.7.4"
  }
 },
 "nbformat": 4,
 "nbformat_minor": 4
}
