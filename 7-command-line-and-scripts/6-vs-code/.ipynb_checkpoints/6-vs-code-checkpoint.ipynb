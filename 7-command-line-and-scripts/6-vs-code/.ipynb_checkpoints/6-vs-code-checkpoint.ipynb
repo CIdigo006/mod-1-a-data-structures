{
 "cells": [
  {
   "cell_type": "markdown",
   "id": "39c4d8d4-9da3-4a24-a809-6fc762fdbbb9",
   "metadata": {},
   "source": [
    "# Working with VS Code"
   ]
  },
  {
   "cell_type": "markdown",
   "id": "92123e50-4a04-485c-9f60-d2d1ba82528a",
   "metadata": {},
   "source": [
    "### Introduction"
   ]
  },
  {
   "cell_type": "markdown",
   "id": "09bbb905-a34e-49b7-bb2a-3996b491f38a",
   "metadata": {},
   "source": [
    "In this lesson, we'll begin to set up VS Code.  Along the way, we'll learn about the VS code package manager."
   ]
  },
  {
   "cell_type": "markdown",
   "id": "10f052ee-2f86-4035-a0bb-351c7dc35873",
   "metadata": {},
   "source": [
    "### Downloading VS Code"
   ]
  },
  {
   "cell_type": "markdown",
   "id": "3ca03612-24ee-4b0d-81df-b63b8facc3fd",
   "metadata": {},
   "source": [
    "Go to the [following website](https://code.visualstudio.com/) and then download visual studio code.  From here, click show in finder, and then double click on the package."
   ]
  },
  {
   "cell_type": "markdown",
   "id": "9069355e-46e8-44fe-82d0-cdb05e959d7f",
   "metadata": {},
   "source": [
    "<img src=\"./show-in-finder.png\" width=\"70%\">"
   ]
  },
  {
   "cell_type": "markdown",
   "id": "f8aa8eb5-5f2d-43b6-aece-37e9a305a490",
   "metadata": {},
   "source": [
    "From there, we can open VS Code."
   ]
  },
  {
   "cell_type": "markdown",
   "id": "5dd6960d-bce9-4e43-b89a-5d2b506ef05f",
   "metadata": {},
   "source": [
    "### Getting set up"
   ]
  },
  {
   "cell_type": "markdown",
   "id": "c9f4a67a-ef8a-4b5e-9baa-d158a8b1e2ad",
   "metadata": {},
   "source": [
    "Now VS Code comes with various packages that can be installed.  After opening VS Code, press `cmd + shift + p` on the keyboard.  This opens up the package manager, and from there, type `code`."
   ]
  },
  {
   "cell_type": "markdown",
   "id": "0118cc85-62d9-4577-9c57-01a145921611",
   "metadata": {},
   "source": [
    "> <img src=\"./code-path.png\" width=\"70%\">"
   ]
  },
  {
   "cell_type": "markdown",
   "id": "27bb9e0b-818c-43b0-b5e4-628368e27a86",
   "metadata": {},
   "source": [
    "Then press return to install the `Shell command` package."
   ]
  },
  {
   "cell_type": "markdown",
   "id": "26dc778e-eed5-469a-bc01-0b3cdc4d1bb7",
   "metadata": {},
   "source": [
    "The benefit of this package, is that now we can open up VS code in a folder of our choosing."
   ]
  },
  {
   "cell_type": "markdown",
   "id": "81fc0ad0-60cc-4043-b181-29090e34ebfc",
   "metadata": {},
   "source": [
    "### Opening VS Code"
   ]
  },
  {
   "cell_type": "markdown",
   "id": "2fa8d67e-e7fa-454a-94cd-5c9055abb106",
   "metadata": {},
   "source": [
    "For example, we can now close any terminal that may be open.  And then re-open the terminal."
   ]
  },
  {
   "cell_type": "markdown",
   "id": "a305100d-3b9e-4336-a872-7f6f7101a7ad",
   "metadata": {},
   "source": [
    "Then, create a new folder called practice."
   ]
  },
  {
   "cell_type": "markdown",
   "id": "c46ca5f8-4051-4c2a-8b26-3551e181fd31",
   "metadata": {},
   "source": [
    "<img src=\"./practice.png\" width=\"40%\">"
   ]
  },
  {
   "cell_type": "markdown",
   "id": "9fe9dbec-5de5-473c-92c3-0d647dfae997",
   "metadata": {},
   "source": [
    "And `cd` into that folder.  Then from inside of that folder, type `code .`."
   ]
  },
  {
   "cell_type": "markdown",
   "id": "24080dcf-f607-4440-87eb-489134e3d3b8",
   "metadata": {},
   "source": [
    "<img src=\"./code-dot.png\" width=\"40%\">"
   ]
  },
  {
   "cell_type": "markdown",
   "id": "5fc48ebd-e885-4377-9f97-7d071891e08d",
   "metadata": {},
   "source": [
    "We'll see that VS Code opens up, and does so inside of the `practice` folder."
   ]
  },
  {
   "cell_type": "markdown",
   "id": "b40db8eb-55b3-46af-b1c7-db16ba5f10de",
   "metadata": {},
   "source": [
    "<img src=\"./practice-folder.png\" width=\"70%\">"
   ]
  },
  {
   "cell_type": "markdown",
   "id": "93d17fac-346e-44e5-9b53-ebdaff185f82",
   "metadata": {},
   "source": [
    "Now, from here, if we create a new file, that file will be created inside of the `practice` folder."
   ]
  },
  {
   "cell_type": "markdown",
   "id": "b8e55860-51b6-4f6a-9bab-2db30d87f818",
   "metadata": {},
   "source": [
    "<img src=\"./new-file.png\" width=\"40%\">"
   ]
  },
  {
   "cell_type": "markdown",
   "id": "db81c723-40f8-44a9-a3e3-cc9636293c20",
   "metadata": {},
   "source": [
    "We can then create a new file called `index.py`."
   ]
  },
  {
   "cell_type": "markdown",
   "id": "ffd61e39-6de9-41e7-833a-2e0404738899",
   "metadata": {},
   "source": [
    "<img src=\"./index.png\" width=\"40%\">"
   ]
  },
  {
   "cell_type": "markdown",
   "id": "0c5d2d89-3ed3-4e31-9f18-c5984e753113",
   "metadata": {},
   "source": [
    "And we'll see that file in the `practice` folder."
   ]
  },
  {
   "cell_type": "markdown",
   "id": "83590e87-59d8-4ba9-a0f8-5169b8eb8cb0",
   "metadata": {},
   "source": [
    "<img src=\"practice-index.png\" width=\"40%\">"
   ]
  },
  {
   "cell_type": "markdown",
   "id": "d99a90f1-8375-45d3-8e42-f7dff97aedd5",
   "metadata": {},
   "source": [
    "### Summary"
   ]
  },
  {
   "cell_type": "markdown",
   "id": "66e9de95-f286-4ccb-b104-eacccdbadbf2",
   "metadata": {},
   "source": [
    "In this lesson we saw how to get started with VS code, which included installing a package by using the package manager and typing `cmd + shift +p`, and then using the `Shell command` package to open up VS code in the correct folder."
   ]
  },
  {
   "cell_type": "code",
   "execution_count": null,
   "id": "e4ea3a94-d7ed-48cf-b747-34f9d9ac1c54",
   "metadata": {},
   "outputs": [],
   "source": []
  }
 ],
 "metadata": {
  "kernelspec": {
   "display_name": "Python 3 (ipykernel)",
   "language": "python",
   "name": "python3"
  },
  "language_info": {
   "codemirror_mode": {
    "name": "ipython",
    "version": 3
   },
   "file_extension": ".py",
   "mimetype": "text/x-python",
   "name": "python",
   "nbconvert_exporter": "python",
   "pygments_lexer": "ipython3",
   "version": "3.9.10"
  }
 },
 "nbformat": 4,
 "nbformat_minor": 5
}
