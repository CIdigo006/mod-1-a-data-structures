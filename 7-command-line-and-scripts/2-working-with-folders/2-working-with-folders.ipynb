{
 "cells": [
  {
   "cell_type": "markdown",
   "metadata": {},
   "source": [
    "# Working with Folders"
   ]
  },
  {
   "cell_type": "markdown",
   "metadata": {},
   "source": [
    "### Introduction"
   ]
  },
  {
   "cell_type": "markdown",
   "metadata": {},
   "source": [
    "In the last lesson, we saw how we use bash to create, remove, and move files.  In this lesson, let's see how we can use bash to perform similar operations with folders."
   ]
  },
  {
   "cell_type": "markdown",
   "metadata": {},
   "source": [
    "### Working with Folders"
   ]
  },
  {
   "cell_type": "markdown",
   "metadata": {},
   "source": [
    "Now that we've seen how to work with files, let's see how to work with folders, or directories.  We can make a new directory with `mkdir` followed by the name of the directory."
   ]
  },
  {
   "cell_type": "code",
   "execution_count": 1,
   "metadata": {},
   "outputs": [],
   "source": [
    "!mkdir practice"
   ]
  },
  {
   "cell_type": "markdown",
   "metadata": {},
   "source": [
    "And we can remove a directory with `rm -rf ` followed by the name of the directory."
   ]
  },
  {
   "cell_type": "code",
   "execution_count": 2,
   "metadata": {},
   "outputs": [],
   "source": [
    "rm -rf practice"
   ]
  },
  {
   "cell_type": "markdown",
   "metadata": {},
   "source": [
    "> **Warning**: Be careful with `rm -rf`.  It will remove the folder you specify and any folders or contents inside.  There is no way to undo the command."
   ]
  },
  {
   "cell_type": "markdown",
   "metadata": {},
   "source": [
    "Let's create another folder called `temp`."
   ]
  },
  {
   "cell_type": "code",
   "execution_count": 3,
   "metadata": {},
   "outputs": [],
   "source": [
    "!mkdir temp"
   ]
  },
  {
   "cell_type": "markdown",
   "metadata": {},
   "source": [
    "And let's create a file inside of that new folder."
   ]
  },
  {
   "cell_type": "code",
   "execution_count": 4,
   "metadata": {},
   "outputs": [],
   "source": [
    "!touch temp/readme.txt"
   ]
  },
  {
   "cell_type": "markdown",
   "metadata": {},
   "source": [
    "Now if we want to work inside of the `temp` folder, we can move into it by `changing our directory` with the `cd` command."
   ]
  },
  {
   "cell_type": "code",
   "execution_count": 6,
   "metadata": {},
   "outputs": [],
   "source": [
    "!cd temp/"
   ]
  },
  {
   "cell_type": "markdown",
   "metadata": {},
   "source": [
    "> Notice that now, if we type `ls` we will see `readme.txt` file.  Although this may not work inside of the notebook."
   ]
  },
  {
   "cell_type": "code",
   "execution_count": 7,
   "metadata": {},
   "outputs": [
    {
     "name": "stdout",
     "output_type": "stream",
     "text": [
      "2-working-with-folders.ipynb \u001b[34mtemp\u001b[m\u001b[m\n"
     ]
    }
   ],
   "source": [
    "!ls\n",
    "# readme.txt"
   ]
  },
  {
   "cell_type": "markdown",
   "metadata": {},
   "source": [
    "### Where are we? Absolute and Relative Paths"
   ]
  },
  {
   "cell_type": "markdown",
   "metadata": {},
   "source": [
    "Now we just moved inside of the `temp` folder by calling `cd temp`.  When we are moving between folders, it can be easier to forget where we are located.  Let's print our working directory. "
   ]
  },
  {
   "cell_type": "code",
   "execution_count": 19,
   "metadata": {},
   "outputs": [
    {
     "data": {
      "text/plain": [
       "'/Users/jeff/Documents/jigsaw/curriculum/1-section-content/mod-1/2-datatypes/1-fundamentals/a-fundamentals/command-line/8-working-with-folders'"
      ]
     },
     "execution_count": 19,
     "metadata": {},
     "output_type": "execute_result"
    }
   ],
   "source": [
    "pwd\n",
    "# '/Users/jeff/Documents/jigsaw/curriculum/\n",
    "# 1-section-content/mod-1/2-datatypes/\n",
    "# 1-fundamentals/a-fundamentals/command-line/8-working-with-folders'"
   ]
  },
  {
   "cell_type": "markdown",
   "metadata": {},
   "source": [
    "`pwd` shows us the absolute path to the current folder we are in.  So for example, for the folder I am in, we can start with at the root directory `/Users`, and then go to the `jeff` folder, and so on."
   ]
  },
  {
   "cell_type": "markdown",
   "metadata": {},
   "source": [
    "If we ever want to change the directory into this folder, we can just type `cd` followed by the absolute path to the folder. "
   ]
  },
  {
   "cell_type": "markdown",
   "metadata": {},
   "source": [
    "* We have options"
   ]
  },
  {
   "cell_type": "markdown",
   "metadata": {},
   "source": [
    "Notice that we just saw two ways to navigate to a folder.  One way is the absolute path, which shows us the path from the root path (here beginning with `Users`) to the folder location.\n",
    "\n",
    "And we can also navigate to a folder with the relative path, which is what we saw with the `cd temp`.  With the relative path, we specify the path relative to the current directory."
   ]
  },
  {
   "cell_type": "markdown",
   "metadata": {},
   "source": [
    "### Relative Paths"
   ]
  },
  {
   "cell_type": "markdown",
   "metadata": {},
   "source": [
    "Let's learn a little bit more about relative paths.  With most commands, by default, bash generally assumes that we would like to perform the command *relative* to our current work directory.  For example, when we list the files, it lists the files in the current directory.  And if we want to list the files in folder, it assumes the folder is *relative* to our current directory."
   ]
  },
  {
   "cell_type": "code",
   "execution_count": 20,
   "metadata": {},
   "outputs": [
    {
     "name": "stdout",
     "output_type": "stream",
     "text": [
      "2-working-with-folders.ipynb  \u001b[34mtemp\u001b[m\u001b[m/\n"
     ]
    }
   ],
   "source": [
    "ls"
   ]
  },
  {
   "cell_type": "code",
   "execution_count": 21,
   "metadata": {},
   "outputs": [
    {
     "name": "stdout",
     "output_type": "stream",
     "text": [
      "readme.txt\n"
     ]
    }
   ],
   "source": [
    "ls temp"
   ]
  },
  {
   "cell_type": "markdown",
   "metadata": {},
   "source": [
    "Now one way to explicitly indictate the current directory is with `.`."
   ]
  },
  {
   "cell_type": "code",
   "execution_count": 22,
   "metadata": {},
   "outputs": [
    {
     "name": "stdout",
     "output_type": "stream",
     "text": [
      "2-working-with-folders.ipynb  \u001b[34mtemp\u001b[m\u001b[m/\n"
     ]
    }
   ],
   "source": [
    "ls ."
   ]
  },
  {
   "cell_type": "markdown",
   "metadata": {},
   "source": [
    "And if we want to indicate the folder just outside of the current directory, we can use `..`."
   ]
  },
  {
   "cell_type": "code",
   "execution_count": 23,
   "metadata": {},
   "outputs": [
    {
     "name": "stdout",
     "output_type": "stream",
     "text": [
      "\u001b[34m7-command-line-intro\u001b[m\u001b[m/   \u001b[34m8-working-with-folders\u001b[m\u001b[m/\n"
     ]
    }
   ],
   "source": [
    "ls .."
   ]
  },
  {
   "cell_type": "markdown",
   "metadata": {},
   "source": [
    "So above, we are listing the contents of the folder outside of the current one."
   ]
  },
  {
   "cell_type": "markdown",
   "metadata": {},
   "source": [
    "But if we preferred, any of these commands also work with the absolute path.  For example, let's first find the absolute path of the folder outside of the current one.  And then list it's contents."
   ]
  },
  {
   "cell_type": "code",
   "execution_count": 24,
   "metadata": {},
   "outputs": [
    {
     "data": {
      "text/plain": [
       "'/Users/jeff/Documents/jigsaw/curriculum/1-section-content/mod-1/2-datatypes/1-fundamentals/a-fundamentals/command-line/8-working-with-folders'"
      ]
     },
     "execution_count": 24,
     "metadata": {},
     "output_type": "execute_result"
    }
   ],
   "source": [
    "pwd .."
   ]
  },
  {
   "cell_type": "markdown",
   "metadata": {},
   "source": [
    "Copy the output from above, and place it after the `ls` command below."
   ]
  },
  {
   "cell_type": "code",
   "execution_count": 26,
   "metadata": {},
   "outputs": [
    {
     "name": "stdout",
     "output_type": "stream",
     "text": [
      "2-working-with-folders.ipynb  \u001b[34mtemp\u001b[m\u001b[m/\n"
     ]
    }
   ],
   "source": [
    "ls "
   ]
  },
  {
   "cell_type": "markdown",
   "metadata": {},
   "source": [
    "### Summary"
   ]
  },
  {
   "cell_type": "markdown",
   "metadata": {},
   "source": [
    "In this lesson, we learned about working with directories, as well as the absolute and relative path.  \n",
    "\n",
    "* We saw that we can make a directory with:\n",
    "    * `mkdir name_of_folder`\n",
    "* And remove a directory with:\n",
    "    * `rm -rf name_of_folder`"
   ]
  },
  {
   "cell_type": "markdown",
   "metadata": {},
   "source": [
    "Then we learned about absolute and relative paths.  \n",
    "* We can see the absolute path to the current directory with `pwd`, which stands for print working directory.  \n",
    "* We can reference the relative path with `.`\n",
    "* We can reference a folder above the current directory with `..`\n",
    "\n",
    "For the bash commands we have learned so far (`ls`, `touch`, `cd`), we can pass the commands either a relative or absolute path."
   ]
  }
 ],
 "metadata": {
  "kernelspec": {
   "display_name": "Python 3",
   "language": "python",
   "name": "python3"
  },
  "language_info": {
   "codemirror_mode": {
    "name": "ipython",
    "version": 3
   },
   "file_extension": ".py",
   "mimetype": "text/x-python",
   "name": "python",
   "nbconvert_exporter": "python",
   "pygments_lexer": "ipython3",
   "version": "3.7.4"
  }
 },
 "nbformat": 4,
 "nbformat_minor": 4
}
