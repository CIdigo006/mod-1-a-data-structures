{
 "cells": [
  {
   "cell_type": "markdown",
   "id": "e1c36fdb-2b4c-46d0-8516-dbb5afbad737",
   "metadata": {},
   "source": [
    "# Terminal Shortcuts"
   ]
  },
  {
   "cell_type": "markdown",
   "id": "41fb89d7-53fe-4a59-9302-03a935af8dff",
   "metadata": {},
   "source": [
    "A. Working with tabs\n",
    "\n",
    "1. Alternate between tabs\n",
    "    * Cmd + shift + right bracket\n",
    "    * Cmd + shift + left bracket\n",
    "2. Create a new tab\n",
    "    * Cmd + t\n",
    "3. Close a tab\n",
    "    * Cmd + w"
   ]
  },
  {
   "cell_type": "markdown",
   "id": "55dc0f4c-c96e-4e7a-b907-a1e6a459cc47",
   "metadata": {},
   "source": [
    "B. Working through applications\n",
    "1. Alternate between different applications\n",
    "    * Cmd + tab        \n",
    "2. Alternate between different instances of same application\n",
    "    * Cmd + ~"
   ]
  },
  {
   "cell_type": "code",
   "execution_count": null,
   "id": "7948aa39-8eb8-49aa-97e5-d3cd3ecb956a",
   "metadata": {},
   "outputs": [],
   "source": []
  }
 ],
 "metadata": {
  "kernelspec": {
   "display_name": "Python 3 (ipykernel)",
   "language": "python",
   "name": "python3"
  },
  "language_info": {
   "codemirror_mode": {
    "name": "ipython",
    "version": 3
   },
   "file_extension": ".py",
   "mimetype": "text/x-python",
   "name": "python",
   "nbconvert_exporter": "python",
   "pygments_lexer": "ipython3",
   "version": "3.9.7"
  }
 },
 "nbformat": 4,
 "nbformat_minor": 5
}
