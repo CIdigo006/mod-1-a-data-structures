{
 "cells": [
  {
   "cell_type": "markdown",
   "metadata": {},
   "source": [
    "# Commands for Git Commits - Code Along"
   ]
  },
  {
   "cell_type": "markdown",
   "metadata": {},
   "source": [
    "### Introduction"
   ]
  },
  {
   "cell_type": "markdown",
   "metadata": {},
   "source": [
    "In the last lesson, we saw an overview of the Git workflow for saving changes with Git.  In this lesson, we'll walk through this workflow again. "
   ]
  },
  {
   "cell_type": "markdown",
   "metadata": {},
   "source": [
    "### Creating Files and Initializing a Repository"
   ]
  },
  {
   "cell_type": "markdown",
   "metadata": {},
   "source": [
    "Let's start by creating our `album.py` file, and then initializing a repository."
   ]
  },
  {
   "cell_type": "code",
   "execution_count": 1,
   "metadata": {},
   "outputs": [],
   "source": [
    "!touch album.py"
   ]
  },
  {
   "cell_type": "markdown",
   "metadata": {},
   "source": [
    "Now write `git init` to initialize the repository.  \n",
    "> Remember to do this in a Jupyter notebook, precede each command with an exclamation point (`!git init`)."
   ]
  },
  {
   "cell_type": "code",
   "execution_count": 2,
   "metadata": {},
   "outputs": [
    {
     "name": "stdout",
     "output_type": "stream",
     "text": [
      "Initialized empty Git repository in /Users/jeff/Documents/jigsaw/curriculum/1-section-content/mod-1/2-datatypes/a-fundamentals/9-github/2-git-commands/.git/\n"
     ]
    }
   ],
   "source": [
    "!git init\n",
    "# Initialized empty Git repository"
   ]
  },
  {
   "cell_type": "markdown",
   "metadata": {},
   "source": [
    "We can check that our repository is there with `ls -a` which lists all files."
   ]
  },
  {
   "cell_type": "code",
   "execution_count": 6,
   "metadata": {},
   "outputs": [],
   "source": [
    "\n",
    "# ./                  .git/               album.py\n",
    "# ../                 .ipynb_checkpoints/ index.ipynb"
   ]
  },
  {
   "cell_type": "markdown",
   "metadata": {},
   "source": [
    "Now add the code below to the `album.py` file.\n",
    "\n",
    "```python\n",
    "def find_by_name(album, name):\n",
    "    return [album for albums where album['name'] == name]\n",
    "```"
   ]
  },
  {
   "cell_type": "markdown",
   "metadata": {},
   "source": [
    "### Git Commands"
   ]
  },
  {
   "cell_type": "markdown",
   "metadata": {},
   "source": [
    "1. Git status"
   ]
  },
  {
   "cell_type": "markdown",
   "metadata": {},
   "source": [
    "Git status gives us an overview of the changes that we made thus far, and shows us any files that are staged to be committed.  Type `!git status` in the cell below."
   ]
  },
  {
   "cell_type": "code",
   "execution_count": 7,
   "metadata": {},
   "outputs": [
    {
     "name": "stdout",
     "output_type": "stream",
     "text": [
      "On branch master\n",
      "\n",
      "No commits yet\n",
      "\n",
      "Untracked files:\n",
      "  (use \"git add <file>...\" to include in what will be committed)\n",
      "\n",
      "\t\u001b[31m.ipynb_checkpoints/\u001b[m\n",
      "\t\u001b[31malbum.py\u001b[m\n",
      "\t\u001b[31mindex.ipynb\u001b[m\n",
      "\n",
      "nothing added to commit but untracked files present (use \"git add\" to track)\n"
     ]
    }
   ],
   "source": [
    "\n",
    "\n",
    "# On branch master\n",
    "\n",
    "# No commits yet\n",
    "\n",
    "# Untracked files:\n",
    "#   (use \"git add <file>...\" to include in what will be committed)"
   ]
  },
  {
   "cell_type": "markdown",
   "metadata": {},
   "source": [
    "So we see that two files, and the `.ipynb_checkpoints` folder listed.  The next step is to specify which files we would like to commit."
   ]
  },
  {
   "cell_type": "markdown",
   "metadata": {},
   "source": [
    "2. Git add"
   ]
  },
  {
   "cell_type": "markdown",
   "metadata": {},
   "source": [
    "If we want to commit certain files, we first need to add them to staging.  Let's just add the `album.py` file.\n",
    "\n",
    "Type `git add album.py` below."
   ]
  },
  {
   "cell_type": "code",
   "execution_count": 9,
   "metadata": {},
   "outputs": [],
   "source": []
  },
  {
   "cell_type": "markdown",
   "metadata": {},
   "source": [
    "> **Why `git add`?** Git has an `add` step before committing because, while we are coding, we could be working on multiple problems at the same time.  By giving us the option of adding only certain files, this allows to only add files related to a specific commit.  For example, above, only the `album.py` file has code related to searching for an album.  The `index.ipynb` file does not."
   ]
  },
  {
   "cell_type": "markdown",
   "metadata": {},
   "source": [
    "Now let's see that we did this correctly by typing `git status`."
   ]
  },
  {
   "cell_type": "code",
   "execution_count": 10,
   "metadata": {},
   "outputs": [
    {
     "name": "stdout",
     "output_type": "stream",
     "text": [
      "On branch master\n",
      "\n",
      "No commits yet\n",
      "\n",
      "Changes to be committed:\n",
      "  (use \"git rm --cached <file>...\" to unstage)\n",
      "\n",
      "\t\u001b[32mnew file:   album.py\u001b[m\n",
      "\n",
      "Untracked files:\n",
      "  (use \"git add <file>...\" to include in what will be committed)\n",
      "\n",
      "\t\u001b[31m.ipynb_checkpoints/\u001b[m\n",
      "\t\u001b[31mindex.ipynb\u001b[m\n",
      "\n"
     ]
    }
   ],
   "source": []
  },
  {
   "cell_type": "markdown",
   "metadata": {},
   "source": [
    "Ok, so we see that only the `album.py` file is to be committed."
   ]
  },
  {
   "cell_type": "markdown",
   "metadata": {},
   "source": [
    "3. Git commit"
   ]
  },
  {
   "cell_type": "markdown",
   "metadata": {},
   "source": [
    "Now we can save our change by writing `git commit -m ` followed by a message, like `git commit -m 'add album search'`.  \n",
    "\n",
    "> The `-m` stands for message."
   ]
  },
  {
   "cell_type": "markdown",
   "metadata": {},
   "source": [
    "Ok, now make a git commit with a related message below."
   ]
  },
  {
   "cell_type": "code",
   "execution_count": 11,
   "metadata": {},
   "outputs": [
    {
     "name": "stdout",
     "output_type": "stream",
     "text": [
      "[master (root-commit) 0fb3d78] add album search\n",
      " 1 file changed, 2 insertions(+)\n",
      " create mode 100644 album.py\n"
     ]
    }
   ],
   "source": []
  },
  {
   "cell_type": "markdown",
   "metadata": {},
   "source": [
    "So that's how we make a git commit.  We first write `git add` followed by the file we want to commit.  Then we write `git commit -m 'message'` to make the commit."
   ]
  },
  {
   "cell_type": "markdown",
   "metadata": {},
   "source": [
    "### Viewing the Changes"
   ]
  },
  {
   "cell_type": "markdown",
   "metadata": {},
   "source": [
    "Once we have made our commit, we can view the commit with `git log`."
   ]
  },
  {
   "cell_type": "code",
   "execution_count": 13,
   "metadata": {},
   "outputs": [
    {
     "name": "stdout",
     "output_type": "stream",
     "text": [
      "\u001b[33mcommit 0fb3d7884011cff33a84bb8625e5f55835ccec4c\u001b[m\u001b[33m (\u001b[m\u001b[1;36mHEAD -> \u001b[m\u001b[1;32mmaster\u001b[m\u001b[33m)\u001b[m\n",
      "Author: Jeff Katz <JeffreyEricKatz@gmail.com>\n",
      "Date:   Wed Feb 5 12:21:18 2020 -0500\n",
      "\n",
      "    add album search\n"
     ]
    }
   ],
   "source": []
  },
  {
   "cell_type": "markdown",
   "metadata": {},
   "source": [
    "And then we can view the change saved in that commit with `git show`."
   ]
  },
  {
   "cell_type": "code",
   "execution_count": 14,
   "metadata": {},
   "outputs": [
    {
     "name": "stdout",
     "output_type": "stream",
     "text": [
      "\u001b[33mcommit 0fb3d7884011cff33a84bb8625e5f55835ccec4c\u001b[m\u001b[33m (\u001b[m\u001b[1;36mHEAD -> \u001b[m\u001b[1;32mmaster\u001b[m\u001b[33m)\u001b[m\n",
      "Author: Jeff Katz <JeffreyEricKatz@gmail.com>\n",
      "Date:   Wed Feb 5 12:21:18 2020 -0500\n",
      "\n",
      "    add album search\n",
      "\n",
      "\u001b[1mdiff --git a/album.py b/album.py\u001b[m\n",
      "\u001b[1mnew file mode 100644\u001b[m\n",
      "\u001b[1mindex 0000000..fae6ce5\u001b[m\n",
      "\u001b[1m--- /dev/null\u001b[m\n",
      "\u001b[1m+++ b/album.py\u001b[m\n",
      "\u001b[36m@@ -0,0 +1,2 @@\u001b[m\n",
      "\u001b[32m+\u001b[m\u001b[32mdef find_by_name(album, name):\u001b[m\n",
      "\u001b[32m+\u001b[m\u001b[32m    return [album for albums where album['name'] == name]\u001b[m\n",
      "\\ No newline at end of file\u001b[m\n"
     ]
    }
   ],
   "source": []
  },
  {
   "cell_type": "markdown",
   "metadata": {},
   "source": [
    "### Where we are now"
   ]
  },
  {
   "cell_type": "markdown",
   "metadata": {},
   "source": [
    "Let's see what git status says now, now that we have our first commit.  Check the status below."
   ]
  },
  {
   "cell_type": "code",
   "execution_count": 15,
   "metadata": {},
   "outputs": [
    {
     "name": "stdout",
     "output_type": "stream",
     "text": [
      "On branch master\n",
      "Untracked files:\n",
      "  (use \"git add <file>...\" to include in what will be committed)\n",
      "\n",
      "\t\u001b[31m.ipynb_checkpoints/\u001b[m\n",
      "\t\u001b[31mindex.ipynb\u001b[m\n",
      "\n",
      "nothing added to commit but untracked files present (use \"git add\" to track)\n"
     ]
    }
   ],
   "source": []
  },
  {
   "cell_type": "markdown",
   "metadata": {},
   "source": [
    "Now let's make a commit related to the `index.ipynb` file.  The first step is to use the `git add ` command.  Add the `index.ipynb` file below. "
   ]
  },
  {
   "cell_type": "code",
   "execution_count": 25,
   "metadata": {},
   "outputs": [],
   "source": []
  },
  {
   "cell_type": "markdown",
   "metadata": {},
   "source": [
    "Then check what was added."
   ]
  },
  {
   "cell_type": "code",
   "execution_count": 20,
   "metadata": {},
   "outputs": [
    {
     "name": "stdout",
     "output_type": "stream",
     "text": [
      "/bin/sh: replace: command not found\n"
     ]
    }
   ],
   "source": [
    "\n",
    "#On branch master\n",
    "# Changes to be committed:\n",
    "#  (use \"git reset HEAD <file>...\" to unstage)\n",
    "# .."
   ]
  },
  {
   "cell_type": "markdown",
   "metadata": {},
   "source": [
    "Finally make the commit along with a message `git practice`."
   ]
  },
  {
   "cell_type": "code",
   "execution_count": 26,
   "metadata": {},
   "outputs": [
    {
     "name": "stdout",
     "output_type": "stream",
     "text": [
      "[master e825909] git practice\n",
      " 1 file changed, 74 insertions(+)\n"
     ]
    }
   ],
   "source": []
  },
  {
   "cell_type": "markdown",
   "metadata": {},
   "source": [
    "* View your changes."
   ]
  },
  {
   "cell_type": "markdown",
   "metadata": {},
   "source": [
    "Now look at the log of all of the commits in our git repository.  We should now see two commits."
   ]
  },
  {
   "cell_type": "code",
   "execution_count": 28,
   "metadata": {},
   "outputs": [
    {
     "name": "stdout",
     "output_type": "stream",
     "text": [
      "\u001b[33mcommit e825909ea805a621697ad9ac0ee063e7c87cabdd\u001b[m\u001b[33m (\u001b[m\u001b[1;36mHEAD -> \u001b[m\u001b[1;32mmaster\u001b[m\u001b[33m)\u001b[m\n",
      "Author: Jeff Katz <JeffreyEricKatz@gmail.com>\n",
      "Date:   Wed Feb 5 12:34:35 2020 -0500\n",
      "\n",
      "    git practice\n",
      "\n",
      "\u001b[33mcommit 884aa7b720f1a30873dc59037493be207796d79f\u001b[m\n",
      "Author: Jeff Katz <JeffreyEricKatz@gmail.com>\n",
      "Date:   Wed Feb 5 12:33:53 2020 -0500\n",
      "\n",
      "    git practice\n",
      "\n",
      "\u001b[33mcommit 0fb3d7884011cff33a84bb8625e5f55835ccec4c\u001b[m\n",
      "Author: Jeff Katz <JeffreyEricKatz@gmail.com>\n",
      "Date:   Wed Feb 5 12:21:18 2020 -0500\n",
      "\n",
      "    add album search\n"
     ]
    }
   ],
   "source": []
  },
  {
   "cell_type": "markdown",
   "metadata": {},
   "source": [
    "Now view our current status."
   ]
  },
  {
   "cell_type": "code",
   "execution_count": 32,
   "metadata": {},
   "outputs": [
    {
     "name": "stdout",
     "output_type": "stream",
     "text": [
      "On branch master\n",
      "Changes not staged for commit:\n",
      "  (use \"git add <file>...\" to update what will be committed)\n",
      "  (use \"git checkout -- <file>...\" to discard changes in working directory)\n",
      "\n",
      "\t\u001b[31mmodified:   index.ipynb\u001b[m\n",
      "\n",
      "Untracked files:\n",
      "  (use \"git add <file>...\" to include in what will be committed)\n",
      "\n",
      "\t\u001b[31m.ipynb_checkpoints/\u001b[m\n",
      "\n",
      "no changes added to commit (use \"git add\" and/or \"git commit -a\")\n"
     ]
    }
   ],
   "source": []
  },
  {
   "cell_type": "markdown",
   "metadata": {},
   "source": [
    "Notice that we no longer see anything about `album.py` listed.  This is because `album.py` we already saved the changes we made to `album.py`.  There are no new changes to save in that file."
   ]
  },
  {
   "cell_type": "markdown",
   "metadata": {},
   "source": [
    "> If you add a couple of lines to the `album.py` file and run `git status` again, you will see the `album.py` file listed as something that was changed and can be added to a commit."
   ]
  },
  {
   "cell_type": "markdown",
   "metadata": {},
   "source": [
    "### Summary"
   ]
  },
  {
   "cell_type": "markdown",
   "metadata": {},
   "source": [
    "In this lesson, we better understood the commands for making a git commit.  To do so we start with `git add` to specify the files to commit, and then `git commit -m 'message'` to create a git commit along with the message.  \n",
    "\n",
    "Then we saw how to view our commits.  We do so with `git log`.  Finally, if we want to see the contents of a commit, we can view the most recent commit with `git show`."
   ]
  }
 ],
 "metadata": {
  "kernelspec": {
   "display_name": "Python 3",
   "language": "python",
   "name": "python3"
  },
  "language_info": {
   "codemirror_mode": {
    "name": "ipython",
    "version": 3
   },
   "file_extension": ".py",
   "mimetype": "text/x-python",
   "name": "python",
   "nbconvert_exporter": "python",
   "pygments_lexer": "ipython3",
   "version": "3.8.3"
  }
 },
 "nbformat": 4,
 "nbformat_minor": 4
}
