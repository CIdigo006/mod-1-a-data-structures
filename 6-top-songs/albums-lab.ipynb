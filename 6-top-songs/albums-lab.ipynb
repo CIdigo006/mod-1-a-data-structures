{
 "cells": [
  {
   "cell_type": "markdown",
   "metadata": {},
   "source": [
    "# Albums and Songs Lab"
   ]
  },
  {
   "cell_type": "markdown",
   "metadata": {},
   "source": [
    "### Introduction"
   ]
  },
  {
   "cell_type": "markdown",
   "metadata": {},
   "source": [
    "In this lesson, we'll use the skills we have learned over the past several lessons to answer questions about the top songs, artists and albums over the past fifty years."
   ]
  },
  {
   "cell_type": "markdown",
   "metadata": {},
   "source": [
    "### Working with Songs"
   ]
  },
  {
   "cell_type": "markdown",
   "metadata": {},
   "source": [
    "Let's start by working with data regarding top 500 albums according to the Rolling Stone Magazine."
   ]
  },
  {
   "cell_type": "code",
   "execution_count": 1,
   "metadata": {},
   "outputs": [],
   "source": [
    "import pandas as pd\n",
    "url = \"https://raw.githubusercontent.com/eng-6-22/mod-1-a-data-structures/master/6-top-songs/data.csv\"\n",
    "df = pd.read_csv(url)\n",
    "albums = df.to_dict('records')"
   ]
  },
  {
   "cell_type": "code",
   "execution_count": 7,
   "metadata": {},
   "outputs": [],
   "source": [
    "# albums[:2]"
   ]
  },
  {
   "cell_type": "code",
   "execution_count": 6,
   "metadata": {},
   "outputs": [
    {
     "data": {
      "text/plain": [
       "478"
      ]
     },
     "execution_count": 6,
     "metadata": {},
     "output_type": "execute_result"
    }
   ],
   "source": [
    "len(albums)"
   ]
  },
  {
   "cell_type": "markdown",
   "metadata": {},
   "source": [
    "> Well, 478."
   ]
  },
  {
   "cell_type": "markdown",
   "metadata": {},
   "source": [
    "Let's write some functions to help us better explore the data."
   ]
  },
  {
   "cell_type": "markdown",
   "metadata": {},
   "source": [
    "* `all_albums` - Takes an argument of albums and returns the list of album names.\n",
    "\n",
    "* `all_artists` - Takes argument of list of albums and returns a list of all artists (where each element is a string), and no artist is repeated. \n",
    "\n",
    "* `find_by_name` - Has one argument of `album_name`. Returns a dictionary of the correct album, or `None` if no album is found.\n",
    "\n",
    "* `find_by_ranks` - Takes `begin_rank` and `end_rank` as arguments.  Also possible to execute the function by just providing the `begin_rank` or `end_rank` (and not both).  If no arguments are provided the entire list of albums are returned.\n",
    "\n",
    "* `find_by_years` - Takes `begin_year` and `end_year` as arguments, and returns a list of dictionaries for albums between those years.  Also possible to execute the function by just providing the `begin_year` or `end_year` (and not both)."
   ]
  },
  {
   "cell_type": "markdown",
   "metadata": {},
   "source": [
    "### Working with Songs"
   ]
  },
  {
   "cell_type": "markdown",
   "metadata": {},
   "source": [
    "Next, let's load up data related to songs, and data that connects albums and songs."
   ]
  },
  {
   "cell_type": "code",
   "execution_count": 1,
   "metadata": {},
   "outputs": [],
   "source": [
    "import pandas as pd\n",
    "songs_url = \"https://raw.githubusercontent.com/eng-6-22/mod-1-a-data-structures/master/6-top-songs/top-500-songs.txt\"\n",
    "songs_df = pd.read_csv(songs_url, sep='\\t', header = None, names = ['rank', 'song', 'artist', 'year'])\n",
    "songs = songs_df.to_dict('records')\n",
    "\n",
    "track_url = \"https://raw.githubusercontent.com/eng-6-22/mod-1-a-data-structures/master/6-top-songs/track_data.json\"\n",
    "albums_and_tracks = pd.read_json(track_url)\n",
    "albums_tracks = albums_and_tracks.to_dict('records')"
   ]
  },
  {
   "cell_type": "code",
   "execution_count": 6,
   "metadata": {},
   "outputs": [
    {
     "data": {
      "text/plain": [
       "[{'rank': 1,\n",
       "  'song': 'Like a Rolling Stone',\n",
       "  'artist': 'Bob Dylan',\n",
       "  'year': 1965},\n",
       " {'rank': 2,\n",
       "  'song': 'Satisfaction',\n",
       "  'artist': 'The Rolling Stones',\n",
       "  'year': 1965},\n",
       " {'rank': 3, 'song': 'Imagine', 'artist': 'John Lennon', 'year': 1971},\n",
       " {'rank': 4, 'song': \"What's Going On\", 'artist': 'Marvin Gaye', 'year': 1971},\n",
       " {'rank': 5, 'song': 'Respect', 'artist': 'Aretha Franklin', 'year': 1967}]"
      ]
     },
     "execution_count": 6,
     "metadata": {},
     "output_type": "execute_result"
    }
   ],
   "source": [
    "songs[:5]"
   ]
  },
  {
   "cell_type": "code",
   "execution_count": 4,
   "metadata": {},
   "outputs": [
    {
     "data": {
      "text/plain": [
       "{'artist': 'The Beatles',\n",
       " 'album': \"Sgt. Pepper's Lonely Hearts Club Band\",\n",
       " 'tracks': [\"Sgt. Pepper's Lonely Hearts Club Band - Remix\",\n",
       "  'With A Little Help From My Friends - Remix',\n",
       "  'Lucy In The Sky With Diamonds - Remix',\n",
       "  'Getting Better - Remix',\n",
       "  'Fixing A Hole - Remix',\n",
       "  \"She's Leaving Home - Remix\",\n",
       "  'Being For The Benefit Of Mr. Kite! - Remix',\n",
       "  'Within You Without You - Remix',\n",
       "  \"When I'm Sixty-Four - Remix\",\n",
       "  'Lovely Rita - Remix',\n",
       "  'Good Morning Good Morning - Remix',\n",
       "  \"Sgt. Pepper's Lonely Hearts Club Band (Reprise) - Remix\",\n",
       "  'A Day In The Life - Remix',\n",
       "  \"Sgt. Pepper's Lonely Hearts Club Band - Take 9 And Speech\",\n",
       "  'With A Little Help From My Friends - Take 1 / False Start And Take 2 / Instrumental',\n",
       "  'Lucy In The Sky With Diamonds - Take 1',\n",
       "  'Getting Better - Take 1 / Instrumental And Speech At The End',\n",
       "  'Fixing A Hole - Speech And Take 3',\n",
       "  \"She's Leaving Home - Take 1 / Instrumental\",\n",
       "  'Being For The Benefit Of Mr. Kite! - Take 4',\n",
       "  'Within You Without You - Take 1 / Indian Instruments',\n",
       "  \"When I'm Sixty-Four - Take 2\",\n",
       "  'Lovely Rita - Speech And Take 9',\n",
       "  'Good Morning Good Morning - Take 8',\n",
       "  \"Sgt. Pepper's Lonely Hearts Club Band (Reprise) - Speech And Take 8\",\n",
       "  'A Day In The Life - Take 1 With Hums',\n",
       "  'Strawberry Fields Forever - Take 7',\n",
       "  'Strawberry Fields Forever - Take 26',\n",
       "  'Strawberry Fields Forever - Stereo Mix 2015',\n",
       "  'Penny Lane - Take 6 / Instrumental',\n",
       "  'Penny Lane - Stereo Mix 2017']}"
      ]
     },
     "execution_count": 4,
     "metadata": {},
     "output_type": "execute_result"
    }
   ],
   "source": [
    "albums_tracks[0]"
   ]
  },
  {
   "cell_type": "markdown",
   "metadata": {},
   "source": [
    "* Write functions that perform the following: "
   ]
  },
  {
   "cell_type": "markdown",
   "metadata": {},
   "source": [
    "`album_most_top_songs` - \n",
    "    * Returns the name of the artist and album that has that most songs featured on the top 500 songs list\n",
    "\n",
    "`top_ten_albums_by_songs` - returns a dictionary with the 10 albums that have the most songs that appear in the top songs list. The album names should be the keys and the corresponding values should be the number of songs that appear on the top 500 list."
   ]
  }
 ],
 "metadata": {
  "kernelspec": {
   "display_name": "Python 3 (ipykernel)",
   "language": "python",
   "name": "python3"
  },
  "language_info": {
   "codemirror_mode": {
    "name": "ipython",
    "version": 3
   },
   "file_extension": ".py",
   "mimetype": "text/x-python",
   "name": "python",
   "nbconvert_exporter": "python",
   "pygments_lexer": "ipython3",
   "version": "3.9.10"
  }
 },
 "nbformat": 4,
 "nbformat_minor": 4
}
