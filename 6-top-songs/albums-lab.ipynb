{
 "cells": [
  {
   "cell_type": "markdown",
   "metadata": {},
   "source": [
    "# Albums and Songs Lab"
   ]
  },
  {
   "cell_type": "markdown",
   "metadata": {},
   "source": [
    "### Introduction"
   ]
  },
  {
   "cell_type": "markdown",
   "metadata": {},
   "source": [
    "In this lesson, we'll use the skills we have learned over the past several lessons to answer questions about the top songs, artists and albums over the past fifty years."
   ]
  },
  {
   "cell_type": "markdown",
   "metadata": {},
   "source": [
    "### Working with Songs"
   ]
  },
  {
   "cell_type": "markdown",
   "metadata": {},
   "source": [
    "Let's start by working with data regarding top 500 albums according to the Rolling Stone Magazine."
   ]
  },
  {
   "cell_type": "code",
   "execution_count": 3,
   "metadata": {},
   "outputs": [],
   "source": [
    "import pandas as pd\n",
    "url = \"https://raw.githubusercontent.com/eng-6-22/mod-1-a-data-structures/master/6-top-songs/data.csv\"\n",
    "df = pd.read_csv(url)\n",
    "albums = df.to_dict('records')"
   ]
  },
  {
   "cell_type": "code",
   "execution_count": 4,
   "metadata": {},
   "outputs": [],
   "source": [
    "# albums[:2]"
   ]
  },
  {
   "cell_type": "code",
   "execution_count": 5,
   "metadata": {},
   "outputs": [
    {
     "data": {
      "text/plain": [
       "478"
      ]
     },
     "execution_count": 5,
     "metadata": {},
     "output_type": "execute_result"
    }
   ],
   "source": [
    "len(albums)"
   ]
  },
  {
   "cell_type": "markdown",
   "metadata": {},
   "source": [
    "> Well, 478."
   ]
  },
  {
   "cell_type": "markdown",
   "metadata": {},
   "source": [
    "Let's write some functions to help us better explore the data."
   ]
  },
  {
   "cell_type": "markdown",
   "metadata": {},
   "source": [
    "* `all_albums` - Takes an argument of albums and returns the list of album names."
   ]
  },
  {
   "cell_type": "code",
   "execution_count": 8,
   "metadata": {},
   "outputs": [],
   "source": [
    "def all_albums(albums):\n",
    "    pass"
   ]
  },
  {
   "cell_type": "code",
   "execution_count": null,
   "metadata": {},
   "outputs": [],
   "source": [
    "all_albums(albums)[:4]\n",
    "# [\"Sgt. Pepper's Lonely Hearts Club Band\",\n",
    " # 'Pet Sounds',\n",
    " # 'Revolver',\n",
    " # 'Highway 61 Revisited']"
   ]
  },
  {
   "cell_type": "markdown",
   "metadata": {},
   "source": [
    "* `all_artists` - Takes argument of list of albums and returns a list of all artists (where each element is a string), and no artist is repeated. \n",
    "\n"
   ]
  },
  {
   "cell_type": "code",
   "execution_count": 9,
   "metadata": {},
   "outputs": [],
   "source": [
    "def all_artists(albums):\n",
    "    pass"
   ]
  },
  {
   "cell_type": "code",
   "execution_count": null,
   "metadata": {},
   "outputs": [],
   "source": [
    "sorted(all_artists(albums))[:4]\n",
    "\n",
    "# ['A Tribe Called Quest', 'ABBA', 'AC/DC', 'Aerosmith']"
   ]
  },
  {
   "cell_type": "markdown",
   "metadata": {},
   "source": [
    "* `find_by_name` - Has one argument of `album_name`. Returns a dictionary of the correct album, or `None` if no album is found.\n"
   ]
  },
  {
   "cell_type": "code",
   "execution_count": 11,
   "metadata": {},
   "outputs": [],
   "source": [
    "def find_by_name(album_name):\n",
    "    pass"
   ]
  },
  {
   "cell_type": "code",
   "execution_count": null,
   "metadata": {},
   "outputs": [],
   "source": [
    "find_by_name('Pet Sounds')\n",
    "# {'number': 2,\n",
    "#  'year': 1966,\n",
    "#  'album': 'Pet Sounds',\n",
    "#  'artist': 'The Beach Boys',\n",
    "#  'genre': 'Rock',\n",
    "#  'subgenre': 'Pop Rock, Psychedelic Rock'}\n",
    "\n",
    "find_by_name('foobar') == None\n",
    "# True"
   ]
  },
  {
   "cell_type": "markdown",
   "metadata": {},
   "source": [
    "* `find_by_ranks` - Takes `begin_rank` and `end_rank` as arguments.  Also possible to execute the function by just providing the `begin_rank` or `end_rank` (and not both).  If no arguments are provided the entire list of albums are returned.\n",
    "\n"
   ]
  },
  {
   "cell_type": "code",
   "execution_count": null,
   "metadata": {},
   "outputs": [],
   "source": [
    "find_by_ranks(10, 12)\n",
    "# [{'number': 10,\n",
    "#   'year': 1968,\n",
    "#   'album': 'The Beatles (\"The White Album\")',\n",
    "#   'artist': 'The Beatles',\n",
    "#   'genre': 'Rock',\n",
    "#   'subgenre': 'Rock & Roll, Pop Rock, Psychedelic Rock, Experimental'},\n",
    "#  {'number': 11,\n",
    "#   'year': 1976,\n",
    "#   'album': 'The Sun Sessions',\n",
    "#   'artist': 'Elvis Presley',\n",
    "#   'genre': 'Rock',\n",
    "#   'subgenre': 'Rock & Roll'},\n",
    "#  {'number': 12,\n",
    "#   'year': 1959,\n",
    "#   'album': 'Kind of Blue',\n",
    "#   'artist': 'Miles Davis',\n",
    "#   'genre': 'Jazz',\n",
    "#   'subgenre': 'Modal'}]"
   ]
  },
  {
   "cell_type": "code",
   "execution_count": null,
   "metadata": {},
   "outputs": [],
   "source": [
    "find_by_ranks(498)\n",
    "\n",
    "# [{'number': 498,\n",
    "#   'year': 1989,\n",
    "#   'album': 'The Stone Roses',\n",
    "#   'artist': 'The Stone Roses',\n",
    "#   'genre': 'Rock',\n",
    "#   'subgenre': 'Indie Rock'},\n",
    "#  {'number': 499,\n",
    "#   'year': 1971,\n",
    "#   'album': 'Live in Cook County Jail',\n",
    "#   'artist': 'B.B. King',\n",
    "#   'genre': 'Blues',\n",
    "#   'subgenre': 'Electric Blues'},\n",
    "#  {'number': 500,\n",
    "#   'year': 1998,\n",
    "#   'album': 'Aquemini',\n",
    "#   'artist': 'OutKast',\n",
    "#   'genre': 'Hip Hop',\n",
    "#   'subgenre': 'Reggae, Gangsta, Soul, Conscious'}]"
   ]
  },
  {
   "cell_type": "code",
   "execution_count": null,
   "metadata": {},
   "outputs": [],
   "source": [
    "len(find_by_rank())\n",
    "# 478"
   ]
  },
  {
   "cell_type": "markdown",
   "metadata": {},
   "source": [
    "* `find_by_years` - Takes `begin_year` and `end_year` as arguments, and returns a list of dictionaries for albums between those years.  Also possible to execute the function by just providing the `begin_year` or `end_year` (and not both)."
   ]
  },
  {
   "cell_type": "code",
   "execution_count": null,
   "metadata": {},
   "outputs": [],
   "source": [
    "find_by_years(2008, 2009)\n",
    "\n",
    "# [{'number': 437,\n",
    "#   'year': 2008,\n",
    "#   'album': 'Tha Carter III',\n",
    "#   'artist': 'Lil Wayne',\n",
    "#   'genre': 'Hip Hop, Funk / Soul',\n",
    "#   'subgenre': 'RnB/Swing, Screw, Pop Rap, Thug Rap'}]"
   ]
  },
  {
   "cell_type": "code",
   "execution_count": null,
   "metadata": {},
   "outputs": [],
   "source": [
    "find_by_years(2009)\n",
    "\n",
    "# [{'number': 353,\n",
    "#   'year': 2010,\n",
    "#   'album': 'My Beautiful Dark Twisted Fantasy',\n",
    "#   'artist': 'Kanye West',\n",
    "#   'genre': 'Hip Hop',\n",
    "#   'subgenre': 'None'},\n",
    "#  {'number': 381,\n",
    "#   'year': 2011,\n",
    "#   'album': 'The Smile Sessions',\n",
    "#   'artist': 'The Beach Boys',\n",
    "#   'genre': 'Rock',\n",
    "#   'subgenre': 'Pop Rock, Psychedelic Rock'}]"
   ]
  },
  {
   "cell_type": "code",
   "execution_count": null,
   "metadata": {},
   "outputs": [],
   "source": [
    "len(find_by_years())\n",
    "# 478"
   ]
  },
  {
   "cell_type": "markdown",
   "metadata": {},
   "source": [
    "### Working with Songs"
   ]
  },
  {
   "cell_type": "markdown",
   "metadata": {},
   "source": [
    "Next, let's load up data related to songs, and data that connects albums and songs."
   ]
  },
  {
   "cell_type": "code",
   "execution_count": 12,
   "metadata": {},
   "outputs": [],
   "source": [
    "import pandas as pd\n",
    "songs_url = \"https://raw.githubusercontent.com/eng-6-22/mod-1-a-data-structures/master/6-top-songs/top-500-songs.txt\"\n",
    "songs_df = pd.read_csv(songs_url, sep='\\t', header = None, names = ['rank', 'song', 'artist', 'year'])\n",
    "top_songs = songs_df.to_dict('records')\n",
    "\n",
    "track_url = \"https://raw.githubusercontent.com/eng-6-22/mod-1-a-data-structures/master/6-top-songs/track_data.json\"\n",
    "albums_and_tracks = pd.read_json(track_url)\n",
    "albums_tracks = albums_and_tracks.to_dict('records')"
   ]
  },
  {
   "cell_type": "markdown",
   "metadata": {},
   "source": [
    "We can see that the top songs has the top 500 songs."
   ]
  },
  {
   "cell_type": "code",
   "execution_count": 13,
   "metadata": {},
   "outputs": [
    {
     "data": {
      "text/plain": [
       "500"
      ]
     },
     "execution_count": 13,
     "metadata": {},
     "output_type": "execute_result"
    }
   ],
   "source": [
    "len(top_songs)\n",
    "# 500"
   ]
  },
  {
   "cell_type": "code",
   "execution_count": 6,
   "metadata": {},
   "outputs": [
    {
     "data": {
      "text/plain": [
       "[{'rank': 1,\n",
       "  'song': 'Like a Rolling Stone',\n",
       "  'artist': 'Bob Dylan',\n",
       "  'year': 1965},\n",
       " {'rank': 2,\n",
       "  'song': 'Satisfaction',\n",
       "  'artist': 'The Rolling Stones',\n",
       "  'year': 1965},\n",
       " {'rank': 3, 'song': 'Imagine', 'artist': 'John Lennon', 'year': 1971},\n",
       " {'rank': 4, 'song': \"What's Going On\", 'artist': 'Marvin Gaye', 'year': 1971},\n",
       " {'rank': 5, 'song': 'Respect', 'artist': 'Aretha Franklin', 'year': 1967}]"
      ]
     },
     "execution_count": 6,
     "metadata": {},
     "output_type": "execute_result"
    }
   ],
   "source": [
    "top_songs[:5]"
   ]
  },
  {
   "cell_type": "markdown",
   "metadata": {},
   "source": [
    "And that the albums tracks has information that connects a song (the tracks) to a specific album."
   ]
  },
  {
   "cell_type": "code",
   "execution_count": 4,
   "metadata": {},
   "outputs": [
    {
     "data": {
      "text/plain": [
       "{'artist': 'The Beatles',\n",
       " 'album': \"Sgt. Pepper's Lonely Hearts Club Band\",\n",
       " 'tracks': [\"Sgt. Pepper's Lonely Hearts Club Band - Remix\",\n",
       "  'With A Little Help From My Friends - Remix',\n",
       "  'Lucy In The Sky With Diamonds - Remix',\n",
       "  'Getting Better - Remix',\n",
       "  'Fixing A Hole - Remix',\n",
       "  \"She's Leaving Home - Remix\",\n",
       "  'Being For The Benefit Of Mr. Kite! - Remix',\n",
       "  'Within You Without You - Remix',\n",
       "  \"When I'm Sixty-Four - Remix\",\n",
       "  'Lovely Rita - Remix',\n",
       "  'Good Morning Good Morning - Remix',\n",
       "  \"Sgt. Pepper's Lonely Hearts Club Band (Reprise) - Remix\",\n",
       "  'A Day In The Life - Remix',\n",
       "  \"Sgt. Pepper's Lonely Hearts Club Band - Take 9 And Speech\",\n",
       "  'With A Little Help From My Friends - Take 1 / False Start And Take 2 / Instrumental',\n",
       "  'Lucy In The Sky With Diamonds - Take 1',\n",
       "  'Getting Better - Take 1 / Instrumental And Speech At The End',\n",
       "  'Fixing A Hole - Speech And Take 3',\n",
       "  \"She's Leaving Home - Take 1 / Instrumental\",\n",
       "  'Being For The Benefit Of Mr. Kite! - Take 4',\n",
       "  'Within You Without You - Take 1 / Indian Instruments',\n",
       "  \"When I'm Sixty-Four - Take 2\",\n",
       "  'Lovely Rita - Speech And Take 9',\n",
       "  'Good Morning Good Morning - Take 8',\n",
       "  \"Sgt. Pepper's Lonely Hearts Club Band (Reprise) - Speech And Take 8\",\n",
       "  'A Day In The Life - Take 1 With Hums',\n",
       "  'Strawberry Fields Forever - Take 7',\n",
       "  'Strawberry Fields Forever - Take 26',\n",
       "  'Strawberry Fields Forever - Stereo Mix 2015',\n",
       "  'Penny Lane - Take 6 / Instrumental',\n",
       "  'Penny Lane - Stereo Mix 2017']}"
      ]
     },
     "execution_count": 4,
     "metadata": {},
     "output_type": "execute_result"
    }
   ],
   "source": [
    "albums_tracks[0]"
   ]
  },
  {
   "cell_type": "markdown",
   "metadata": {},
   "source": [
    "* Write functions that perform the following: "
   ]
  },
  {
   "cell_type": "markdown",
   "metadata": {},
   "source": [
    "`top_ten_artists_by_songs` - returns a dictionary with the 10 artists that have the most songs that appear in the top songs list. "
   ]
  },
  {
   "cell_type": "markdown",
   "metadata": {},
   "source": [
    "`album_most_top_songs` - \n",
    "    * Returns the name of the top ten *albums* that has that have the most songs featured on the top 500 songs list, and the amount of songs each album has listed.\n",
    "```\n",
    "[('Elvis Presley', 8),\n",
    " ('The Sun Records Collection', 6),\n",
    " ('Greatest Hits', 6),\n",
    " ('The Great Twenty Eight', 5),\n",
    " ('Bringing It All Back Home', 4),\n",
    " ('Are You Experienced', 4),\n",
    " ('Portrait of a Legend 1951-1964', 4),\n",
    " ('Abbey Road', 3),\n",
    " ('Pet Sounds', 3),\n",
    " ('Wheels of Fire', 3)]\n",
    "```\n"
   ]
  },
  {
   "cell_type": "code",
   "execution_count": null,
   "metadata": {},
   "outputs": [],
   "source": []
  }
 ],
 "metadata": {
  "kernelspec": {
   "display_name": "Python 3 (ipykernel)",
   "language": "python",
   "name": "python3"
  },
  "language_info": {
   "codemirror_mode": {
    "name": "ipython",
    "version": 3
   },
   "file_extension": ".py",
   "mimetype": "text/x-python",
   "name": "python",
   "nbconvert_exporter": "python",
   "pygments_lexer": "ipython3",
   "version": "3.10.6"
  }
 },
 "nbformat": 4,
 "nbformat_minor": 4
}
